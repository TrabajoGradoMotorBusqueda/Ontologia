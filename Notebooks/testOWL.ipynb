{
 "cells": [
  {
   "cell_type": "code",
   "execution_count": 4,
   "metadata": {},
   "outputs": [
    {
     "name": "stdout",
     "output_type": "stream",
     "text": [
      "['/home/sangeeky/RepositoriosTG/Ontologia/Notebooks', '/home/sangeeky/anaconda3/lib/python37.zip', '/home/sangeeky/anaconda3/lib/python3.7', '/home/sangeeky/anaconda3/lib/python3.7/lib-dynload', '', '/home/sangeeky/anaconda3/lib/python3.7/site-packages', '/home/sangeeky/anaconda3/lib/python3.7/site-packages/IPython/extensions', '/home/sangeeky/.ipython']\n"
     ]
    }
   ],
   "source": [
    "#Codigo a ser implementado despues\n",
    "index_docentes = resumenes_docentes.index.values.tolist()\n",
    "index_docentes_clean = resumenes_docentes.index.dropna().values.tolist()\n",
    "\n",
    "i=0\n",
    "while(i < len(index_docentes)):\n",
    "    numerito = numerito if math.isnan(index_docentes[i]) else index_docentes[i]\n",
    "    #print(numerito)\n",
    "    if(math.isnan(index_docentes[i])):\n",
    "        index_docentes[i] = numerito\n",
    "    i+=1\n",
    "\n",
    "index_docentes"
   ]
  },
  {
   "cell_type": "markdown",
   "metadata": {},
   "source": [
    "Importaremos Librerias\n",
    " - pandas\n",
    " - owlready2\n",
    " - graphviz )?"
   ]
  },
  {
   "cell_type": "code",
   "execution_count": 2,
   "metadata": {},
   "outputs": [],
   "source": [
    "import pandas as pd \n",
    "import numpy as np\n",
    "import math\n",
    "from owlready2 import *\n"
   ]
  },
  {
   "cell_type": "code",
   "execution_count": 11,
   "metadata": {},
   "outputs": [],
   "source": [
    "#Leemos DF\n",
    "resumenes_docentes = pd.read_excel(\"./Data/Resumenes.xlsx\", index_col=0 ,sheet_name = \"Proyectos Docentes\")\n",
    "resumenes_estudiantes = pd.read_excel(\"./Data/Resumenes.xlsx\", index_col=0,sheet_name=\"studiantiles y Trabajos de G\")\n",
    "\n",
    "#Asignamos Columnas\n",
    "resumenes_docentes.columns = [\"codigo\", \"titulo\", \"resumen\", \"estado\", \"id_autor\", \"nombre_autor\", \n",
    "                     \"programa\", \"facultad\", \"convocatoria\", \"grupo_investigacion\", \"linea_investigacion\", \"palabras_clave\"]\n",
    "\n",
    "resumenes_estudiantes.columns = ['codigo', 'titulo', 'resumen', 'estado', 'id_autor', 'nombre_autor',\n",
    "       'programa', 'departamento', 'facultad', 'nombre_asesor', 'convocatoria', 'grupo_investigacion', 'linea_investigacion', 'palabras_clave']\n",
    "\n",
    "#Eliminamos NAN\n",
    "resumenes_docentes.dropna(inplace=True)\n",
    "resumenes_estudiantes.dropna(inplace=True)"
   ]
  }
 ],
 "metadata": {
  "kernelspec": {
   "display_name": "Python 3",
   "language": "python",
   "name": "python3"
  },
  "language_info": {
   "codemirror_mode": {
    "name": "ipython",
    "version": 3
   },
   "file_extension": ".py",
   "mimetype": "text/x-python",
   "name": "python",
   "nbconvert_exporter": "python",
   "pygments_lexer": "ipython3",
   "version": "3.7.7"
  }
 },
 "nbformat": 4,
 "nbformat_minor": 4
}
