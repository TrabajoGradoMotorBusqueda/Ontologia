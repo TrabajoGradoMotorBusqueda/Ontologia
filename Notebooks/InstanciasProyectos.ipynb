{
 "cells": [
  {
   "cell_type": "code",
   "execution_count": 1,
   "metadata": {},
   "outputs": [],
   "source": [
    "import pandas as pd \n",
    "from ontologia import *"
   ]
  },
  {
   "cell_type": "code",
   "execution_count": 2,
   "metadata": {},
   "outputs": [],
   "source": [
    "resumenes_docentes = pd.read_excel(\"./Data/Resumenes.xlsx\", index_col=0 ,sheet_name = \"Proyectos Docentes\", dtype=\"str\")\n",
    "resumenes_estudiantes = pd.read_excel(\"./Data/Resumenes.xlsx\", index_col=0,sheet_name=\"studiantiles y Trabajos de G\", dtype=\"str\")\n",
    "\n",
    "#Asignamos Columnas\n",
    "resumenes_docentes.columns = [\"codigo\", \"titulo\", \"resumen\", \"estado\", \"id_autor\", \"nombre_autor\", \n",
    "                     \"programa\", \"facultad\", \"convocatoria\", \"grupo_investigacion\", \"linea_investigacion\", \"palabras_clave\"]\n",
    "\n",
    "resumenes_estudiantes.columns = ['codigo', 'titulo', 'resumen', 'estado', 'id_autor', 'nombre_autor',\n",
    "       'programa', 'departamento', 'facultad', 'nombre_asesor', 'convocatoria', 'grupo_investigacion', 'linea_investigacion', 'palabras_clave']\n",
    "\n",
    "#Eliminamos NAN\n",
    "resumenes_docentes.dropna(inplace=True)\n",
    "resumenes_estudiantes.dropna(inplace=True)"
   ]
  },
  {
   "cell_type": "code",
   "execution_count": 3,
   "metadata": {},
   "outputs": [
    {
     "data": {
      "text/html": [
       "<div>\n",
       "<style scoped>\n",
       "    .dataframe tbody tr th:only-of-type {\n",
       "        vertical-align: middle;\n",
       "    }\n",
       "\n",
       "    .dataframe tbody tr th {\n",
       "        vertical-align: top;\n",
       "    }\n",
       "\n",
       "    .dataframe thead th {\n",
       "        text-align: right;\n",
       "    }\n",
       "</style>\n",
       "<table border=\"1\" class=\"dataframe\">\n",
       "  <thead>\n",
       "    <tr style=\"text-align: right;\">\n",
       "      <th></th>\n",
       "      <th>codigo</th>\n",
       "      <th>titulo</th>\n",
       "      <th>resumen</th>\n",
       "      <th>estado</th>\n",
       "      <th>id_autor</th>\n",
       "      <th>nombre_autor</th>\n",
       "      <th>programa</th>\n",
       "      <th>facultad</th>\n",
       "      <th>convocatoria</th>\n",
       "      <th>grupo_investigacion</th>\n",
       "      <th>linea_investigacion</th>\n",
       "      <th>palabras_clave</th>\n",
       "    </tr>\n",
       "    <tr>\n",
       "      <th>No.</th>\n",
       "      <th></th>\n",
       "      <th></th>\n",
       "      <th></th>\n",
       "      <th></th>\n",
       "      <th></th>\n",
       "      <th></th>\n",
       "      <th></th>\n",
       "      <th></th>\n",
       "      <th></th>\n",
       "      <th></th>\n",
       "      <th></th>\n",
       "      <th></th>\n",
       "    </tr>\n",
       "  </thead>\n",
       "  <tbody>\n",
       "    <tr>\n",
       "      <th>1.0</th>\n",
       "      <td>1464.0</td>\n",
       "      <td>\"Diagnóstico del impacto de las iniciativas em...</td>\n",
       "      <td>El emprendimiento es entre otras acepciones es...</td>\n",
       "      <td>Vencido</td>\n",
       "      <td>13515.0</td>\n",
       "      <td>Francisco Rafael Ayala</td>\n",
       "      <td>Diseño</td>\n",
       "      <td>Artes</td>\n",
       "      <td>Docente 2017</td>\n",
       "      <td>Currículo y Universidad</td>\n",
       "      <td>Curriculos pertinentes</td>\n",
       "      <td>Diagnóstico</td>\n",
       "    </tr>\n",
       "    <tr>\n",
       "      <th>2.0</th>\n",
       "      <td>1367.0</td>\n",
       "      <td>Acoso Escolar (Bullying) en San Juan de Pasto....</td>\n",
       "      <td>A nivel mundial, uno de cada tres escolares ha...</td>\n",
       "      <td>Prorroga</td>\n",
       "      <td>11902.0</td>\n",
       "      <td>Harvey Mauricio Herrera Lopez</td>\n",
       "      <td>Psicología</td>\n",
       "      <td>Ciencias Humanas</td>\n",
       "      <td>Docente 2017</td>\n",
       "      <td>Psicología y Salud</td>\n",
       "      <td>Aspectos Psicosociales en Procesos de Salud</td>\n",
       "      <td>Acoso Escolar</td>\n",
       "    </tr>\n",
       "    <tr>\n",
       "      <th>3.0</th>\n",
       "      <td>1343.0</td>\n",
       "      <td>ACTIVIDAD ANTIBACTERIAL DE POLIFENOLES DEL AGU...</td>\n",
       "      <td>El cáncer gástrico (CG) es la principal causa ...</td>\n",
       "      <td>Vencido</td>\n",
       "      <td>10081.0</td>\n",
       "      <td>Nelson Humberto Hurtado Gutierrez</td>\n",
       "      <td>Química</td>\n",
       "      <td>Ciencias Exactas y Naturales</td>\n",
       "      <td>Docente 2016</td>\n",
       "      <td>GRUPO DE INVESTIGACIÓN EN PRODUCTOS DE IMPORTA...</td>\n",
       "      <td>Modelado molecular</td>\n",
       "      <td>cancer gastrico</td>\n",
       "    </tr>\n",
       "    <tr>\n",
       "      <th>4.0</th>\n",
       "      <td>1617.0</td>\n",
       "      <td>Actividad antibacterial y citotóxica in vitro ...</td>\n",
       "      <td>El departamento de Nariño gracias a su posició...</td>\n",
       "      <td>En Ejecución</td>\n",
       "      <td>13840.0</td>\n",
       "      <td>Orfa Alexandra España Jojoa</td>\n",
       "      <td>Biología</td>\n",
       "      <td>Ciencias Exactas y Naturales</td>\n",
       "      <td>Docente 2018</td>\n",
       "      <td>Tecnologías Emergentes en Agroindustria</td>\n",
       "      <td>Ingredientes naturales para la industria alime...</td>\n",
       "      <td>Aceites Vegetales</td>\n",
       "    </tr>\n",
       "    <tr>\n",
       "      <th>5.0</th>\n",
       "      <td>622.0</td>\n",
       "      <td>AGUA EXTRAVASCULAR PULMONAR COMO PREDICTOR DE ...</td>\n",
       "      <td>RESUMEN. El estado de choque es una condición ...</td>\n",
       "      <td>Vencido</td>\n",
       "      <td>12084.0</td>\n",
       "      <td>Hector Fabio Sanchez Galvez</td>\n",
       "      <td>Medicina</td>\n",
       "      <td>Ciencias de la Salud</td>\n",
       "      <td>Docente 2012</td>\n",
       "      <td>Grupo de Investigación en Estudios Epidemiológ...</td>\n",
       "      <td>Estudios Epidemiológicos</td>\n",
       "      <td>No se encontraron palabras clave registradas</td>\n",
       "    </tr>\n",
       "  </tbody>\n",
       "</table>\n",
       "</div>"
      ],
      "text/plain": [
       "     codigo                                             titulo  \\\n",
       "No.                                                              \n",
       "1.0  1464.0  \"Diagnóstico del impacto de las iniciativas em...   \n",
       "2.0  1367.0  Acoso Escolar (Bullying) en San Juan de Pasto....   \n",
       "3.0  1343.0  ACTIVIDAD ANTIBACTERIAL DE POLIFENOLES DEL AGU...   \n",
       "4.0  1617.0  Actividad antibacterial y citotóxica in vitro ...   \n",
       "5.0   622.0  AGUA EXTRAVASCULAR PULMONAR COMO PREDICTOR DE ...   \n",
       "\n",
       "                                               resumen        estado  \\\n",
       "No.                                                                    \n",
       "1.0  El emprendimiento es entre otras acepciones es...       Vencido   \n",
       "2.0  A nivel mundial, uno de cada tres escolares ha...      Prorroga   \n",
       "3.0  El cáncer gástrico (CG) es la principal causa ...       Vencido   \n",
       "4.0  El departamento de Nariño gracias a su posició...  En Ejecución   \n",
       "5.0  RESUMEN. El estado de choque es una condición ...       Vencido   \n",
       "\n",
       "     id_autor                       nombre_autor    programa  \\\n",
       "No.                                                            \n",
       "1.0   13515.0             Francisco Rafael Ayala      Diseño   \n",
       "2.0   11902.0      Harvey Mauricio Herrera Lopez  Psicología   \n",
       "3.0   10081.0  Nelson Humberto Hurtado Gutierrez     Química   \n",
       "4.0   13840.0        Orfa Alexandra España Jojoa    Biología   \n",
       "5.0   12084.0        Hector Fabio Sanchez Galvez    Medicina   \n",
       "\n",
       "                         facultad  convocatoria  \\\n",
       "No.                                               \n",
       "1.0                         Artes  Docente 2017   \n",
       "2.0              Ciencias Humanas  Docente 2017   \n",
       "3.0  Ciencias Exactas y Naturales  Docente 2016   \n",
       "4.0  Ciencias Exactas y Naturales  Docente 2018   \n",
       "5.0          Ciencias de la Salud  Docente 2012   \n",
       "\n",
       "                                   grupo_investigacion  \\\n",
       "No.                                                      \n",
       "1.0                            Currículo y Universidad   \n",
       "2.0                                 Psicología y Salud   \n",
       "3.0  GRUPO DE INVESTIGACIÓN EN PRODUCTOS DE IMPORTA...   \n",
       "4.0            Tecnologías Emergentes en Agroindustria   \n",
       "5.0  Grupo de Investigación en Estudios Epidemiológ...   \n",
       "\n",
       "                                   linea_investigacion  \\\n",
       "No.                                                      \n",
       "1.0                             Curriculos pertinentes   \n",
       "2.0        Aspectos Psicosociales en Procesos de Salud   \n",
       "3.0                                 Modelado molecular   \n",
       "4.0  Ingredientes naturales para la industria alime...   \n",
       "5.0                           Estudios Epidemiológicos   \n",
       "\n",
       "                                   palabras_clave  \n",
       "No.                                                \n",
       "1.0                                   Diagnóstico  \n",
       "2.0                                 Acoso Escolar  \n",
       "3.0                               cancer gastrico  \n",
       "4.0                             Aceites Vegetales  \n",
       "5.0  No se encontraron palabras clave registradas  "
      ]
     },
     "execution_count": 3,
     "metadata": {},
     "output_type": "execute_result"
    }
   ],
   "source": [
    "resumenes_docentes.head(5)"
   ]
  },
  {
   "cell_type": "markdown",
   "metadata": {},
   "source": [
    "### Funcion Crear Instancia Proyectos"
   ]
  },
  {
   "cell_type": "code",
   "execution_count": 3,
   "metadata": {},
   "outputs": [],
   "source": [
    "def instanciar_proyectos(nombre, id_investigacion, titulo, resumen, estado, tipo):\n",
    "    proyecto_investigacion = Proyecto_investigacion(nombre)\n",
    "    proyecto_investigacion.set_id(id_investigacion)\n",
    "    proyecto_investigacion.set_titulo(titulo)\n",
    "    proyecto_investigacion.set_resumen(resumen)\n",
    "    proyecto_investigacion.set_estado_proyecto_investigacion(estado)\n",
    "    proyecto_investigacion.set_tipo_proyecto_investigacion(tipo)"
   ]
  },
  {
   "cell_type": "code",
   "execution_count": 4,
   "metadata": {},
   "outputs": [],
   "source": [
    "for index, row in resumenes_docentes.iterrows():\n",
    "    instanciar_proyectos(\"proyecto_investigacion\"+str(index) , str(index), row['titulo'], row['resumen'], row['estado'], row['convocatoria'])\n"
   ]
  },
  {
   "cell_type": "code",
   "execution_count": null,
   "metadata": {},
   "outputs": [],
   "source": [
    "ontologia.save()"
   ]
  },
  {
   "cell_type": "markdown",
   "metadata": {},
   "source": [
    "### Funcion Eliminar Individuals"
   ]
  },
  {
   "cell_type": "code",
   "execution_count": 6,
   "metadata": {},
   "outputs": [],
   "source": [
    "def destruir_individual(individual):\n",
    "    destroy_entity(individual)"
   ]
  },
  {
   "cell_type": "code",
   "execution_count": 19,
   "metadata": {},
   "outputs": [],
   "source": [
    "### Eliminar TODOS los inviduals\n",
    "for individual in list(ontologia.individuals()):\n",
    "    destruir_individual(individual)"
   ]
  },
  {
   "cell_type": "code",
   "execution_count": 8,
   "metadata": {},
   "outputs": [],
   "source": [
    "# Eliminar Individuals Proyecto de Investigacion\n",
    "for individual in list(ontologia.Proyecto_investigacion.instances()):\n",
    "    destruir_individual(individual)"
   ]
  },
  {
   "cell_type": "code",
   "execution_count": 9,
   "metadata": {},
   "outputs": [
    {
     "data": {
      "text/plain": [
       "[]"
      ]
     },
     "execution_count": 9,
     "metadata": {},
     "output_type": "execute_result"
    }
   ],
   "source": [
    "list(ontologia.individuals())"
   ]
  },
  {
   "cell_type": "code",
   "execution_count": 10,
   "metadata": {},
   "outputs": [],
   "source": [
    "ontologia.save()"
   ]
  }
 ],
 "metadata": {
  "kernelspec": {
   "display_name": "Python [conda env:tesis] *",
   "language": "python",
   "name": "conda-env-tesis-py"
  },
  "language_info": {
   "codemirror_mode": {
    "name": "ipython",
    "version": 3
   },
   "file_extension": ".py",
   "mimetype": "text/x-python",
   "name": "python",
   "nbconvert_exporter": "python",
   "pygments_lexer": "ipython3",
   "version": "3.7.7"
  }
 },
 "nbformat": 4,
 "nbformat_minor": 4
}
