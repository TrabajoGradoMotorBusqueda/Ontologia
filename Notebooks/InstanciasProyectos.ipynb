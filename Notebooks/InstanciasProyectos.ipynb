{
 "cells": [
  {
   "cell_type": "markdown",
   "metadata": {},
   "source": [
    "### Librerias Importar"
   ]
  },
  {
   "cell_type": "code",
   "execution_count": 1,
   "metadata": {},
   "outputs": [],
   "source": [
    "import sys\n",
    "# insert at 1, 0 is the script path (or '' in REPL)\n",
    "sys.path.insert(1, '../Scripts')\n",
    "import pandas as pd \n",
    "from ontologia import *\n",
    "import ast\n",
    "\n",
    "#Lectura de lemas \n",
    "import json\n",
    "with open('./Resumenes/diccionario-lemas.json', 'r') as f:\n",
    "    diccionario_lemas = json.loads(f.read())"
   ]
  },
  {
   "cell_type": "markdown",
   "metadata": {},
   "source": [
    "# Carga de Resumenes con vocabulario y Lemas Añadidos\n",
    "\n",
    "- Ejecutar a partir de aqui ya que son dataset limpio y de prueba"
   ]
  },
  {
   "cell_type": "code",
   "execution_count": 2,
   "metadata": {},
   "outputs": [],
   "source": [
    "#Carga de datos\n",
    "resumenes_docentes = pd.read_csv(\"./Resumenes/ResumenesDocentes.csv\", index_col=0)\n",
    "resumenes_estudiantes = pd.read_csv(\"./Resumenes/ResumenesEstudiantes.csv\", index_col=0)"
   ]
  },
  {
   "cell_type": "code",
   "execution_count": 3,
   "metadata": {
    "scrolled": true
   },
   "outputs": [
    {
     "data": {
      "text/html": [
       "<div>\n",
       "<style scoped>\n",
       "    .dataframe tbody tr th:only-of-type {\n",
       "        vertical-align: middle;\n",
       "    }\n",
       "\n",
       "    .dataframe tbody tr th {\n",
       "        vertical-align: top;\n",
       "    }\n",
       "\n",
       "    .dataframe thead th {\n",
       "        text-align: right;\n",
       "    }\n",
       "</style>\n",
       "<table border=\"1\" class=\"dataframe\">\n",
       "  <thead>\n",
       "    <tr style=\"text-align: right;\">\n",
       "      <th></th>\n",
       "      <th>codigo</th>\n",
       "      <th>titulo</th>\n",
       "      <th>resumen</th>\n",
       "      <th>estado</th>\n",
       "      <th>id_autor</th>\n",
       "      <th>nombre_autor</th>\n",
       "      <th>programa</th>\n",
       "      <th>facultad</th>\n",
       "      <th>convocatoria</th>\n",
       "      <th>grupo_investigacion</th>\n",
       "      <th>linea_investigacion</th>\n",
       "      <th>palabras_clave</th>\n",
       "      <th>corpus</th>\n",
       "      <th>palabras_corpus</th>\n",
       "      <th>lemas_corpus</th>\n",
       "      <th>lemas_corpus_clean</th>\n",
       "      <th>vocabulario</th>\n",
       "    </tr>\n",
       "    <tr>\n",
       "      <th>index</th>\n",
       "      <th></th>\n",
       "      <th></th>\n",
       "      <th></th>\n",
       "      <th></th>\n",
       "      <th></th>\n",
       "      <th></th>\n",
       "      <th></th>\n",
       "      <th></th>\n",
       "      <th></th>\n",
       "      <th></th>\n",
       "      <th></th>\n",
       "      <th></th>\n",
       "      <th></th>\n",
       "      <th></th>\n",
       "      <th></th>\n",
       "      <th></th>\n",
       "      <th></th>\n",
       "    </tr>\n",
       "  </thead>\n",
       "  <tbody>\n",
       "    <tr>\n",
       "      <th>1</th>\n",
       "      <td>1464.0</td>\n",
       "      <td>\"Diagnóstico del impacto de las iniciativas em...</td>\n",
       "      <td>El emprendimiento es entre otras acepciones es...</td>\n",
       "      <td>Vencido</td>\n",
       "      <td>13515.0</td>\n",
       "      <td>Francisco Rafael Ayala</td>\n",
       "      <td>Diseño</td>\n",
       "      <td>Artes</td>\n",
       "      <td>Docente 2017</td>\n",
       "      <td>Currículo y Universidad</td>\n",
       "      <td>Curriculos pertinentes</td>\n",
       "      <td>Diagnóstico</td>\n",
       "      <td>\"Diagnóstico del impacto de las iniciativas em...</td>\n",
       "      <td>diagnóstico impacto iniciativas emprendedoras ...</td>\n",
       "      <td>diagnóstico impactar iniciativo emprendedor e...</td>\n",
       "      <td>diagnostico impactar iniciativo emprendedor e...</td>\n",
       "      <td>{'personar', 'mejoramiento', 'vital', 'extinci...</td>\n",
       "    </tr>\n",
       "    <tr>\n",
       "      <th>2</th>\n",
       "      <td>1367.0</td>\n",
       "      <td>Acoso Escolar (Bullying) en San Juan de Pasto....</td>\n",
       "      <td>A nivel mundial, uno de cada tres escolares ha...</td>\n",
       "      <td>Prorroga</td>\n",
       "      <td>11902.0</td>\n",
       "      <td>Harvey Mauricio Herrera Lopez</td>\n",
       "      <td>Psicología</td>\n",
       "      <td>Ciencias Humanas</td>\n",
       "      <td>Docente 2017</td>\n",
       "      <td>Psicología y Salud</td>\n",
       "      <td>Aspectos Psicosociales en Procesos de Salud</td>\n",
       "      <td>Acoso Escolar</td>\n",
       "      <td>Acoso Escolar (Bullying) en San Juan de Pasto....</td>\n",
       "      <td>acoso escolar bullying san juan pasto modelo e...</td>\n",
       "      <td>acosar escolar bullying santo juan pastar mod...</td>\n",
       "      <td>acosar escolar bullying santo juan pastar mod...</td>\n",
       "      <td>{'mental', 'sem', 'influenciar', 'mejoramiento...</td>\n",
       "    </tr>\n",
       "  </tbody>\n",
       "</table>\n",
       "</div>"
      ],
      "text/plain": [
       "       codigo                                             titulo  \\\n",
       "index                                                              \n",
       "1      1464.0  \"Diagnóstico del impacto de las iniciativas em...   \n",
       "2      1367.0  Acoso Escolar (Bullying) en San Juan de Pasto....   \n",
       "\n",
       "                                                 resumen    estado  id_autor  \\\n",
       "index                                                                          \n",
       "1      El emprendimiento es entre otras acepciones es...   Vencido   13515.0   \n",
       "2      A nivel mundial, uno de cada tres escolares ha...  Prorroga   11902.0   \n",
       "\n",
       "                        nombre_autor    programa          facultad  \\\n",
       "index                                                                \n",
       "1             Francisco Rafael Ayala      Diseño             Artes   \n",
       "2      Harvey Mauricio Herrera Lopez  Psicología  Ciencias Humanas   \n",
       "\n",
       "       convocatoria      grupo_investigacion  \\\n",
       "index                                          \n",
       "1      Docente 2017  Currículo y Universidad   \n",
       "2      Docente 2017       Psicología y Salud   \n",
       "\n",
       "                               linea_investigacion palabras_clave  \\\n",
       "index                                                               \n",
       "1                           Curriculos pertinentes    Diagnóstico   \n",
       "2      Aspectos Psicosociales en Procesos de Salud  Acoso Escolar   \n",
       "\n",
       "                                                  corpus  \\\n",
       "index                                                      \n",
       "1      \"Diagnóstico del impacto de las iniciativas em...   \n",
       "2      Acoso Escolar (Bullying) en San Juan de Pasto....   \n",
       "\n",
       "                                         palabras_corpus  \\\n",
       "index                                                      \n",
       "1      diagnóstico impacto iniciativas emprendedoras ...   \n",
       "2      acoso escolar bullying san juan pasto modelo e...   \n",
       "\n",
       "                                            lemas_corpus  \\\n",
       "index                                                      \n",
       "1       diagnóstico impactar iniciativo emprendedor e...   \n",
       "2       acosar escolar bullying santo juan pastar mod...   \n",
       "\n",
       "                                      lemas_corpus_clean  \\\n",
       "index                                                      \n",
       "1       diagnostico impactar iniciativo emprendedor e...   \n",
       "2       acosar escolar bullying santo juan pastar mod...   \n",
       "\n",
       "                                             vocabulario  \n",
       "index                                                     \n",
       "1      {'personar', 'mejoramiento', 'vital', 'extinci...  \n",
       "2      {'mental', 'sem', 'influenciar', 'mejoramiento...  "
      ]
     },
     "execution_count": 3,
     "metadata": {},
     "output_type": "execute_result"
    }
   ],
   "source": [
    "#Revision rapida de los datos\n",
    "resumenes_docentes.head(2)"
   ]
  },
  {
   "cell_type": "markdown",
   "metadata": {},
   "source": [
    "# Creando Instancias Completas "
   ]
  },
  {
   "cell_type": "code",
   "execution_count": 4,
   "metadata": {},
   "outputs": [],
   "source": [
    "def instanciar_universidad(nombre, id_u, nombre_u):\n",
    "    universidad = Universidad(nombre)\n",
    "    universidad.set_id_universidad(id_u)\n",
    "    universidad.set_nombre_universidad(nombre_u)\n",
    "    \n",
    "def instanciar_viis(nombre, id_viis, nombre_viis):\n",
    "    viis = VIIS(nombre)\n",
    "    viis.set_id_VIIS(id_viis)\n",
    "    viis.set_nombre_VIIS(nombre_viis)\n",
    "    \n",
    "def instanciar_convocatoria(nombre, id_convocatoria, nombre_convocatoria, tipo, anio):\n",
    "    convocatoria = Convocatoria(nombre)\n",
    "    convocatoria.set_id_convocatoria(id_convocatoria)\n",
    "    convocatoria.set_nombre_convocatoria(nombre_convocatoria)\n",
    "\n",
    "def instanciar_facultad(nombre, id_facultad, nombre_facultad):\n",
    "    facultad = Facultad(nombre)\n",
    "    facultad.set_id_facultad(id_facultad)\n",
    "    facultad.set_nombre_facultad(nombre_facultad)\n",
    "\n",
    "def instanciar_departamento(nombre, id_departamento, nombre_departamento):\n",
    "    departamento = Departamento(nombre)\n",
    "    departamento.set_id_departamento(id_departamento)\n",
    "    departamento.set_nombre_departamento(nombre_departamento)\n",
    "    \n",
    "def instanciar_programa(nombre, id_programa, nombre_programa):\n",
    "    programa = Programa(nombre)\n",
    "    programa.set_id_programa(id_programa)\n",
    "    programa.set_nombre_programa(nombre_programa)\n",
    "\n",
    "def instanciar_investigador(nombre, id_investigador, nombres_investigador, codigo_investigador):\n",
    "    investigador = Investigador(nombre)\n",
    "    investigador.set_id_investigador(id_investigador)\n",
    "    investigador.set_nombres_investigador(nombres_investigador)\n",
    "    investigador.set_codigo_investigador(codigo_investigador)\n",
    "\n",
    "def instanciar_proyecto(nombre, id_investigacion, titulo, resumen, estado, tipo, palabras_clave):\n",
    "    proyecto_investigacion = Proyecto_investigacion(nombre)\n",
    "    proyecto_investigacion.set_id_proyecto_investigacion(id_investigacion)\n",
    "    proyecto_investigacion.set_titulo_proyecto_investigacion(titulo)\n",
    "    proyecto_investigacion.set_resumen_proyecto_investigacion(resumen)\n",
    "    proyecto_investigacion.set_estado_proyecto_investigacion(estado)\n",
    "    proyecto_investigacion.set_tipo_proyecto_investigacion(tipo)\n",
    "    proyecto_investigacion.set_palabras_clave(palabras_clave)\n",
    "    return proyecto_investigacion\n",
    "    \n",
    "def instanciar_palabra(nombre_palabra, descripcion_palabra):\n",
    "    palabra = Palabra(nombre_palabra)\n",
    "    palabra.set_lema_palabra(nombre_palabra)\n",
    "    for descripcion in descripcion_palabra:\n",
    "        palabra.set_descripcion_palabra(descripcion)\n",
    "    return palabra\n",
    "\n",
    "def instanciar_grupo_investigacion(nombre, id_grupo, nombre_grupo):\n",
    "    grupo_investigacion = Grupo_investigacion(nombre)\n",
    "    grupo_investigacion.set_id_grupo_investigacion(id_grupo)\n",
    "    grupo_investigacion.set_nombre_grupo_investigacion(nombre_grupo)    \n",
    "    \n",
    "def instanciar_linea_investigacion(nombre, id_linea, nombre_linea):\n",
    "    linea_investigacion = Linea_investigacion(nombre)\n",
    "    linea_investigacion.set_id_linea_investigacion(id_linea)\n",
    "    linea_investigacion.set_nombre_linea_investigacion(nombre_linea)    \n",
    "      "
   ]
  },
  {
   "cell_type": "code",
   "execution_count": 5,
   "metadata": {},
   "outputs": [
    {
     "data": {
      "text/plain": [
       "8673"
      ]
     },
     "execution_count": 5,
     "metadata": {},
     "output_type": "execute_result"
    }
   ],
   "source": [
    "len(diccionario_lemas)"
   ]
  },
  {
   "cell_type": "markdown",
   "metadata": {},
   "source": [
    "## Funcion Crear Instancia Proyectos y sus Palabras"
   ]
  },
  {
   "cell_type": "code",
   "execution_count": 6,
   "metadata": {},
   "outputs": [],
   "source": [
    "#Instancias de Palabras\n",
    "# list(ontologia.Proyecto_investigacion.instances())\n",
    "def instanciar_dataset(dataset):\n",
    "    i = len(list(ontologia.Proyecto_investigacion.instances()))\n",
    "    for index, row in dataset.iterrows():\n",
    "        #if(index > 1): break\n",
    "\n",
    "        #Instanciamos el PI\n",
    "        proyecto = instanciar_proyecto(\"pi\"+str(int(index+i)) , int(index+i), row['titulo'], row['resumen'], row['estado'], row['convocatoria'], row['palabras_clave'])\n",
    "        #Instanciamos Palabras Y Relacionamos\n",
    "        vocabulario = ast.literal_eval(row['vocabulario'])\n",
    "        for palabra in vocabulario:\n",
    "            descripciones = diccionario_lemas[palabra]\n",
    "            palabra_instancia = instanciar_palabra(palabra, descripciones)\n",
    "            proyecto.relation_pi_tiene_palabra(palabra_instancia)"
   ]
  },
  {
   "cell_type": "code",
   "execution_count": 9,
   "metadata": {},
   "outputs": [
    {
     "data": {
      "text/plain": [
       "8673"
      ]
     },
     "execution_count": 9,
     "metadata": {},
     "output_type": "execute_result"
    }
   ],
   "source": [
    "palabras = ontologia.Palabra.instances()\n",
    "len(palabra)"
   ]
  },
  {
   "cell_type": "code",
   "execution_count": null,
   "metadata": {},
   "outputs": [],
   "source": [
    "ontologia.Palabra.get_descripcion_palabra"
   ]
  },
  {
   "cell_type": "code",
   "execution_count": 20,
   "metadata": {},
   "outputs": [],
   "source": [
    "words=['gestor',\n",
    "'conocimiento'\n",
    "'sgbd',\n",
    "'debilmente',\n",
    "'postgresql'\n",
    "'sparql',\n",
    "'umayux',\n",
    "'tacito',\n",
    "'semantica',\n",
    "'motor',\n",
    "'rdf',\n",
    "'explicito']\n",
    "\n",
    "words_instances=[]\n",
    "\n",
    "for palabra in palabras:\n",
    "    descripciones = ontologia.Palabra.get_descripcion_palabra(palabra)\n",
    "    for descripcion in descripciones:\n",
    "        if descripcion in words:\n",
    "            words_instances.append(palabra)\n"
   ]
  },
  {
   "cell_type": "code",
   "execution_count": 26,
   "metadata": {},
   "outputs": [],
   "source": [
    "docs = []\n",
    "for word in words_instances:\n",
    "    for doc in word.palabra_describe_pi:\n",
    "        docs.append(doc)"
   ]
  },
  {
   "cell_type": "code",
   "execution_count": 34,
   "metadata": {},
   "outputs": [
    {
     "data": {
      "text/plain": [
       "[OntologiaInvestigacionPrueba.pi13,\n",
       " OntologiaInvestigacionPrueba.pi149,\n",
       " OntologiaInvestigacionPrueba.pi224,\n",
       " OntologiaInvestigacionPrueba.pi229,\n",
       " OntologiaInvestigacionPrueba.pi422,\n",
       " OntologiaInvestigacionPrueba.pi443,\n",
       " OntologiaInvestigacionPrueba.pi18,\n",
       " OntologiaInvestigacionPrueba.pi282,\n",
       " OntologiaInvestigacionPrueba.pi308,\n",
       " OntologiaInvestigacionPrueba.pi335,\n",
       " OntologiaInvestigacionPrueba.pi443,\n",
       " OntologiaInvestigacionPrueba.pi39,\n",
       " OntologiaInvestigacionPrueba.pi443,\n",
       " OntologiaInvestigacionPrueba.pi225,\n",
       " OntologiaInvestigacionPrueba.pi308,\n",
       " OntologiaInvestigacionPrueba.pi443,\n",
       " OntologiaInvestigacionPrueba.pi422,\n",
       " OntologiaInvestigacionPrueba.pi443,\n",
       " OntologiaInvestigacionPrueba.pi443]"
      ]
     },
     "execution_count": 34,
     "metadata": {},
     "output_type": "execute_result"
    }
   ],
   "source": [
    "docs"
   ]
  },
  {
   "cell_type": "code",
   "execution_count": 33,
   "metadata": {},
   "outputs": [
    {
     "data": {
      "text/plain": [
       "['Análisis de los procesos creativos de los artesanos del Carnaval de Negros y Blancos de San Juan de Pasto en el desarrollo de las carrozas ganadoras periodo 2010-2019, para la preservación y transmisión de los saberes ancestrales hacia una memoria cultural a partir del uso del diseño, la innovación y las nuevas tecnologías.']"
      ]
     },
     "execution_count": 33,
     "metadata": {},
     "output_type": "execute_result"
    }
   ],
   "source": [
    "docs[0].get_titulo_proyecto_investigacion()"
   ]
  },
  {
   "cell_type": "code",
   "execution_count": null,
   "metadata": {},
   "outputs": [],
   "source": []
  },
  {
   "cell_type": "code",
   "execution_count": 7,
   "metadata": {},
   "outputs": [
    {
     "data": {
      "text/plain": [
       "OntologiaInvestigacionPrueba.implicar"
      ]
     },
     "execution_count": 7,
     "metadata": {},
     "output_type": "execute_result"
    }
   ],
   "source": [
    "palabra[1].get_"
   ]
  },
  {
   "cell_type": "markdown",
   "metadata": {},
   "source": [
    "- **Proyectos Docentes**"
   ]
  },
  {
   "cell_type": "code",
   "execution_count": 7,
   "metadata": {},
   "outputs": [],
   "source": [
    "instanciar_dataset(resumenes_docentes)"
   ]
  },
  {
   "cell_type": "markdown",
   "metadata": {},
   "source": [
    "- **Proyectos - Estudiantes**"
   ]
  },
  {
   "cell_type": "code",
   "execution_count": 8,
   "metadata": {},
   "outputs": [],
   "source": [
    "instanciar_dataset(resumenes_estudiantes)"
   ]
  },
  {
   "cell_type": "code",
   "execution_count": 9,
   "metadata": {},
   "outputs": [],
   "source": [
    "ontologia.save()"
   ]
  },
  {
   "cell_type": "markdown",
   "metadata": {},
   "source": [
    "# Funcion Eliminar Individuals"
   ]
  },
  {
   "cell_type": "code",
   "execution_count": 3,
   "metadata": {},
   "outputs": [],
   "source": [
    "# Funcion destruir Individual\n",
    "def destruir_individual(individual):\n",
    "    destroy_entity(individual)"
   ]
  },
  {
   "cell_type": "code",
   "execution_count": 4,
   "metadata": {},
   "outputs": [],
   "source": [
    "# Eliminar TODOS los inviduals\n",
    "for individual in list(ontologia.individuals()):\n",
    "    destruir_individual(individual)"
   ]
  },
  {
   "cell_type": "code",
   "execution_count": 11,
   "metadata": {},
   "outputs": [],
   "source": [
    "# Eliminar Individuals Proyecto de Investigacion\n",
    "for individual in list(ontologia.Proyecto_investigacion.instances()):\n",
    "    destruir_individual(individual)"
   ]
  },
  {
   "cell_type": "code",
   "execution_count": 8,
   "metadata": {},
   "outputs": [],
   "source": [
    "#Eliminar Individuals Palabras\n",
    "for individual in list(ontologia.Palabra.instances()):\n",
    "    destruir_individual(individual)"
   ]
  },
  {
   "cell_type": "code",
   "execution_count": 12,
   "metadata": {},
   "outputs": [
    {
     "data": {
      "text/plain": [
       "[]"
      ]
     },
     "execution_count": 12,
     "metadata": {},
     "output_type": "execute_result"
    }
   ],
   "source": [
    "list(ontologia.Proyecto_investigacion.instances())"
   ]
  },
  {
   "cell_type": "code",
   "execution_count": 9,
   "metadata": {},
   "outputs": [
    {
     "data": {
      "text/plain": [
       "[]"
      ]
     },
     "execution_count": 9,
     "metadata": {},
     "output_type": "execute_result"
    }
   ],
   "source": [
    "#Revisar Todos Individuals\n",
    "list(ontologia.individuals())"
   ]
  },
  {
   "cell_type": "code",
   "execution_count": 5,
   "metadata": {},
   "outputs": [
    {
     "data": {
      "text/plain": [
       "[]"
      ]
     },
     "execution_count": 5,
     "metadata": {},
     "output_type": "execute_result"
    }
   ],
   "source": [
    "#Revisar Individuals Proyectos Investigacion\n",
    "list(ontologia.Proyecto_investigacion.instances())"
   ]
  },
  {
   "cell_type": "code",
   "execution_count": 13,
   "metadata": {},
   "outputs": [],
   "source": [
    "ontologia.save()"
   ]
  },
  {
   "cell_type": "markdown",
   "metadata": {},
   "source": [
    "## Funcion Eliminar Individuals"
   ]
  },
  {
   "cell_type": "code",
   "execution_count": 3,
   "metadata": {},
   "outputs": [],
   "source": [
    "# Funcion destruir Individual\n",
    "def destruir_individual(individual):\n",
    "    destroy_entity(individual)"
   ]
  },
  {
   "cell_type": "code",
   "execution_count": 4,
   "metadata": {},
   "outputs": [],
   "source": [
    "# Eliminar TODOS los inviduals\n",
    "for individual in list(ontologia.individuals()):\n",
    "    destruir_individual(individual)"
   ]
  },
  {
   "cell_type": "code",
   "execution_count": 11,
   "metadata": {},
   "outputs": [],
   "source": [
    "# Eliminar Individuals Proyecto de Investigacion\n",
    "for individual in list(ontologia.Proyecto_investigacion.instances()):\n",
    "    destruir_individual(individual)"
   ]
  },
  {
   "cell_type": "code",
   "execution_count": 8,
   "metadata": {},
   "outputs": [],
   "source": [
    "#Eliminar Individuals Palabras\n",
    "for individual in list(ontologia.Palabra.instances()):\n",
    "    destruir_individual(individual)"
   ]
  },
  {
   "cell_type": "code",
   "execution_count": 12,
   "metadata": {},
   "outputs": [
    {
     "data": {
      "text/plain": [
       "[]"
      ]
     },
     "execution_count": 12,
     "metadata": {},
     "output_type": "execute_result"
    }
   ],
   "source": [
    "list(ontologia.Proyecto_investigacion.instances())"
   ]
  },
  {
   "cell_type": "code",
   "execution_count": 9,
   "metadata": {},
   "outputs": [
    {
     "data": {
      "text/plain": [
       "[]"
      ]
     },
     "execution_count": 9,
     "metadata": {},
     "output_type": "execute_result"
    }
   ],
   "source": [
    "#Revisar Todos Individuals\n",
    "list(ontologia.individuals())"
   ]
  },
  {
   "cell_type": "code",
   "execution_count": 5,
   "metadata": {},
   "outputs": [
    {
     "data": {
      "text/plain": [
       "[]"
      ]
     },
     "execution_count": 5,
     "metadata": {},
     "output_type": "execute_result"
    }
   ],
   "source": [
    "#Revisar Individuals Proyectos Investigacion\n",
    "list(ontologia.Proyecto_investigacion.instances())"
   ]
  },
  {
   "cell_type": "code",
   "execution_count": 13,
   "metadata": {},
   "outputs": [],
   "source": [
    "ontologia.save()"
   ]
  },
  {
   "cell_type": "markdown",
   "metadata": {},
   "source": [
    "# TEST RELACIONAR OBJECT PROPERTY INSTANCES"
   ]
  },
  {
   "cell_type": "code",
   "execution_count": 8,
   "metadata": {},
   "outputs": [
    {
     "data": {
      "text/plain": [
       "[OntologiaInvestigacionPrueba.perro, OntologiaInvestigacionPrueba.pi1]"
      ]
     },
     "execution_count": 8,
     "metadata": {},
     "output_type": "execute_result"
    }
   ],
   "source": [
    "list(ontologia.individuals())"
   ]
  },
  {
   "cell_type": "code",
   "execution_count": 5,
   "metadata": {},
   "outputs": [],
   "source": [
    "palabra = Palabra(\"Perro\")\n",
    "palabra2 = Palabra(\"Gato\")"
   ]
  },
  {
   "cell_type": "code",
   "execution_count": 55,
   "metadata": {},
   "outputs": [
    {
     "data": {
      "text/plain": [
       "['Estudiantil 2019']"
      ]
     },
     "execution_count": 55,
     "metadata": {},
     "output_type": "execute_result"
    }
   ],
   "source": [
    "#proyecto = ontologia.Proyecto_investigacion.instances()\n",
    "proyecto1 = proyectos_investigacion[370]\n",
    "proyecto1.get_tipo_proyecto_investigacion()"
   ]
  },
  {
   "cell_type": "code",
   "execution_count": 52,
   "metadata": {},
   "outputs": [
    {
     "data": {
      "text/plain": [
       "OntologiaInvestigacionPrueba.pi375"
      ]
     },
     "execution_count": 52,
     "metadata": {},
     "output_type": "execute_result"
    }
   ],
   "source": []
  },
  {
   "cell_type": "code",
   "execution_count": 6,
   "metadata": {},
   "outputs": [
    {
     "data": {
      "text/plain": [
       "OntologiaInvestigacionPrueba.Perro"
      ]
     },
     "execution_count": 6,
     "metadata": {},
     "output_type": "execute_result"
    }
   ],
   "source": [
    "palabras = ontologia.Palabra.instances()\n",
    "palabra = palabras[1]\n",
    "palabra"
   ]
  },
  {
   "cell_type": "code",
   "execution_count": 8,
   "metadata": {},
   "outputs": [],
   "source": [
    "proyecto1.pi_tiene_palabra = [palabra]\n",
    "\n",
    "#palabra.palabra_describe_pi = [proyecto1]\n"
   ]
  },
  {
   "cell_type": "code",
   "execution_count": 56,
   "metadata": {
    "tags": []
   },
   "outputs": [
    {
     "name": "stdout",
     "output_type": "stream",
     "text": [
      "[OntologiaInvestigacionPrueba.Proyecto_investigacion]\n",
      "784\n",
      "{OntologiaInvestigacionPrueba.titulo_proyecto_investigacion, OntologiaInvestigacionPrueba.tipo_proyecto_investigacion, OntologiaInvestigacionPrueba.resumen_proyecto_investigacion, OntologiaInvestigacionPrueba.estado_proyecto_investigacion, OntologiaInvestigacionPrueba.pi_tiene_palabra, OntologiaInvestigacionPrueba.id_proyecto_investigacion}\n",
      "[]\n",
      "[OntologiaInvestigacionPrueba.herramienta, OntologiaInvestigacionPrueba.elucidar, OntologiaInvestigacionPrueba.gifba, OntologiaInvestigacionPrueba.tipo, OntologiaInvestigacionPrueba.cambio, OntologiaInvestigacionPrueba.representar, OntologiaInvestigacionPrueba.formar, OntologiaInvestigacionPrueba.natural, OntologiaInvestigacionPrueba.molecular, OntologiaInvestigacionPrueba.parámetro, OntologiaInvestigacionPrueba.cuantificar, OntologiaInvestigacionPrueba.agricultura, OntologiaInvestigacionPrueba.anticancerígeno, OntologiaInvestigacionPrueba.medicinar, OntologiaInvestigacionPrueba.clase, OntologiaInvestigacionPrueba.fausto, OntologiaInvestigacionPrueba.efecto, OntologiaInvestigacionPrueba.rodriguez, OntologiaInvestigacionPrueba.estudiar, OntologiaInvestigacionPrueba.favorecer, OntologiaInvestigacionPrueba.biológico, OntologiaInvestigacionPrueba.anticonvulsivantes, OntologiaInvestigacionPrueba.encontrar, OntologiaInvestigacionPrueba.propiedad, OntologiaInvestigacionPrueba.estructural, OntologiaInvestigacionPrueba.investigación, OntologiaInvestigacionPrueba.sustituyentes, OntologiaInvestigacionPrueba.compuesto, OntologiaInvestigacionPrueba.conllevar, OntologiaInvestigacionPrueba.prototrópico, OntologiaInvestigacionPrueba.tautomérico, OntologiaInvestigacionPrueba.químico, OntologiaInvestigacionPrueba.ampliamente, OntologiaInvestigacionPrueba.exacto, OntologiaInvestigacionPrueba.importancia, OntologiaInvestigacionPrueba.proyectar, OntologiaInvestigacionPrueba.ciencia, OntologiaInvestigacionPrueba.diferenciar, OntologiaInvestigacionPrueba.equilibrio, OntologiaInvestigacionPrueba.anular, OntologiaInvestigacionPrueba.tautoméricas, OntologiaInvestigacionPrueba.amino, OntologiaInvestigacionPrueba.derivar, OntologiaInvestigacionPrueba.heterocíclico, OntologiaInvestigacionPrueba.biológico, OntologiaInvestigacionPrueba.presentar, OntologiaInvestigacionPrueba.condicionar, OntologiaInvestigacionPrueba.básico, OntologiaInvestigacionPrueba.factor, OntologiaInvestigacionPrueba.tautomerismo, OntologiaInvestigacionPrueba.utilizar, OntologiaInvestigacionPrueba.triazoles, OntologiaInvestigacionPrueba.mecanismo, OntologiaInvestigacionPrueba.conocimiento, OntologiaInvestigacionPrueba.químico, OntologiaInvestigacionPrueba.emplear, OntologiaInvestigacionPrueba.andrés, OntologiaInvestigacionPrueba.antiinflamatorios, OntologiaInvestigacionPrueba.preferencia, OntologiaInvestigacionPrueba.reacción, OntologiaInvestigacionPrueba.esencial, OntologiaInvestigacionPrueba.afectar, OntologiaInvestigacionPrueba.diverso, OntologiaInvestigacionPrueba.cesar, OntologiaInvestigacionPrueba.significativo, OntologiaInvestigacionPrueba.sistema, OntologiaInvestigacionPrueba.tautomerización, OntologiaInvestigacionPrueba.grupo, OntologiaInvestigacionPrueba.computacional, OntologiaInvestigacionPrueba.exhibir, OntologiaInvestigacionPrueba.procesar, OntologiaInvestigacionPrueba.área, OntologiaInvestigacionPrueba.aplicar, OntologiaInvestigacionPrueba.reactividad, OntologiaInvestigacionPrueba.consiguiente, OntologiaInvestigacionPrueba.fisicoquímico, OntologiaInvestigacionPrueba.comprender, OntologiaInvestigacionPrueba.augusto, OntologiaInvestigacionPrueba.sustituir, OntologiaInvestigacionPrueba.estructurar, OntologiaInvestigacionPrueba.existir, OntologiaInvestigacionPrueba.antifúngico, OntologiaInvestigacionPrueba.proceso, OntologiaInvestigacionPrueba.computacional, OntologiaInvestigacionPrueba.salazar]\n"
     ]
    }
   ],
   "source": [
    "print(proyecto1.is_a)\n",
    "print(proyecto1.storid)\n",
    "print(proyecto1.get_properties())\n",
    "print(list(proyecto1.get_inverse_properties()))\n",
    "print(proyecto1.pi_tiene_palabra)\n"
   ]
  },
  {
   "cell_type": "code",
   "execution_count": 10,
   "metadata": {
    "tags": []
   },
   "outputs": [
    {
     "name": "stdout",
     "output_type": "stream",
     "text": [
      "[OntologiaInvestigacionPrueba.Palabra]\n",
      "414\n",
      "{OntologiaInvestigacionPrueba.palabra_describe_pi}\n",
      "[(OntologiaInvestigacionPrueba.proyecto_investigacion1, OntologiaInvestigacionPrueba.pi_tiene_palabra)]\n",
      "[OntologiaInvestigacionPrueba.proyecto_investigacion1]\n"
     ]
    }
   ],
   "source": [
    "print(palabra.is_a)\n",
    "print(palabra.storid)\n",
    "print(palabra.get_properties())\n",
    "print(list(palabra.get_inverse_properties()))\n",
    "print(palabra.palabra_describe_pi)"
   ]
  },
  {
   "cell_type": "code",
   "execution_count": 14,
   "metadata": {
    "tags": []
   },
   "outputs": [
    {
     "name": "stdout",
     "output_type": "stream",
     "text": [
      "OntologiaInvestigacionPrueba.pi_tiene_palabra\n",
      "[OntologiaInvestigacionPrueba.Palabra]\n",
      "[OntologiaInvestigacionPrueba.Proyecto_investigacion]\n",
      "###################################\n",
      "OntologiaInvestigacionPrueba.palabra_describe_pi\n",
      "[OntologiaInvestigacionPrueba.Proyecto_investigacion]\n",
      "[OntologiaInvestigacionPrueba.Palabra]\n"
     ]
    }
   ],
   "source": [
    "print(ontologia.palabra_describe_pi.inverse)\n",
    "print(ontologia.palabra_describe_pi.domain)\n",
    "print(ontologia.palabra_describe_pi.range)\n",
    "print(\"###################################\")\n",
    "print(ontologia.pi_tiene_palabra.inverse)\n",
    "print(ontologia.pi_tiene_palabra.domain)\n",
    "print(ontologia.pi_tiene_palabra.range)\n"
   ]
  },
  {
   "cell_type": "code",
   "execution_count": 13,
   "metadata": {},
   "outputs": [
    {
     "data": {
      "text/plain": [
       "39473"
      ]
     },
     "execution_count": 13,
     "metadata": {},
     "output_type": "execute_result"
    }
   ],
   "source": [
    "foo = list(ontologia.pi_tiene_palabra.get_relations())\n",
    "foo"
   ]
  },
  {
   "cell_type": "code",
   "execution_count": 15,
   "metadata": {},
   "outputs": [
    {
     "data": {
      "text/plain": [
       "[]"
      ]
     },
     "execution_count": 15,
     "metadata": {},
     "output_type": "execute_result"
    }
   ],
   "source": [
    "list(ontologia.palabra_describe_pi.get_relations())"
   ]
  },
  {
   "cell_type": "markdown",
   "metadata": {},
   "source": [
    "## Final del TEST"
   ]
  },
  {
   "cell_type": "markdown",
   "metadata": {},
   "source": [
    "## Funcion Eliminar Individuals"
   ]
  },
  {
   "cell_type": "code",
   "execution_count": 3,
   "metadata": {},
   "outputs": [],
   "source": [
    "# Funcion destruir Individual\n",
    "def destruir_individual(individual):\n",
    "    destroy_entity(individual)"
   ]
  },
  {
   "cell_type": "code",
   "execution_count": 4,
   "metadata": {},
   "outputs": [],
   "source": [
    "# Eliminar TODOS los inviduals\n",
    "for individual in list(ontologia.individuals()):\n",
    "    destruir_individual(individual)"
   ]
  },
  {
   "cell_type": "code",
   "execution_count": 11,
   "metadata": {},
   "outputs": [],
   "source": [
    "# Eliminar Individuals Proyecto de Investigacion\n",
    "for individual in list(ontologia.Proyecto_investigacion.instances()):\n",
    "    destruir_individual(individual)"
   ]
  },
  {
   "cell_type": "code",
   "execution_count": 8,
   "metadata": {},
   "outputs": [],
   "source": [
    "#Eliminar Individuals Palabras\n",
    "for individual in list(ontologia.Palabra.instances()):\n",
    "    destruir_individual(individual)"
   ]
  },
  {
   "cell_type": "code",
   "execution_count": 12,
   "metadata": {},
   "outputs": [
    {
     "data": {
      "text/plain": [
       "[]"
      ]
     },
     "execution_count": 12,
     "metadata": {},
     "output_type": "execute_result"
    }
   ],
   "source": [
    "list(ontologia.Proyecto_investigacion.instances())"
   ]
  },
  {
   "cell_type": "code",
   "execution_count": 9,
   "metadata": {},
   "outputs": [
    {
     "data": {
      "text/plain": [
       "[]"
      ]
     },
     "execution_count": 9,
     "metadata": {},
     "output_type": "execute_result"
    }
   ],
   "source": [
    "#Revisar Todos Individuals\n",
    "list(ontologia.individuals())"
   ]
  },
  {
   "cell_type": "code",
   "execution_count": 5,
   "metadata": {},
   "outputs": [
    {
     "data": {
      "text/plain": [
       "[]"
      ]
     },
     "execution_count": 5,
     "metadata": {},
     "output_type": "execute_result"
    }
   ],
   "source": [
    "#Revisar Individuals Proyectos Investigacion\n",
    "list(ontologia.Proyecto_investigacion.instances())"
   ]
  },
  {
   "cell_type": "code",
   "execution_count": 13,
   "metadata": {},
   "outputs": [],
   "source": [
    "ontologia.save()"
   ]
  }
 ],
 "metadata": {
  "kernelspec": {
   "display_name": "Python (tesis)",
   "language": "python",
   "name": "tesis"
  },
  "language_info": {
   "codemirror_mode": {
    "name": "ipython",
    "version": 3
   },
   "file_extension": ".py",
   "mimetype": "text/x-python",
   "name": "python",
   "nbconvert_exporter": "python",
   "pygments_lexer": "ipython3",
   "version": "3.7.7"
  }
 },
 "nbformat": 4,
 "nbformat_minor": 4
}
