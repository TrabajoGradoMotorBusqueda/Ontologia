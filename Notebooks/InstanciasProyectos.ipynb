{
 "cells": [
  {
   "cell_type": "markdown",
   "metadata": {},
   "source": [
    "### Librerias Importar"
   ]
  },
  {
   "cell_type": "code",
   "execution_count": 1,
   "metadata": {},
   "outputs": [],
   "source": [
    "import sys\n",
    "# insert at 1, 0 is the script path (or '' in REPL)\n",
    "sys.path.insert(1, '../Scripts')\n",
    "import pandas as pd \n",
    "from ontologia import *\n",
    "import ast"
   ]
  },
  {
   "cell_type": "markdown",
   "metadata": {},
   "source": [
    "# Ejecucion de Resumenes sin limpieza de Textos"
   ]
  },
  {
   "cell_type": "code",
   "execution_count": 2,
   "metadata": {},
   "outputs": [],
   "source": [
    "resumenes_docentes = pd.read_excel(\"./Data/Resumenes.xlsx\", index_col=0 ,sheet_name = \"Proyectos Docentes\", dtype=\"str\")\n",
    "resumenes_estudiantes = pd.read_excel(\"./Data/Resumenes.xlsx\", index_col=0,sheet_name=\"studiantiles y Trabajos de G\", dtype=\"str\")\n",
    "\n",
    "#Asignamos Columnas\n",
    "resumenes_docentes.columns = [\"codigo\", \"titulo\", \"resumen\", \"estado\", \"id_autor\", \"nombre_autor\", \n",
    "                     \"programa\", \"facultad\", \"convocatoria\", \"grupo_investigacion\", \"linea_investigacion\", \"palabras_clave\"]\n",
    "\n",
    "resumenes_estudiantes.columns = ['codigo', 'titulo', 'resumen', 'estado', 'id_autor', 'nombre_autor',\n",
    "       'programa', 'departamento', 'facultad', 'nombre_asesor', 'convocatoria', 'grupo_investigacion', 'linea_investigacion', 'palabras_clave']\n",
    "\n",
    "#Eliminamos NAN\n",
    "resumenes_docentes.dropna(inplace=True)\n",
    "resumenes_estudiantes.dropna(inplace=True)"
   ]
  },
  {
   "cell_type": "code",
   "execution_count": 3,
   "metadata": {},
   "outputs": [
    {
     "data": {
      "text/html": [
       "<div>\n",
       "<style scoped>\n",
       "    .dataframe tbody tr th:only-of-type {\n",
       "        vertical-align: middle;\n",
       "    }\n",
       "\n",
       "    .dataframe tbody tr th {\n",
       "        vertical-align: top;\n",
       "    }\n",
       "\n",
       "    .dataframe thead th {\n",
       "        text-align: right;\n",
       "    }\n",
       "</style>\n",
       "<table border=\"1\" class=\"dataframe\">\n",
       "  <thead>\n",
       "    <tr style=\"text-align: right;\">\n",
       "      <th></th>\n",
       "      <th>codigo</th>\n",
       "      <th>titulo</th>\n",
       "      <th>resumen</th>\n",
       "      <th>estado</th>\n",
       "      <th>id_autor</th>\n",
       "      <th>nombre_autor</th>\n",
       "      <th>programa</th>\n",
       "      <th>facultad</th>\n",
       "      <th>convocatoria</th>\n",
       "      <th>grupo_investigacion</th>\n",
       "      <th>linea_investigacion</th>\n",
       "      <th>palabras_clave</th>\n",
       "    </tr>\n",
       "    <tr>\n",
       "      <th>No.</th>\n",
       "      <th></th>\n",
       "      <th></th>\n",
       "      <th></th>\n",
       "      <th></th>\n",
       "      <th></th>\n",
       "      <th></th>\n",
       "      <th></th>\n",
       "      <th></th>\n",
       "      <th></th>\n",
       "      <th></th>\n",
       "      <th></th>\n",
       "      <th></th>\n",
       "    </tr>\n",
       "  </thead>\n",
       "  <tbody>\n",
       "    <tr>\n",
       "      <th>1.0</th>\n",
       "      <td>1464.0</td>\n",
       "      <td>\"Diagnóstico del impacto de las iniciativas em...</td>\n",
       "      <td>El emprendimiento es entre otras acepciones es...</td>\n",
       "      <td>Vencido</td>\n",
       "      <td>13515.0</td>\n",
       "      <td>Francisco Rafael Ayala</td>\n",
       "      <td>Diseño</td>\n",
       "      <td>Artes</td>\n",
       "      <td>Docente 2017</td>\n",
       "      <td>Currículo y Universidad</td>\n",
       "      <td>Curriculos pertinentes</td>\n",
       "      <td>Diagnóstico</td>\n",
       "    </tr>\n",
       "    <tr>\n",
       "      <th>2.0</th>\n",
       "      <td>1367.0</td>\n",
       "      <td>Acoso Escolar (Bullying) en San Juan de Pasto....</td>\n",
       "      <td>A nivel mundial, uno de cada tres escolares ha...</td>\n",
       "      <td>Prorroga</td>\n",
       "      <td>11902.0</td>\n",
       "      <td>Harvey Mauricio Herrera Lopez</td>\n",
       "      <td>Psicología</td>\n",
       "      <td>Ciencias Humanas</td>\n",
       "      <td>Docente 2017</td>\n",
       "      <td>Psicología y Salud</td>\n",
       "      <td>Aspectos Psicosociales en Procesos de Salud</td>\n",
       "      <td>Acoso Escolar</td>\n",
       "    </tr>\n",
       "    <tr>\n",
       "      <th>3.0</th>\n",
       "      <td>1343.0</td>\n",
       "      <td>ACTIVIDAD ANTIBACTERIAL DE POLIFENOLES DEL AGU...</td>\n",
       "      <td>El cáncer gástrico (CG) es la principal causa ...</td>\n",
       "      <td>Vencido</td>\n",
       "      <td>10081.0</td>\n",
       "      <td>Nelson Humberto Hurtado Gutierrez</td>\n",
       "      <td>Química</td>\n",
       "      <td>Ciencias Exactas y Naturales</td>\n",
       "      <td>Docente 2016</td>\n",
       "      <td>GRUPO DE INVESTIGACIÓN EN PRODUCTOS DE IMPORTA...</td>\n",
       "      <td>Modelado molecular</td>\n",
       "      <td>cancer gastrico</td>\n",
       "    </tr>\n",
       "    <tr>\n",
       "      <th>4.0</th>\n",
       "      <td>1617.0</td>\n",
       "      <td>Actividad antibacterial y citotóxica in vitro ...</td>\n",
       "      <td>El departamento de Nariño gracias a su posició...</td>\n",
       "      <td>En Ejecución</td>\n",
       "      <td>13840.0</td>\n",
       "      <td>Orfa Alexandra España Jojoa</td>\n",
       "      <td>Biología</td>\n",
       "      <td>Ciencias Exactas y Naturales</td>\n",
       "      <td>Docente 2018</td>\n",
       "      <td>Tecnologías Emergentes en Agroindustria</td>\n",
       "      <td>Ingredientes naturales para la industria alime...</td>\n",
       "      <td>Aceites Vegetales</td>\n",
       "    </tr>\n",
       "    <tr>\n",
       "      <th>5.0</th>\n",
       "      <td>622.0</td>\n",
       "      <td>AGUA EXTRAVASCULAR PULMONAR COMO PREDICTOR DE ...</td>\n",
       "      <td>RESUMEN. El estado de choque es una condición ...</td>\n",
       "      <td>Vencido</td>\n",
       "      <td>12084.0</td>\n",
       "      <td>Hector Fabio Sanchez Galvez</td>\n",
       "      <td>Medicina</td>\n",
       "      <td>Ciencias de la Salud</td>\n",
       "      <td>Docente 2012</td>\n",
       "      <td>Grupo de Investigación en Estudios Epidemiológ...</td>\n",
       "      <td>Estudios Epidemiológicos</td>\n",
       "      <td>No se encontraron palabras clave registradas</td>\n",
       "    </tr>\n",
       "  </tbody>\n",
       "</table>\n",
       "</div>"
      ],
      "text/plain": [
       "     codigo                                             titulo  \\\n",
       "No.                                                              \n",
       "1.0  1464.0  \"Diagnóstico del impacto de las iniciativas em...   \n",
       "2.0  1367.0  Acoso Escolar (Bullying) en San Juan de Pasto....   \n",
       "3.0  1343.0  ACTIVIDAD ANTIBACTERIAL DE POLIFENOLES DEL AGU...   \n",
       "4.0  1617.0  Actividad antibacterial y citotóxica in vitro ...   \n",
       "5.0   622.0  AGUA EXTRAVASCULAR PULMONAR COMO PREDICTOR DE ...   \n",
       "\n",
       "                                               resumen        estado  \\\n",
       "No.                                                                    \n",
       "1.0  El emprendimiento es entre otras acepciones es...       Vencido   \n",
       "2.0  A nivel mundial, uno de cada tres escolares ha...      Prorroga   \n",
       "3.0  El cáncer gástrico (CG) es la principal causa ...       Vencido   \n",
       "4.0  El departamento de Nariño gracias a su posició...  En Ejecución   \n",
       "5.0  RESUMEN. El estado de choque es una condición ...       Vencido   \n",
       "\n",
       "     id_autor                       nombre_autor    programa  \\\n",
       "No.                                                            \n",
       "1.0   13515.0             Francisco Rafael Ayala      Diseño   \n",
       "2.0   11902.0      Harvey Mauricio Herrera Lopez  Psicología   \n",
       "3.0   10081.0  Nelson Humberto Hurtado Gutierrez     Química   \n",
       "4.0   13840.0        Orfa Alexandra España Jojoa    Biología   \n",
       "5.0   12084.0        Hector Fabio Sanchez Galvez    Medicina   \n",
       "\n",
       "                         facultad  convocatoria  \\\n",
       "No.                                               \n",
       "1.0                         Artes  Docente 2017   \n",
       "2.0              Ciencias Humanas  Docente 2017   \n",
       "3.0  Ciencias Exactas y Naturales  Docente 2016   \n",
       "4.0  Ciencias Exactas y Naturales  Docente 2018   \n",
       "5.0          Ciencias de la Salud  Docente 2012   \n",
       "\n",
       "                                   grupo_investigacion  \\\n",
       "No.                                                      \n",
       "1.0                            Currículo y Universidad   \n",
       "2.0                                 Psicología y Salud   \n",
       "3.0  GRUPO DE INVESTIGACIÓN EN PRODUCTOS DE IMPORTA...   \n",
       "4.0            Tecnologías Emergentes en Agroindustria   \n",
       "5.0  Grupo de Investigación en Estudios Epidemiológ...   \n",
       "\n",
       "                                   linea_investigacion  \\\n",
       "No.                                                      \n",
       "1.0                             Curriculos pertinentes   \n",
       "2.0        Aspectos Psicosociales en Procesos de Salud   \n",
       "3.0                                 Modelado molecular   \n",
       "4.0  Ingredientes naturales para la industria alime...   \n",
       "5.0                           Estudios Epidemiológicos   \n",
       "\n",
       "                                   palabras_clave  \n",
       "No.                                                \n",
       "1.0                                   Diagnóstico  \n",
       "2.0                                 Acoso Escolar  \n",
       "3.0                               cancer gastrico  \n",
       "4.0                             Aceites Vegetales  \n",
       "5.0  No se encontraron palabras clave registradas  "
      ]
     },
     "execution_count": 3,
     "metadata": {},
     "output_type": "execute_result"
    }
   ],
   "source": [
    "resumenes_docentes.head(5)"
   ]
  },
  {
   "cell_type": "markdown",
   "metadata": {},
   "source": [
    "# Carga de Resumenes con vocabulario y Lemas Añadidos\n",
    "\n",
    "- Ejecutar a partir de aqui ya que son dataset limpio y de prueba"
   ]
  },
  {
   "cell_type": "code",
   "execution_count": 2,
   "metadata": {},
   "outputs": [],
   "source": [
    "#Carga de datos\n",
    "resumenes_docentes = pd.read_csv(\"./Resumenes/ResumenesDocentes.csv\", index_col=0)\n",
    "resumenes_estudiantes = pd.read_csv(\"./Resumenes/ResumenesEstudiantes.csv\", index_col=0)"
   ]
  },
  {
   "cell_type": "code",
   "execution_count": 3,
   "metadata": {},
   "outputs": [
    {
     "data": {
      "text/html": [
       "<div>\n",
       "<style scoped>\n",
       "    .dataframe tbody tr th:only-of-type {\n",
       "        vertical-align: middle;\n",
       "    }\n",
       "\n",
       "    .dataframe tbody tr th {\n",
       "        vertical-align: top;\n",
       "    }\n",
       "\n",
       "    .dataframe thead th {\n",
       "        text-align: right;\n",
       "    }\n",
       "</style>\n",
       "<table border=\"1\" class=\"dataframe\">\n",
       "  <thead>\n",
       "    <tr style=\"text-align: right;\">\n",
       "      <th></th>\n",
       "      <th>codigo</th>\n",
       "      <th>titulo</th>\n",
       "      <th>resumen</th>\n",
       "      <th>estado</th>\n",
       "      <th>id_autor</th>\n",
       "      <th>nombre_autor</th>\n",
       "      <th>programa</th>\n",
       "      <th>facultad</th>\n",
       "      <th>convocatoria</th>\n",
       "      <th>grupo_investigacion</th>\n",
       "      <th>linea_investigacion</th>\n",
       "      <th>palabras_clave</th>\n",
       "      <th>corpus</th>\n",
       "      <th>palabras</th>\n",
       "      <th>vocabulario</th>\n",
       "      <th>lemas</th>\n",
       "    </tr>\n",
       "    <tr>\n",
       "      <th>No.</th>\n",
       "      <th></th>\n",
       "      <th></th>\n",
       "      <th></th>\n",
       "      <th></th>\n",
       "      <th></th>\n",
       "      <th></th>\n",
       "      <th></th>\n",
       "      <th></th>\n",
       "      <th></th>\n",
       "      <th></th>\n",
       "      <th></th>\n",
       "      <th></th>\n",
       "      <th></th>\n",
       "      <th></th>\n",
       "      <th></th>\n",
       "      <th></th>\n",
       "    </tr>\n",
       "  </thead>\n",
       "  <tbody>\n",
       "    <tr>\n",
       "      <th>1.0</th>\n",
       "      <td>1464</td>\n",
       "      <td>\"Diagnóstico del impacto de las iniciativas em...</td>\n",
       "      <td>El emprendimiento es entre otras acepciones es...</td>\n",
       "      <td>Vencido</td>\n",
       "      <td>13515</td>\n",
       "      <td>Francisco Rafael Ayala</td>\n",
       "      <td>Diseño</td>\n",
       "      <td>Artes</td>\n",
       "      <td>Docente 2017</td>\n",
       "      <td>Currículo y Universidad</td>\n",
       "      <td>Curriculos pertinentes</td>\n",
       "      <td>Diagnóstico</td>\n",
       "      <td>\"Diagnóstico del impacto de las iniciativas em...</td>\n",
       "      <td>['diagnóstico', 'impacto', 'iniciativas', 'emp...</td>\n",
       "      <td>['soluciones', 'latente', 'académicas', 'modal...</td>\n",
       "      <td>['solucionar', 'latente', 'académico', 'modali...</td>\n",
       "    </tr>\n",
       "  </tbody>\n",
       "</table>\n",
       "</div>"
      ],
      "text/plain": [
       "     codigo                                             titulo  \\\n",
       "No.                                                              \n",
       "1.0    1464  \"Diagnóstico del impacto de las iniciativas em...   \n",
       "\n",
       "                                               resumen   estado  id_autor  \\\n",
       "No.                                                                         \n",
       "1.0  El emprendimiento es entre otras acepciones es...  Vencido     13515   \n",
       "\n",
       "               nombre_autor programa facultad  convocatoria  \\\n",
       "No.                                                           \n",
       "1.0  Francisco Rafael Ayala   Diseño    Artes  Docente 2017   \n",
       "\n",
       "         grupo_investigacion     linea_investigacion palabras_clave  \\\n",
       "No.                                                                   \n",
       "1.0  Currículo y Universidad  Curriculos pertinentes    Diagnóstico   \n",
       "\n",
       "                                                corpus  \\\n",
       "No.                                                      \n",
       "1.0  \"Diagnóstico del impacto de las iniciativas em...   \n",
       "\n",
       "                                              palabras  \\\n",
       "No.                                                      \n",
       "1.0  ['diagnóstico', 'impacto', 'iniciativas', 'emp...   \n",
       "\n",
       "                                           vocabulario  \\\n",
       "No.                                                      \n",
       "1.0  ['soluciones', 'latente', 'académicas', 'modal...   \n",
       "\n",
       "                                                 lemas  \n",
       "No.                                                     \n",
       "1.0  ['solucionar', 'latente', 'académico', 'modali...  "
      ]
     },
     "execution_count": 3,
     "metadata": {},
     "output_type": "execute_result"
    }
   ],
   "source": [
    "#Revision rapida de los datos\n",
    "resuemenes_"
   ]
  },
  {
   "cell_type": "markdown",
   "metadata": {},
   "source": [
    "## Funcion Crear Instancia Proyectos"
   ]
  },
  {
   "cell_type": "code",
   "execution_count": 3,
   "metadata": {},
   "outputs": [],
   "source": [
    "def instanciar_proyectos(nombre, id_investigacion, titulo, resumen, estado, tipo):\n",
    "    proyecto_investigacion = Proyecto_investigacion(nombre)\n",
    "    proyecto_investigacion.set_id_proyecto_investigacion(id_investigacion)\n",
    "    proyecto_investigacion.set_titulo_proyecto_investigacion(titulo)\n",
    "    proyecto_investigacion.set_resumen_proyecto_investigacion(resumen)\n",
    "    proyecto_investigacion.set_estado_proyecto_investigacion(estado)\n",
    "    proyecto_investigacion.set_tipo_proyecto_investigacion(tipo)\n",
    "\n",
    "#instanciar_proyectos(\"proyecto_investigacion\"+\"1\", \"1\", resumenes_docentes.loc[1]['titulo'], resumenes_docentes.loc[1]['resumen'], resumenes_docentes.loc[1]['estado'], resumenes_docentes.loc[1]['convocatoria'])"
   ]
  },
  {
   "cell_type": "markdown",
   "metadata": {},
   "source": [
    "- **Proyectos Docentes**"
   ]
  },
  {
   "cell_type": "code",
   "execution_count": 5,
   "metadata": {},
   "outputs": [],
   "source": [
    "# Instanciar Proyectos Docentes\n",
    "for index, row in resumenes_docentes.iterrows():\n",
    "    instanciar_proyectos(\"pi\"+str(int(index)) , int(index), row['titulo'], row['resumen'], row['estado'], row['convocatoria'])\n"
   ]
  },
  {
   "cell_type": "markdown",
   "metadata": {},
   "source": [
    "- **Proyectos - Estudiantes**"
   ]
  },
  {
   "cell_type": "code",
   "execution_count": 6,
   "metadata": {},
   "outputs": [],
   "source": [
    "#Instanciar proyectos Estudiantes desde el ultimo index de proyecto docente.\n",
    "for index, row in resumenes_estudiantes.iterrows():\n",
    "    instanciar_proyectos(\"pi\"+str(int(index+312)) , int(index+312), row['titulo'], row['resumen'], row['estado'], row['convocatoria'])\n"
   ]
  },
  {
   "cell_type": "code",
   "execution_count": 7,
   "metadata": {},
   "outputs": [
    {
     "data": {
      "text/plain": [
       "451"
      ]
     },
     "execution_count": 7,
     "metadata": {},
     "output_type": "execute_result"
    }
   ],
   "source": [
    "# Revisamos Cuantos proyectos se han instanciado\n",
    "len(list(ontologia.Proyecto_investigacion.instances()))"
   ]
  },
  {
   "cell_type": "markdown",
   "metadata": {},
   "source": [
    "## Funcion instanciar palabras y relacionar"
   ]
  },
  {
   "cell_type": "code",
   "execution_count": 8,
   "metadata": {},
   "outputs": [],
   "source": [
    "def instanciar_palabra(nombre_palabra, proyecto_investigacion):\n",
    "    palabra = Palabra(nombre_palabra)\n",
    "    #palabra.set_id_palabra(id_palabra)\n",
    "    palabra.set_descripcion_palabra(nombre_palabra)\n",
    "    proyecto_investigacion.relation_pi_tiene_palabra(palabra)    \n",
    "    #palabra.relation_palabra_describe_pi(proyecto_investigacion)"
   ]
  },
  {
   "cell_type": "markdown",
   "metadata": {},
   "source": [
    "## Traer Proyectos, instanciar sus palabras y relacionar"
   ]
  },
  {
   "cell_type": "markdown",
   "metadata": {},
   "source": [
    "- **Lemas Docentes**"
   ]
  },
  {
   "cell_type": "code",
   "execution_count": 10,
   "metadata": {},
   "outputs": [],
   "source": [
    "#lemas = ast.literal_eval(resumenes_docentes.loc[1]['lemas'])\n",
    "#for palabra in lemas:\n",
    "        #instanciar_palabra(palabra, proyecto1)\n",
    "##################################################\n",
    "proyectos_investigacion = list(ontologia.Proyecto_investigacion.instances())\n",
    "i = 0\n",
    "for index, row in resumenes_docentes.iterrows():\n",
    "    lemas = ast.literal_eval(row['lemas'])\n",
    "    for palabra in lemas:\n",
    "        instanciar_palabra(palabra, proyectos_investigacion[i])\n",
    "    i+=1"
   ]
  },
  {
   "cell_type": "markdown",
   "metadata": {},
   "source": [
    "- **Lemas Estudiantes**"
   ]
  },
  {
   "cell_type": "code",
   "execution_count": 45,
   "metadata": {},
   "outputs": [],
   "source": [
    "#i=308\n",
    "for index, row in resumenes_estudiantes.iterrows():\n",
    "    lemas = ast.literal_eval(row['lemas'])\n",
    "    for palabra in lemas:\n",
    "        instanciar_palabra(palabra, proyectos_investigacion[i])\n",
    "    i+=1"
   ]
  },
  {
   "cell_type": "code",
   "execution_count": 5,
   "metadata": {},
   "outputs": [],
   "source": [
    "ontologia.save()"
   ]
  },
  {
   "cell_type": "markdown",
   "metadata": {},
   "source": [
    "# TEST RELACIONAR OBJECT PROPERTY INSTANCES"
   ]
  },
  {
   "cell_type": "code",
   "execution_count": 8,
   "metadata": {},
   "outputs": [
    {
     "data": {
      "text/plain": [
       "[OntologiaInvestigacionPrueba.perro, OntologiaInvestigacionPrueba.pi1]"
      ]
     },
     "execution_count": 8,
     "metadata": {},
     "output_type": "execute_result"
    }
   ],
   "source": [
    "list(ontologia.individuals())"
   ]
  },
  {
   "cell_type": "code",
   "execution_count": 5,
   "metadata": {},
   "outputs": [],
   "source": [
    "palabra = Palabra(\"Perro\")\n",
    "palabra2 = Palabra(\"Gato\")"
   ]
  },
  {
   "cell_type": "code",
   "execution_count": 55,
   "metadata": {},
   "outputs": [
    {
     "data": {
      "text/plain": [
       "['Estudiantil 2019']"
      ]
     },
     "execution_count": 55,
     "metadata": {},
     "output_type": "execute_result"
    }
   ],
   "source": [
    "#proyecto = ontologia.Proyecto_investigacion.instances()\n",
    "proyecto1 = proyectos_investigacion[370]\n",
    "proyecto1.get_tipo_proyecto_investigacion()"
   ]
  },
  {
   "cell_type": "code",
   "execution_count": 52,
   "metadata": {},
   "outputs": [
    {
     "data": {
      "text/plain": [
       "OntologiaInvestigacionPrueba.pi375"
      ]
     },
     "execution_count": 52,
     "metadata": {},
     "output_type": "execute_result"
    }
   ],
   "source": []
  },
  {
   "cell_type": "code",
   "execution_count": 6,
   "metadata": {},
   "outputs": [
    {
     "data": {
      "text/plain": [
       "OntologiaInvestigacionPrueba.Perro"
      ]
     },
     "execution_count": 6,
     "metadata": {},
     "output_type": "execute_result"
    }
   ],
   "source": [
    "palabras = ontologia.Palabra.instances()\n",
    "palabra = palabras[1]\n",
    "palabra"
   ]
  },
  {
   "cell_type": "code",
   "execution_count": 14,
   "metadata": {
    "tags": []
   },
   "outputs": [
    {
     "name": "stdout",
     "output_type": "stream",
     "text": [
      "[OntologiaInvestigacionPrueba.solucionar, OntologiaInvestigacionPrueba.latente, OntologiaInvestigacionPrueba.académico, OntologiaInvestigacionPrueba.modalidad, OntologiaInvestigacionPrueba.generar, OntologiaInvestigacionPrueba.industriar, OntologiaInvestigacionPrueba.reconocimiento, OntologiaInvestigacionPrueba.cambio, OntologiaInvestigacionPrueba.formar, OntologiaInvestigacionPrueba.afrontar, OntologiaInvestigacionPrueba.consolidación, OntologiaInvestigacionPrueba.situación, OntologiaInvestigacionPrueba.humanar, OntologiaInvestigacionPrueba.cambiar, OntologiaInvestigacionPrueba.interesar, OntologiaInvestigacionPrueba.pertinente, OntologiaInvestigacionPrueba.emprendimiento, OntologiaInvestigacionPrueba.integral, OntologiaInvestigacionPrueba.génesis, OntologiaInvestigacionPrueba.estratégico, OntologiaInvestigacionPrueba.institución, OntologiaInvestigacionPrueba.desarrollo, OntologiaInvestigacionPrueba.sociedad, OntologiaInvestigacionPrueba.modalidad, OntologiaInvestigacionPrueba.promoción, OntologiaInvestigacionPrueba.formación, OntologiaInvestigacionPrueba.promover, OntologiaInvestigacionPrueba.fenómeno, OntologiaInvestigacionPrueba.rafael, OntologiaInvestigacionPrueba.escuchar, OntologiaInvestigacionPrueba.laboral, OntologiaInvestigacionPrueba.grupo, OntologiaInvestigacionPrueba.investigación, OntologiaInvestigacionPrueba.acepción, OntologiaInvestigacionPrueba.flexible, OntologiaInvestigacionPrueba.empresa, OntologiaInvestigacionPrueba.proponer, OntologiaInvestigacionPrueba.francisco, OntologiaInvestigacionPrueba.entidad, OntologiaInvestigacionPrueba.crecimiento, OntologiaInvestigacionPrueba.equipar, OntologiaInvestigacionPrueba.aportar, OntologiaInvestigacionPrueba.asociar, OntologiaInvestigacionPrueba.crear, OntologiaInvestigacionPrueba.perfilar, OntologiaInvestigacionPrueba.humano, OntologiaInvestigacionPrueba.impacto, OntologiaInvestigacionPrueba.universidad, OntologiaInvestigacionPrueba.formador, OntologiaInvestigacionPrueba.académico, OntologiaInvestigacionPrueba.diagnóstico, OntologiaInvestigacionPrueba.particular, OntologiaInvestigacionPrueba.arte, OntologiaInvestigacionPrueba.indagar, OntologiaInvestigacionPrueba.indagar, OntologiaInvestigacionPrueba.proyectar, OntologiaInvestigacionPrueba.importancia, OntologiaInvestigacionPrueba.concienciar, OntologiaInvestigacionPrueba.actor, OntologiaInvestigacionPrueba.alianza, OntologiaInvestigacionPrueba.evolucionar, OntologiaInvestigacionPrueba.dinámico, OntologiaInvestigacionPrueba.identificar, OntologiaInvestigacionPrueba.alcanzar, OntologiaInvestigacionPrueba.primordial, OntologiaInvestigacionPrueba.tipificar, OntologiaInvestigacionPrueba.egresar, OntologiaInvestigacionPrueba.papel, OntologiaInvestigacionPrueba.creación, OntologiaInvestigacionPrueba.currículo, OntologiaInvestigacionPrueba.permitir, OntologiaInvestigacionPrueba.extinción, OntologiaInvestigacionPrueba.curriculos, OntologiaInvestigacionPrueba.pretender, OntologiaInvestigacionPrueba.capacidad, OntologiaInvestigacionPrueba.individual, OntologiaInvestigacionPrueba.implicar, OntologiaInvestigacionPrueba.condicionar, OntologiaInvestigacionPrueba.ayala, OntologiaInvestigacionPrueba.local, OntologiaInvestigacionPrueba.buscar, OntologiaInvestigacionPrueba.turismo, OntologiaInvestigacionPrueba.mejoramiento, OntologiaInvestigacionPrueba.casar, OntologiaInvestigacionPrueba.objetivo, OntologiaInvestigacionPrueba.industrial, OntologiaInvestigacionPrueba.privar, OntologiaInvestigacionPrueba.básico, OntologiaInvestigacionPrueba.profesional, OntologiaInvestigacionPrueba.aporte, OntologiaInvestigacionPrueba.caso, OntologiaInvestigacionPrueba.enfrentar, OntologiaInvestigacionPrueba.experiencia, OntologiaInvestigacionPrueba.tecnológico, OntologiaInvestigacionPrueba.comerciar, OntologiaInvestigacionPrueba.facilitar, OntologiaInvestigacionPrueba.integrante, OntologiaInvestigacionPrueba.individuo, OntologiaInvestigacionPrueba.descubrir, OntologiaInvestigacionPrueba.nivel, OntologiaInvestigacionPrueba.propósito, OntologiaInvestigacionPrueba.incertidumbre, OntologiaInvestigacionPrueba.beneficio, OntologiaInvestigacionPrueba.complejo, OntologiaInvestigacionPrueba.marcar, OntologiaInvestigacionPrueba.relacionar, OntologiaInvestigacionPrueba.necesidad, OntologiaInvestigacionPrueba.público, OntologiaInvestigacionPrueba.ecosistema, OntologiaInvestigacionPrueba.emprendedor, OntologiaInvestigacionPrueba.fortalecimiento, OntologiaInvestigacionPrueba.riesgo, OntologiaInvestigacionPrueba.plantear, OntologiaInvestigacionPrueba.dinámico, OntologiaInvestigacionPrueba.programar, OntologiaInvestigacionPrueba.apoyar, OntologiaInvestigacionPrueba.personar, OntologiaInvestigacionPrueba.extremar, OntologiaInvestigacionPrueba.capaz, OntologiaInvestigacionPrueba.orientar, OntologiaInvestigacionPrueba.impactar, OntologiaInvestigacionPrueba.disponer, OntologiaInvestigacionPrueba.capacidad, OntologiaInvestigacionPrueba.emprendedor, OntologiaInvestigacionPrueba.promover, OntologiaInvestigacionPrueba.desarrollar, OntologiaInvestigacionPrueba.innovador, OntologiaInvestigacionPrueba.describir, OntologiaInvestigacionPrueba.nariño, OntologiaInvestigacionPrueba.estudio, OntologiaInvestigacionPrueba.contexto, OntologiaInvestigacionPrueba.expectativa, OntologiaInvestigacionPrueba.ministerio, OntologiaInvestigacionPrueba.ejercer, OntologiaInvestigacionPrueba.manifiesto, OntologiaInvestigacionPrueba.procesar, OntologiaInvestigacionPrueba.complejidad, OntologiaInvestigacionPrueba.sostenible, OntologiaInvestigacionPrueba.estructurar, OntologiaInvestigacionPrueba.establecer, OntologiaInvestigacionPrueba.necesidad, OntologiaInvestigacionPrueba.catalogar, OntologiaInvestigacionPrueba.económico, OntologiaInvestigacionPrueba.creativo, OntologiaInvestigacionPrueba.fomentar, OntologiaInvestigacionPrueba.asumir, OntologiaInvestigacionPrueba.principio, OntologiaInvestigacionPrueba.mejorar, OntologiaInvestigacionPrueba.colombiano, OntologiaInvestigacionPrueba.desarrollar, OntologiaInvestigacionPrueba.profesional, OntologiaInvestigacionPrueba.conjuntar, OntologiaInvestigacionPrueba.contribuir, OntologiaInvestigacionPrueba.participar, OntologiaInvestigacionPrueba.plan, OntologiaInvestigacionPrueba.continuo, OntologiaInvestigacionPrueba.gradar, OntologiaInvestigacionPrueba.fomentar, OntologiaInvestigacionPrueba.académico, OntologiaInvestigacionPrueba.beneficiar, OntologiaInvestigacionPrueba.derecho, OntologiaInvestigacionPrueba.entorno, OntologiaInvestigacionPrueba.vital, OntologiaInvestigacionPrueba.estimulante, OntologiaInvestigacionPrueba.iniciativo, OntologiaInvestigacionPrueba.social, OntologiaInvestigacionPrueba.responsabilidad, OntologiaInvestigacionPrueba.actual, OntologiaInvestigacionPrueba.cultura, OntologiaInvestigacionPrueba.colectivo, OntologiaInvestigacionPrueba.diseñar, OntologiaInvestigacionPrueba.sistema, OntologiaInvestigacionPrueba.proceso, OntologiaInvestigacionPrueba.conveniente, OntologiaInvestigacionPrueba.establecer, OntologiaInvestigacionPrueba.individuo, OntologiaInvestigacionPrueba.asociativo, OntologiaInvestigacionPrueba.político]\n"
     ]
    }
   ],
   "source": [
    "#proyecto1.relation_pi_tiene_palabra(palabra)\n",
    "print(proyecto1.pi_tiene_palabra)\n",
    "#print(palabra.palabra_describe_pi)\n"
   ]
  },
  {
   "cell_type": "code",
   "execution_count": 8,
   "metadata": {},
   "outputs": [],
   "source": [
    "proyecto1.pi_tiene_palabra = [palabra]\n",
    "\n",
    "#palabra.palabra_describe_pi = [proyecto1]\n"
   ]
  },
  {
   "cell_type": "code",
   "execution_count": 56,
   "metadata": {
    "tags": []
   },
   "outputs": [
    {
     "name": "stdout",
     "output_type": "stream",
     "text": [
      "[OntologiaInvestigacionPrueba.Proyecto_investigacion]\n",
      "784\n",
      "{OntologiaInvestigacionPrueba.titulo_proyecto_investigacion, OntologiaInvestigacionPrueba.tipo_proyecto_investigacion, OntologiaInvestigacionPrueba.resumen_proyecto_investigacion, OntologiaInvestigacionPrueba.estado_proyecto_investigacion, OntologiaInvestigacionPrueba.pi_tiene_palabra, OntologiaInvestigacionPrueba.id_proyecto_investigacion}\n",
      "[]\n",
      "[OntologiaInvestigacionPrueba.herramienta, OntologiaInvestigacionPrueba.elucidar, OntologiaInvestigacionPrueba.gifba, OntologiaInvestigacionPrueba.tipo, OntologiaInvestigacionPrueba.cambio, OntologiaInvestigacionPrueba.representar, OntologiaInvestigacionPrueba.formar, OntologiaInvestigacionPrueba.natural, OntologiaInvestigacionPrueba.molecular, OntologiaInvestigacionPrueba.parámetro, OntologiaInvestigacionPrueba.cuantificar, OntologiaInvestigacionPrueba.agricultura, OntologiaInvestigacionPrueba.anticancerígeno, OntologiaInvestigacionPrueba.medicinar, OntologiaInvestigacionPrueba.clase, OntologiaInvestigacionPrueba.fausto, OntologiaInvestigacionPrueba.efecto, OntologiaInvestigacionPrueba.rodriguez, OntologiaInvestigacionPrueba.estudiar, OntologiaInvestigacionPrueba.favorecer, OntologiaInvestigacionPrueba.biológico, OntologiaInvestigacionPrueba.anticonvulsivantes, OntologiaInvestigacionPrueba.encontrar, OntologiaInvestigacionPrueba.propiedad, OntologiaInvestigacionPrueba.estructural, OntologiaInvestigacionPrueba.investigación, OntologiaInvestigacionPrueba.sustituyentes, OntologiaInvestigacionPrueba.compuesto, OntologiaInvestigacionPrueba.conllevar, OntologiaInvestigacionPrueba.prototrópico, OntologiaInvestigacionPrueba.tautomérico, OntologiaInvestigacionPrueba.químico, OntologiaInvestigacionPrueba.ampliamente, OntologiaInvestigacionPrueba.exacto, OntologiaInvestigacionPrueba.importancia, OntologiaInvestigacionPrueba.proyectar, OntologiaInvestigacionPrueba.ciencia, OntologiaInvestigacionPrueba.diferenciar, OntologiaInvestigacionPrueba.equilibrio, OntologiaInvestigacionPrueba.anular, OntologiaInvestigacionPrueba.tautoméricas, OntologiaInvestigacionPrueba.amino, OntologiaInvestigacionPrueba.derivar, OntologiaInvestigacionPrueba.heterocíclico, OntologiaInvestigacionPrueba.biológico, OntologiaInvestigacionPrueba.presentar, OntologiaInvestigacionPrueba.condicionar, OntologiaInvestigacionPrueba.básico, OntologiaInvestigacionPrueba.factor, OntologiaInvestigacionPrueba.tautomerismo, OntologiaInvestigacionPrueba.utilizar, OntologiaInvestigacionPrueba.triazoles, OntologiaInvestigacionPrueba.mecanismo, OntologiaInvestigacionPrueba.conocimiento, OntologiaInvestigacionPrueba.químico, OntologiaInvestigacionPrueba.emplear, OntologiaInvestigacionPrueba.andrés, OntologiaInvestigacionPrueba.antiinflamatorios, OntologiaInvestigacionPrueba.preferencia, OntologiaInvestigacionPrueba.reacción, OntologiaInvestigacionPrueba.esencial, OntologiaInvestigacionPrueba.afectar, OntologiaInvestigacionPrueba.diverso, OntologiaInvestigacionPrueba.cesar, OntologiaInvestigacionPrueba.significativo, OntologiaInvestigacionPrueba.sistema, OntologiaInvestigacionPrueba.tautomerización, OntologiaInvestigacionPrueba.grupo, OntologiaInvestigacionPrueba.computacional, OntologiaInvestigacionPrueba.exhibir, OntologiaInvestigacionPrueba.procesar, OntologiaInvestigacionPrueba.área, OntologiaInvestigacionPrueba.aplicar, OntologiaInvestigacionPrueba.reactividad, OntologiaInvestigacionPrueba.consiguiente, OntologiaInvestigacionPrueba.fisicoquímico, OntologiaInvestigacionPrueba.comprender, OntologiaInvestigacionPrueba.augusto, OntologiaInvestigacionPrueba.sustituir, OntologiaInvestigacionPrueba.estructurar, OntologiaInvestigacionPrueba.existir, OntologiaInvestigacionPrueba.antifúngico, OntologiaInvestigacionPrueba.proceso, OntologiaInvestigacionPrueba.computacional, OntologiaInvestigacionPrueba.salazar]\n"
     ]
    }
   ],
   "source": [
    "print(proyecto1.is_a)\n",
    "print(proyecto1.storid)\n",
    "print(proyecto1.get_properties())\n",
    "print(list(proyecto1.get_inverse_properties()))\n",
    "print(proyecto1.pi_tiene_palabra)\n"
   ]
  },
  {
   "cell_type": "code",
   "execution_count": 10,
   "metadata": {
    "tags": []
   },
   "outputs": [
    {
     "name": "stdout",
     "output_type": "stream",
     "text": [
      "[OntologiaInvestigacionPrueba.Palabra]\n",
      "414\n",
      "{OntologiaInvestigacionPrueba.palabra_describe_pi}\n",
      "[(OntologiaInvestigacionPrueba.proyecto_investigacion1, OntologiaInvestigacionPrueba.pi_tiene_palabra)]\n",
      "[OntologiaInvestigacionPrueba.proyecto_investigacion1]\n"
     ]
    }
   ],
   "source": [
    "print(palabra.is_a)\n",
    "print(palabra.storid)\n",
    "print(palabra.get_properties())\n",
    "print(list(palabra.get_inverse_properties()))\n",
    "print(palabra.palabra_describe_pi)"
   ]
  },
  {
   "cell_type": "code",
   "execution_count": 14,
   "metadata": {
    "tags": []
   },
   "outputs": [
    {
     "name": "stdout",
     "output_type": "stream",
     "text": [
      "OntologiaInvestigacionPrueba.pi_tiene_palabra\n",
      "[OntologiaInvestigacionPrueba.Palabra]\n",
      "[OntologiaInvestigacionPrueba.Proyecto_investigacion]\n",
      "###################################\n",
      "OntologiaInvestigacionPrueba.palabra_describe_pi\n",
      "[OntologiaInvestigacionPrueba.Proyecto_investigacion]\n",
      "[OntologiaInvestigacionPrueba.Palabra]\n"
     ]
    }
   ],
   "source": [
    "print(ontologia.palabra_describe_pi.inverse)\n",
    "print(ontologia.palabra_describe_pi.domain)\n",
    "print(ontologia.palabra_describe_pi.range)\n",
    "print(\"###################################\")\n",
    "print(ontologia.pi_tiene_palabra.inverse)\n",
    "print(ontologia.pi_tiene_palabra.domain)\n",
    "print(ontologia.pi_tiene_palabra.range)\n"
   ]
  },
  {
   "cell_type": "code",
   "execution_count": 13,
   "metadata": {},
   "outputs": [
    {
     "data": {
      "text/plain": [
       "39473"
      ]
     },
     "execution_count": 13,
     "metadata": {},
     "output_type": "execute_result"
    }
   ],
   "source": [
    "foo = list(ontologia.pi_tiene_palabra.get_relations())\n",
    "foo"
   ]
  },
  {
   "cell_type": "code",
   "execution_count": 15,
   "metadata": {},
   "outputs": [
    {
     "data": {
      "text/plain": [
       "[]"
      ]
     },
     "execution_count": 15,
     "metadata": {},
     "output_type": "execute_result"
    }
   ],
   "source": [
    "list(ontologia.palabra_describe_pi.get_relations())"
   ]
  },
  {
   "cell_type": "markdown",
   "metadata": {},
   "source": [
    "## Final del TEST"
   ]
  },
  {
   "cell_type": "code",
   "execution_count": null,
   "metadata": {},
   "outputs": [],
   "source": [
    "#Instanciamos palabras de un Proyecto de Investigacion\n"
   ]
  },
  {
   "cell_type": "code",
   "execution_count": 57,
   "metadata": {},
   "outputs": [],
   "source": []
  },
  {
   "cell_type": "markdown",
   "metadata": {},
   "source": [
    "## Funcion Eliminar Individuals"
   ]
  },
  {
   "cell_type": "code",
   "execution_count": 3,
   "metadata": {},
   "outputs": [],
   "source": [
    "# Funcion destruir Individual\n",
    "def destruir_individual(individual):\n",
    "    destroy_entity(individual)"
   ]
  },
  {
   "cell_type": "code",
   "execution_count": 4,
   "metadata": {},
   "outputs": [],
   "source": [
    "# Eliminar TODOS los inviduals\n",
    "for individual in list(ontologia.individuals()):\n",
    "    destruir_individual(individual)"
   ]
  },
  {
   "cell_type": "code",
   "execution_count": 11,
   "metadata": {},
   "outputs": [],
   "source": [
    "# Eliminar Individuals Proyecto de Investigacion\n",
    "for individual in list(ontologia.Proyecto_investigacion.instances()):\n",
    "    destruir_individual(individual)"
   ]
  },
  {
   "cell_type": "code",
   "execution_count": 8,
   "metadata": {},
   "outputs": [],
   "source": [
    "#Eliminar Individuals Palabras\n",
    "for individual in list(ontologia.Palabra.instances()):\n",
    "    destruir_individual(individual)"
   ]
  },
  {
   "cell_type": "code",
   "execution_count": 12,
   "metadata": {},
   "outputs": [
    {
     "data": {
      "text/plain": [
       "[]"
      ]
     },
     "execution_count": 12,
     "metadata": {},
     "output_type": "execute_result"
    }
   ],
   "source": [
    "list(ontologia.Proyecto_investigacion.instances())"
   ]
  },
  {
   "cell_type": "code",
   "execution_count": 9,
   "metadata": {},
   "outputs": [
    {
     "data": {
      "text/plain": [
       "[]"
      ]
     },
     "execution_count": 9,
     "metadata": {},
     "output_type": "execute_result"
    }
   ],
   "source": [
    "#Revisar Todos Individuals\n",
    "list(ontologia.individuals())"
   ]
  },
  {
   "cell_type": "code",
   "execution_count": 5,
   "metadata": {},
   "outputs": [
    {
     "data": {
      "text/plain": [
       "[]"
      ]
     },
     "execution_count": 5,
     "metadata": {},
     "output_type": "execute_result"
    }
   ],
   "source": [
    "#Revisar Individuals Proyectos Investigacion\n",
    "list(ontologia.Proyecto_investigacion.instances())"
   ]
  },
  {
   "cell_type": "code",
   "execution_count": 13,
   "metadata": {},
   "outputs": [],
   "source": [
    "ontologia.save()"
   ]
  }
 ],
 "metadata": {
  "kernelspec": {
   "display_name": "Python 3",
   "language": "python",
   "name": "python_defaultSpec_1600462253793"
  },
  "language_info": {
   "codemirror_mode": {
    "name": "ipython",
    "version": 3
   },
   "file_extension": ".py",
   "mimetype": "text/x-python",
   "name": "python",
   "nbconvert_exporter": "python",
   "pygments_lexer": "ipython3",
   "version": "3.8.3"
  }
 },
 "nbformat": 4,
 "nbformat_minor": 4
}