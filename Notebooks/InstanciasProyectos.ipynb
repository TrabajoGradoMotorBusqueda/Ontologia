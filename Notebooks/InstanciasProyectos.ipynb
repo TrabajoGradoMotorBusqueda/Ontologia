{
 "cells": [
  {
   "cell_type": "markdown",
   "metadata": {},
   "source": [
    "### Librerias Importar"
   ]
  },
  {
   "cell_type": "code",
   "execution_count": 1,
   "metadata": {},
   "outputs": [],
   "source": [
    "import sys\n",
    "# insert at 1, 0 is the script path (or '' in REPL)\n",
    "sys.path.insert(1, '../Scripts')\n",
    "import pandas as pd \n",
    "from ontologia import *"
   ]
  },
  {
   "cell_type": "markdown",
   "metadata": {},
   "source": [
    "# Ejecucion de Resumenes sin limpieza de Textos"
   ]
  },
  {
   "cell_type": "code",
   "execution_count": 2,
   "metadata": {},
   "outputs": [],
   "source": [
    "resumenes_docentes = pd.read_excel(\"./Data/Resumenes.xlsx\", index_col=0 ,sheet_name = \"Proyectos Docentes\", dtype=\"str\")\n",
    "resumenes_estudiantes = pd.read_excel(\"./Data/Resumenes.xlsx\", index_col=0,sheet_name=\"studiantiles y Trabajos de G\", dtype=\"str\")\n",
    "\n",
    "#Asignamos Columnas\n",
    "resumenes_docentes.columns = [\"codigo\", \"titulo\", \"resumen\", \"estado\", \"id_autor\", \"nombre_autor\", \n",
    "                     \"programa\", \"facultad\", \"convocatoria\", \"grupo_investigacion\", \"linea_investigacion\", \"palabras_clave\"]\n",
    "\n",
    "resumenes_estudiantes.columns = ['codigo', 'titulo', 'resumen', 'estado', 'id_autor', 'nombre_autor',\n",
    "       'programa', 'departamento', 'facultad', 'nombre_asesor', 'convocatoria', 'grupo_investigacion', 'linea_investigacion', 'palabras_clave']\n",
    "\n",
    "#Eliminamos NAN\n",
    "resumenes_docentes.dropna(inplace=True)\n",
    "resumenes_estudiantes.dropna(inplace=True)"
   ]
  },
  {
   "cell_type": "code",
   "execution_count": 3,
   "metadata": {},
   "outputs": [
    {
     "data": {
      "text/html": [
       "<div>\n",
       "<style scoped>\n",
       "    .dataframe tbody tr th:only-of-type {\n",
       "        vertical-align: middle;\n",
       "    }\n",
       "\n",
       "    .dataframe tbody tr th {\n",
       "        vertical-align: top;\n",
       "    }\n",
       "\n",
       "    .dataframe thead th {\n",
       "        text-align: right;\n",
       "    }\n",
       "</style>\n",
       "<table border=\"1\" class=\"dataframe\">\n",
       "  <thead>\n",
       "    <tr style=\"text-align: right;\">\n",
       "      <th></th>\n",
       "      <th>codigo</th>\n",
       "      <th>titulo</th>\n",
       "      <th>resumen</th>\n",
       "      <th>estado</th>\n",
       "      <th>id_autor</th>\n",
       "      <th>nombre_autor</th>\n",
       "      <th>programa</th>\n",
       "      <th>facultad</th>\n",
       "      <th>convocatoria</th>\n",
       "      <th>grupo_investigacion</th>\n",
       "      <th>linea_investigacion</th>\n",
       "      <th>palabras_clave</th>\n",
       "    </tr>\n",
       "    <tr>\n",
       "      <th>No.</th>\n",
       "      <th></th>\n",
       "      <th></th>\n",
       "      <th></th>\n",
       "      <th></th>\n",
       "      <th></th>\n",
       "      <th></th>\n",
       "      <th></th>\n",
       "      <th></th>\n",
       "      <th></th>\n",
       "      <th></th>\n",
       "      <th></th>\n",
       "      <th></th>\n",
       "    </tr>\n",
       "  </thead>\n",
       "  <tbody>\n",
       "    <tr>\n",
       "      <th>1.0</th>\n",
       "      <td>1464.0</td>\n",
       "      <td>\"Diagnóstico del impacto de las iniciativas em...</td>\n",
       "      <td>El emprendimiento es entre otras acepciones es...</td>\n",
       "      <td>Vencido</td>\n",
       "      <td>13515.0</td>\n",
       "      <td>Francisco Rafael Ayala</td>\n",
       "      <td>Diseño</td>\n",
       "      <td>Artes</td>\n",
       "      <td>Docente 2017</td>\n",
       "      <td>Currículo y Universidad</td>\n",
       "      <td>Curriculos pertinentes</td>\n",
       "      <td>Diagnóstico</td>\n",
       "    </tr>\n",
       "    <tr>\n",
       "      <th>2.0</th>\n",
       "      <td>1367.0</td>\n",
       "      <td>Acoso Escolar (Bullying) en San Juan de Pasto....</td>\n",
       "      <td>A nivel mundial, uno de cada tres escolares ha...</td>\n",
       "      <td>Prorroga</td>\n",
       "      <td>11902.0</td>\n",
       "      <td>Harvey Mauricio Herrera Lopez</td>\n",
       "      <td>Psicología</td>\n",
       "      <td>Ciencias Humanas</td>\n",
       "      <td>Docente 2017</td>\n",
       "      <td>Psicología y Salud</td>\n",
       "      <td>Aspectos Psicosociales en Procesos de Salud</td>\n",
       "      <td>Acoso Escolar</td>\n",
       "    </tr>\n",
       "    <tr>\n",
       "      <th>3.0</th>\n",
       "      <td>1343.0</td>\n",
       "      <td>ACTIVIDAD ANTIBACTERIAL DE POLIFENOLES DEL AGU...</td>\n",
       "      <td>El cáncer gástrico (CG) es la principal causa ...</td>\n",
       "      <td>Vencido</td>\n",
       "      <td>10081.0</td>\n",
       "      <td>Nelson Humberto Hurtado Gutierrez</td>\n",
       "      <td>Química</td>\n",
       "      <td>Ciencias Exactas y Naturales</td>\n",
       "      <td>Docente 2016</td>\n",
       "      <td>GRUPO DE INVESTIGACIÓN EN PRODUCTOS DE IMPORTA...</td>\n",
       "      <td>Modelado molecular</td>\n",
       "      <td>cancer gastrico</td>\n",
       "    </tr>\n",
       "    <tr>\n",
       "      <th>4.0</th>\n",
       "      <td>1617.0</td>\n",
       "      <td>Actividad antibacterial y citotóxica in vitro ...</td>\n",
       "      <td>El departamento de Nariño gracias a su posició...</td>\n",
       "      <td>En Ejecución</td>\n",
       "      <td>13840.0</td>\n",
       "      <td>Orfa Alexandra España Jojoa</td>\n",
       "      <td>Biología</td>\n",
       "      <td>Ciencias Exactas y Naturales</td>\n",
       "      <td>Docente 2018</td>\n",
       "      <td>Tecnologías Emergentes en Agroindustria</td>\n",
       "      <td>Ingredientes naturales para la industria alime...</td>\n",
       "      <td>Aceites Vegetales</td>\n",
       "    </tr>\n",
       "    <tr>\n",
       "      <th>5.0</th>\n",
       "      <td>622.0</td>\n",
       "      <td>AGUA EXTRAVASCULAR PULMONAR COMO PREDICTOR DE ...</td>\n",
       "      <td>RESUMEN. El estado de choque es una condición ...</td>\n",
       "      <td>Vencido</td>\n",
       "      <td>12084.0</td>\n",
       "      <td>Hector Fabio Sanchez Galvez</td>\n",
       "      <td>Medicina</td>\n",
       "      <td>Ciencias de la Salud</td>\n",
       "      <td>Docente 2012</td>\n",
       "      <td>Grupo de Investigación en Estudios Epidemiológ...</td>\n",
       "      <td>Estudios Epidemiológicos</td>\n",
       "      <td>No se encontraron palabras clave registradas</td>\n",
       "    </tr>\n",
       "  </tbody>\n",
       "</table>\n",
       "</div>"
      ],
      "text/plain": [
       "     codigo                                             titulo  \\\n",
       "No.                                                              \n",
       "1.0  1464.0  \"Diagnóstico del impacto de las iniciativas em...   \n",
       "2.0  1367.0  Acoso Escolar (Bullying) en San Juan de Pasto....   \n",
       "3.0  1343.0  ACTIVIDAD ANTIBACTERIAL DE POLIFENOLES DEL AGU...   \n",
       "4.0  1617.0  Actividad antibacterial y citotóxica in vitro ...   \n",
       "5.0   622.0  AGUA EXTRAVASCULAR PULMONAR COMO PREDICTOR DE ...   \n",
       "\n",
       "                                               resumen        estado  \\\n",
       "No.                                                                    \n",
       "1.0  El emprendimiento es entre otras acepciones es...       Vencido   \n",
       "2.0  A nivel mundial, uno de cada tres escolares ha...      Prorroga   \n",
       "3.0  El cáncer gástrico (CG) es la principal causa ...       Vencido   \n",
       "4.0  El departamento de Nariño gracias a su posició...  En Ejecución   \n",
       "5.0  RESUMEN. El estado de choque es una condición ...       Vencido   \n",
       "\n",
       "     id_autor                       nombre_autor    programa  \\\n",
       "No.                                                            \n",
       "1.0   13515.0             Francisco Rafael Ayala      Diseño   \n",
       "2.0   11902.0      Harvey Mauricio Herrera Lopez  Psicología   \n",
       "3.0   10081.0  Nelson Humberto Hurtado Gutierrez     Química   \n",
       "4.0   13840.0        Orfa Alexandra España Jojoa    Biología   \n",
       "5.0   12084.0        Hector Fabio Sanchez Galvez    Medicina   \n",
       "\n",
       "                         facultad  convocatoria  \\\n",
       "No.                                               \n",
       "1.0                         Artes  Docente 2017   \n",
       "2.0              Ciencias Humanas  Docente 2017   \n",
       "3.0  Ciencias Exactas y Naturales  Docente 2016   \n",
       "4.0  Ciencias Exactas y Naturales  Docente 2018   \n",
       "5.0          Ciencias de la Salud  Docente 2012   \n",
       "\n",
       "                                   grupo_investigacion  \\\n",
       "No.                                                      \n",
       "1.0                            Currículo y Universidad   \n",
       "2.0                                 Psicología y Salud   \n",
       "3.0  GRUPO DE INVESTIGACIÓN EN PRODUCTOS DE IMPORTA...   \n",
       "4.0            Tecnologías Emergentes en Agroindustria   \n",
       "5.0  Grupo de Investigación en Estudios Epidemiológ...   \n",
       "\n",
       "                                   linea_investigacion  \\\n",
       "No.                                                      \n",
       "1.0                             Curriculos pertinentes   \n",
       "2.0        Aspectos Psicosociales en Procesos de Salud   \n",
       "3.0                                 Modelado molecular   \n",
       "4.0  Ingredientes naturales para la industria alime...   \n",
       "5.0                           Estudios Epidemiológicos   \n",
       "\n",
       "                                   palabras_clave  \n",
       "No.                                                \n",
       "1.0                                   Diagnóstico  \n",
       "2.0                                 Acoso Escolar  \n",
       "3.0                               cancer gastrico  \n",
       "4.0                             Aceites Vegetales  \n",
       "5.0  No se encontraron palabras clave registradas  "
      ]
     },
     "execution_count": 3,
     "metadata": {},
     "output_type": "execute_result"
    }
   ],
   "source": [
    "resumenes_docentes.head(5)"
   ]
  },
  {
   "cell_type": "markdown",
   "metadata": {},
   "source": [
    "# Carga de Resumenes con vocabulario Añadido\n",
    "\n",
    "- Ejecutar a partir de aqui ya que son dataset limpio y de prueba"
   ]
  },
  {
   "cell_type": "code",
   "execution_count": 2,
   "metadata": {},
   "outputs": [],
   "source": [
    "#Carga de datos\n",
    "resumenes_docentes = pd.read_csv(\"./Resumenes/ResumenesDocentes.csv\", index_col=0)\n",
    "resumenes_estudiantes = pd.read_csv(\"./Resumenes/ResumenesEstudiantes.csv\", index_col=0)"
   ]
  },
  {
   "cell_type": "code",
   "execution_count": 4,
   "metadata": {},
   "outputs": [
    {
     "output_type": "execute_result",
     "data": {
      "text/plain": "     codigo                                             titulo  \\\nNo.                                                              \n1.0    1464  \"Diagnóstico del impacto de las iniciativas em...   \n2.0    1367  Acoso Escolar (Bullying) en San Juan de Pasto....   \n3.0    1343  ACTIVIDAD ANTIBACTERIAL DE POLIFENOLES DEL AGU...   \n4.0    1617  Actividad antibacterial y citotóxica in vitro ...   \n5.0     622  AGUA EXTRAVASCULAR PULMONAR COMO PREDICTOR DE ...   \n\n                                               resumen        estado  \\\nNo.                                                                    \n1.0  El emprendimiento es entre otras acepciones es...       Vencido   \n2.0  A nivel mundial, uno de cada tres escolares ha...      Prorroga   \n3.0  El cáncer gástrico (CG) es la principal causa ...       Vencido   \n4.0  El departamento de Nariño gracias a su posició...  En Ejecución   \n5.0  RESUMEN. El estado de choque es una condición ...       Vencido   \n\n     id_autor                       nombre_autor    programa  \\\nNo.                                                            \n1.0     13515             Francisco Rafael Ayala      Diseño   \n2.0     11902      Harvey Mauricio Herrera Lopez  Psicología   \n3.0     10081  Nelson Humberto Hurtado Gutierrez     Química   \n4.0     13840        Orfa Alexandra España Jojoa    Biología   \n5.0     12084        Hector Fabio Sanchez Galvez    Medicina   \n\n                         facultad  convocatoria  \\\nNo.                                               \n1.0                         Artes  Docente 2017   \n2.0              Ciencias Humanas  Docente 2017   \n3.0  Ciencias Exactas y Naturales  Docente 2016   \n4.0  Ciencias Exactas y Naturales  Docente 2018   \n5.0          Ciencias de la Salud  Docente 2012   \n\n                                   grupo_investigacion  \\\nNo.                                                      \n1.0                            Currículo y Universidad   \n2.0                                 Psicología y Salud   \n3.0  GRUPO DE INVESTIGACIÓN EN PRODUCTOS DE IMPORTA...   \n4.0            Tecnologías Emergentes en Agroindustria   \n5.0  Grupo de Investigación en Estudios Epidemiológ...   \n\n                                   linea_investigacion     palabras_clave  \\\nNo.                                                                         \n1.0                             Curriculos pertinentes        Diagnóstico   \n2.0        Aspectos Psicosociales en Procesos de Salud      Acoso Escolar   \n3.0                                 Modelado molecular    cancer gastrico   \n4.0  Ingredientes naturales para la industria alime...  Aceites Vegetales   \n5.0                           Estudios Epidemiológicos                      \n\n                                                corpus  \\\nNo.                                                      \n1.0  \"Diagnóstico del impacto de las iniciativas em...   \n2.0  Acoso Escolar (Bullying) en San Juan de Pasto....   \n3.0  ACTIVIDAD ANTIBACTERIAL DE POLIFENOLES DEL AGU...   \n4.0  Actividad antibacterial y citotóxica in vitro ...   \n5.0  AGUA EXTRAVASCULAR PULMONAR COMO PREDICTOR DE ...   \n\n                                              palabras  \\\nNo.                                                      \n1.0  ['diagnóstico', 'impacto', 'iniciativas', 'emp...   \n2.0  ['acoso', 'escolar', 'bullying', 'juan', 'past...   \n3.0  ['actividad', 'antibacterial', 'polifenoles', ...   \n4.0  ['actividad', 'antibacterial', 'citotóxica', '...   \n5.0  ['agua', 'extravascular', 'pulmonar', 'predict...   \n\n                                           vocabulario  \nNo.                                                     \n1.0  ['soluciones', 'latente', 'académicas', 'modal...  \n2.0  ['humanas', 'actual', 'incluyen', 'básic', 'de...  \n3.0  ['alto', 'activas', 'origen', 'aguacate', 'pre...  \n4.0  ['ambiente', 'coli', 'tecnología', 'lulo', 'co...  \n5.0  ['simple', 'incluyen', 'tecnología', 'permitid...  ",
      "text/html": "<div>\n<style scoped>\n    .dataframe tbody tr th:only-of-type {\n        vertical-align: middle;\n    }\n\n    .dataframe tbody tr th {\n        vertical-align: top;\n    }\n\n    .dataframe thead th {\n        text-align: right;\n    }\n</style>\n<table border=\"1\" class=\"dataframe\">\n  <thead>\n    <tr style=\"text-align: right;\">\n      <th></th>\n      <th>codigo</th>\n      <th>titulo</th>\n      <th>resumen</th>\n      <th>estado</th>\n      <th>id_autor</th>\n      <th>nombre_autor</th>\n      <th>programa</th>\n      <th>facultad</th>\n      <th>convocatoria</th>\n      <th>grupo_investigacion</th>\n      <th>linea_investigacion</th>\n      <th>palabras_clave</th>\n      <th>corpus</th>\n      <th>palabras</th>\n      <th>vocabulario</th>\n    </tr>\n    <tr>\n      <th>No.</th>\n      <th></th>\n      <th></th>\n      <th></th>\n      <th></th>\n      <th></th>\n      <th></th>\n      <th></th>\n      <th></th>\n      <th></th>\n      <th></th>\n      <th></th>\n      <th></th>\n      <th></th>\n      <th></th>\n      <th></th>\n    </tr>\n  </thead>\n  <tbody>\n    <tr>\n      <th>1.0</th>\n      <td>1464</td>\n      <td>\"Diagnóstico del impacto de las iniciativas em...</td>\n      <td>El emprendimiento es entre otras acepciones es...</td>\n      <td>Vencido</td>\n      <td>13515</td>\n      <td>Francisco Rafael Ayala</td>\n      <td>Diseño</td>\n      <td>Artes</td>\n      <td>Docente 2017</td>\n      <td>Currículo y Universidad</td>\n      <td>Curriculos pertinentes</td>\n      <td>Diagnóstico</td>\n      <td>\"Diagnóstico del impacto de las iniciativas em...</td>\n      <td>['diagnóstico', 'impacto', 'iniciativas', 'emp...</td>\n      <td>['soluciones', 'latente', 'académicas', 'modal...</td>\n    </tr>\n    <tr>\n      <th>2.0</th>\n      <td>1367</td>\n      <td>Acoso Escolar (Bullying) en San Juan de Pasto....</td>\n      <td>A nivel mundial, uno de cada tres escolares ha...</td>\n      <td>Prorroga</td>\n      <td>11902</td>\n      <td>Harvey Mauricio Herrera Lopez</td>\n      <td>Psicología</td>\n      <td>Ciencias Humanas</td>\n      <td>Docente 2017</td>\n      <td>Psicología y Salud</td>\n      <td>Aspectos Psicosociales en Procesos de Salud</td>\n      <td>Acoso Escolar</td>\n      <td>Acoso Escolar (Bullying) en San Juan de Pasto....</td>\n      <td>['acoso', 'escolar', 'bullying', 'juan', 'past...</td>\n      <td>['humanas', 'actual', 'incluyen', 'básic', 'de...</td>\n    </tr>\n    <tr>\n      <th>3.0</th>\n      <td>1343</td>\n      <td>ACTIVIDAD ANTIBACTERIAL DE POLIFENOLES DEL AGU...</td>\n      <td>El cáncer gástrico (CG) es la principal causa ...</td>\n      <td>Vencido</td>\n      <td>10081</td>\n      <td>Nelson Humberto Hurtado Gutierrez</td>\n      <td>Química</td>\n      <td>Ciencias Exactas y Naturales</td>\n      <td>Docente 2016</td>\n      <td>GRUPO DE INVESTIGACIÓN EN PRODUCTOS DE IMPORTA...</td>\n      <td>Modelado molecular</td>\n      <td>cancer gastrico</td>\n      <td>ACTIVIDAD ANTIBACTERIAL DE POLIFENOLES DEL AGU...</td>\n      <td>['actividad', 'antibacterial', 'polifenoles', ...</td>\n      <td>['alto', 'activas', 'origen', 'aguacate', 'pre...</td>\n    </tr>\n    <tr>\n      <th>4.0</th>\n      <td>1617</td>\n      <td>Actividad antibacterial y citotóxica in vitro ...</td>\n      <td>El departamento de Nariño gracias a su posició...</td>\n      <td>En Ejecución</td>\n      <td>13840</td>\n      <td>Orfa Alexandra España Jojoa</td>\n      <td>Biología</td>\n      <td>Ciencias Exactas y Naturales</td>\n      <td>Docente 2018</td>\n      <td>Tecnologías Emergentes en Agroindustria</td>\n      <td>Ingredientes naturales para la industria alime...</td>\n      <td>Aceites Vegetales</td>\n      <td>Actividad antibacterial y citotóxica in vitro ...</td>\n      <td>['actividad', 'antibacterial', 'citotóxica', '...</td>\n      <td>['ambiente', 'coli', 'tecnología', 'lulo', 'co...</td>\n    </tr>\n    <tr>\n      <th>5.0</th>\n      <td>622</td>\n      <td>AGUA EXTRAVASCULAR PULMONAR COMO PREDICTOR DE ...</td>\n      <td>RESUMEN. El estado de choque es una condición ...</td>\n      <td>Vencido</td>\n      <td>12084</td>\n      <td>Hector Fabio Sanchez Galvez</td>\n      <td>Medicina</td>\n      <td>Ciencias de la Salud</td>\n      <td>Docente 2012</td>\n      <td>Grupo de Investigación en Estudios Epidemiológ...</td>\n      <td>Estudios Epidemiológicos</td>\n      <td></td>\n      <td>AGUA EXTRAVASCULAR PULMONAR COMO PREDICTOR DE ...</td>\n      <td>['agua', 'extravascular', 'pulmonar', 'predict...</td>\n      <td>['simple', 'incluyen', 'tecnología', 'permitid...</td>\n    </tr>\n  </tbody>\n</table>\n</div>"
     },
     "metadata": {},
     "execution_count": 4
    }
   ],
   "source": [
    "#Revision rapida de los datos\n",
    "resumenes_docentes.head(5)"
   ]
  },
  {
   "cell_type": "markdown",
   "metadata": {},
   "source": [
    "## Funcion Crear Instancia Proyectos"
   ]
  },
  {
   "cell_type": "code",
   "execution_count": 3,
   "metadata": {},
   "outputs": [],
   "source": [
    "def instanciar_proyectos(nombre, id_investigacion, titulo, resumen, estado, tipo):\n",
    "    proyecto_investigacion = Proyecto_investigacion(nombre)\n",
    "    proyecto_investigacion.set_id_proyecto_investigacion(id_investigacion)\n",
    "    proyecto_investigacion.set_titulo_proyecto_investigacion(titulo)\n",
    "    proyecto_investigacion.set_resumen_proyecto_investigacion(resumen)\n",
    "    proyecto_investigacion.set_estado_proyecto_investigacion(estado)\n",
    "    proyecto_investigacion.set_tipo_proyecto_investigacion(tipo)"
   ]
  },
  {
   "cell_type": "markdown",
   "metadata": {},
   "source": [
    "- **Proyectos Docentes**"
   ]
  },
  {
   "cell_type": "code",
   "execution_count": 5,
   "metadata": {},
   "outputs": [],
   "source": [
    "# Instanciar Proyectos Docentes\n",
    "for index, row in resumenes_docentes.iterrows():\n",
    "    instanciar_proyectos(\"proyecto_investigacion\"+str(int(index)) , str(int(index)), row['titulo'], row['resumen'], row['estado'], row['convocatoria'])\n"
   ]
  },
  {
   "cell_type": "markdown",
   "metadata": {},
   "source": [
    "- **Proyectos - Estudiantes**"
   ]
  },
  {
   "cell_type": "code",
   "execution_count": 11,
   "metadata": {},
   "outputs": [],
   "source": [
    "#Instanciar proyectos Estudiantes desde el ultimo index de proyecto docente.\n",
    "for index, row in resumenes_estudiantes.iterrows():\n",
    "    instanciar_proyectos(\"proyecto_investigacion\"+str(int(index+312)) , str(int(index+312)), row['titulo'], row['resumen'], row['estado'], row['convocatoria'])\n"
   ]
  },
  {
   "cell_type": "code",
   "execution_count": 9,
   "metadata": {},
   "outputs": [
    {
     "output_type": "execute_result",
     "data": {
      "text/plain": "308"
     },
     "metadata": {},
     "execution_count": 9
    }
   ],
   "source": [
    "# Revisamos Cuantos proyectos se han instanciado\n",
    "len(list(ontologia.Proyecto_investigacion.instances()))"
   ]
  },
  {
   "cell_type": "markdown",
   "metadata": {},
   "source": [
    "## Funcion instanciar palabras y relacionar"
   ]
  },
  {
   "cell_type": "code",
   "execution_count": 19,
   "metadata": {},
   "outputs": [],
   "source": [
    "def instanciar_palabra(nombre_palabra, proyecto_investigacion):\n",
    "    palabra = Palabra(nombre_palabra)\n",
    "    #palabra.set_id_palabra(id_palabra)\n",
    "    palabra.set_descripcion_palabra(nombre_palabra)\n",
    "    proyecto_investigacion.relation_pi_tiene_palabra(palabra)    \n",
    "    palabra.relation_palabra_describe_pi(proyecto_investigacion)"
   ]
  },
  {
   "cell_type": "code",
   "execution_count": 20,
   "metadata": {},
   "outputs": [
    {
     "output_type": "error",
     "ename": "AttributeError",
     "evalue": "'str' object has no attribute 'storid'",
     "traceback": [
      "\u001b[0;31m---------------------------------------------------------------------------\u001b[0m",
      "\u001b[0;31mAttributeError\u001b[0m                            Traceback (most recent call last)",
      "\u001b[0;32m<ipython-input-20-7a8dedec9f7d>\u001b[0m in \u001b[0;36m<module>\u001b[0;34m\u001b[0m\n\u001b[1;32m      2\u001b[0m \u001b[0mvocabulario\u001b[0m \u001b[0;34m=\u001b[0m \u001b[0mresumenes_docentes\u001b[0m\u001b[0;34m.\u001b[0m\u001b[0mloc\u001b[0m\u001b[0;34m[\u001b[0m\u001b[0;36m1\u001b[0m\u001b[0;34m]\u001b[0m\u001b[0;34m[\u001b[0m\u001b[0;34m'vocabulario'\u001b[0m\u001b[0;34m]\u001b[0m\u001b[0;34m\u001b[0m\u001b[0;34m\u001b[0m\u001b[0m\n\u001b[1;32m      3\u001b[0m \u001b[0;32mfor\u001b[0m \u001b[0mpalabra\u001b[0m \u001b[0;32min\u001b[0m \u001b[0mvocabulario\u001b[0m\u001b[0;34m:\u001b[0m\u001b[0;34m\u001b[0m\u001b[0;34m\u001b[0m\u001b[0m\n\u001b[0;32m----> 4\u001b[0;31m         \u001b[0minstanciar_palabra\u001b[0m\u001b[0;34m(\u001b[0m\u001b[0mpalabra\u001b[0m\u001b[0;34m,\u001b[0m \u001b[0mproyectos_investigacion\u001b[0m\u001b[0;34m[\u001b[0m\u001b[0;36m0\u001b[0m\u001b[0;34m]\u001b[0m\u001b[0;34m)\u001b[0m\u001b[0;34m\u001b[0m\u001b[0;34m\u001b[0m\u001b[0m\n\u001b[0m",
      "\u001b[0;32m<ipython-input-19-b4d02d2c8663>\u001b[0m in \u001b[0;36minstanciar_palabra\u001b[0;34m(nombre_palabra, proyecto_investigacion)\u001b[0m\n\u001b[1;32m      3\u001b[0m     \u001b[0;31m#palabra.set_id_palabra(id_palabra)\u001b[0m\u001b[0;34m\u001b[0m\u001b[0;34m\u001b[0m\u001b[0;34m\u001b[0m\u001b[0m\n\u001b[1;32m      4\u001b[0m     \u001b[0mpalabra\u001b[0m\u001b[0;34m.\u001b[0m\u001b[0mset_descripcion_palabra\u001b[0m\u001b[0;34m(\u001b[0m\u001b[0mnombre_palabra\u001b[0m\u001b[0;34m)\u001b[0m\u001b[0;34m\u001b[0m\u001b[0;34m\u001b[0m\u001b[0m\n\u001b[0;32m----> 5\u001b[0;31m     \u001b[0mproyecto_investigacion\u001b[0m\u001b[0;34m.\u001b[0m\u001b[0mrelation_pi_tiene_palabra\u001b[0m\u001b[0;34m(\u001b[0m\u001b[0mnombre_palabra\u001b[0m\u001b[0;34m)\u001b[0m\u001b[0;34m\u001b[0m\u001b[0;34m\u001b[0m\u001b[0m\n\u001b[0m\u001b[1;32m      6\u001b[0m     \u001b[0mpalabra\u001b[0m\u001b[0;34m.\u001b[0m\u001b[0mrelation_palabra_describe_pi\u001b[0m\u001b[0;34m(\u001b[0m\u001b[0mproyecto_investigacion\u001b[0m\u001b[0;34m)\u001b[0m\u001b[0;34m\u001b[0m\u001b[0;34m\u001b[0m\u001b[0m\n",
      "\u001b[0;32m~/RepositoriosTG/Ontologia/Scripts/ontologia.py\u001b[0m in \u001b[0;36mrelation_pi_tiene_palabra\u001b[0;34m(self, palabra)\u001b[0m\n\u001b[1;32m    208\u001b[0m         \u001b[0;31m# Metodo Proyecto_investigacion\u001b[0m\u001b[0;34m\u001b[0m\u001b[0;34m\u001b[0m\u001b[0;34m\u001b[0m\u001b[0m\n\u001b[1;32m    209\u001b[0m         \u001b[0;32mdef\u001b[0m \u001b[0mrelation_pi_tiene_palabra\u001b[0m\u001b[0;34m(\u001b[0m\u001b[0mself\u001b[0m\u001b[0;34m,\u001b[0m \u001b[0mpalabra\u001b[0m\u001b[0;34m)\u001b[0m\u001b[0;34m:\u001b[0m\u001b[0;34m\u001b[0m\u001b[0;34m\u001b[0m\u001b[0m\n\u001b[0;32m--> 210\u001b[0;31m             \u001b[0mself\u001b[0m\u001b[0;34m.\u001b[0m\u001b[0mpi_tiene_palabra\u001b[0m\u001b[0;34m.\u001b[0m\u001b[0mappend\u001b[0m\u001b[0;34m(\u001b[0m\u001b[0mpalabra\u001b[0m\u001b[0;34m)\u001b[0m\u001b[0;34m\u001b[0m\u001b[0;34m\u001b[0m\u001b[0m\n\u001b[0m\u001b[1;32m    211\u001b[0m \u001b[0;34m\u001b[0m\u001b[0m\n\u001b[1;32m    212\u001b[0m \u001b[0;34m\u001b[0m\u001b[0m\n",
      "\u001b[0;32m~/anaconda3/envs/tesis/lib/python3.7/site-packages/owlready2/util.py\u001b[0m in \u001b[0;36mappend\u001b[0;34m(self, x)\u001b[0m\n\u001b[1;32m     75\u001b[0m   \u001b[0;32mdef\u001b[0m \u001b[0m_replace\u001b[0m\u001b[0;34m(\u001b[0m\u001b[0mself\u001b[0m\u001b[0;34m,\u001b[0m \u001b[0mold\u001b[0m\u001b[0;34m,\u001b[0m \u001b[0mnew\u001b[0m\u001b[0;34m)\u001b[0m\u001b[0;34m:\u001b[0m \u001b[0msuper\u001b[0m\u001b[0;34m(\u001b[0m\u001b[0;34m)\u001b[0m\u001b[0;34m.\u001b[0m\u001b[0m__setitem__\u001b[0m\u001b[0;34m(\u001b[0m\u001b[0mself\u001b[0m\u001b[0;34m.\u001b[0m\u001b[0mindex\u001b[0m\u001b[0;34m(\u001b[0m\u001b[0mold\u001b[0m\u001b[0;34m)\u001b[0m\u001b[0;34m,\u001b[0m \u001b[0mnew\u001b[0m\u001b[0;34m)\u001b[0m\u001b[0;34m\u001b[0m\u001b[0;34m\u001b[0m\u001b[0m\n\u001b[1;32m     76\u001b[0m   \u001b[0;32mdef\u001b[0m \u001b[0mreinit\u001b[0m\u001b[0;34m(\u001b[0m\u001b[0mself\u001b[0m\u001b[0;34m,\u001b[0m \u001b[0ml\u001b[0m\u001b[0;34m)\u001b[0m\u001b[0;34m:\u001b[0m          \u001b[0mold\u001b[0m \u001b[0;34m=\u001b[0m \u001b[0mlist\u001b[0m\u001b[0;34m(\u001b[0m\u001b[0mself\u001b[0m\u001b[0;34m)\u001b[0m\u001b[0;34m;\u001b[0m \u001b[0msuper\u001b[0m\u001b[0;34m(\u001b[0m\u001b[0;34m)\u001b[0m\u001b[0;34m.\u001b[0m\u001b[0m__init__\u001b[0m\u001b[0;34m(\u001b[0m\u001b[0ml\u001b[0m\u001b[0;34m)\u001b[0m       \u001b[0;34m;\u001b[0m \u001b[0mself\u001b[0m\u001b[0;34m.\u001b[0m\u001b[0m_callback\u001b[0m\u001b[0;34m(\u001b[0m\u001b[0mself\u001b[0m\u001b[0;34m.\u001b[0m\u001b[0m_obj\u001b[0m\u001b[0;34m,\u001b[0m \u001b[0mold\u001b[0m\u001b[0;34m)\u001b[0m\u001b[0;34m\u001b[0m\u001b[0;34m\u001b[0m\u001b[0m\n\u001b[0;32m---> 77\u001b[0;31m   \u001b[0;32mdef\u001b[0m \u001b[0mappend\u001b[0m\u001b[0;34m(\u001b[0m\u001b[0mself\u001b[0m\u001b[0;34m,\u001b[0m \u001b[0mx\u001b[0m\u001b[0;34m)\u001b[0m\u001b[0;34m:\u001b[0m          \u001b[0mold\u001b[0m \u001b[0;34m=\u001b[0m \u001b[0mlist\u001b[0m\u001b[0;34m(\u001b[0m\u001b[0mself\u001b[0m\u001b[0;34m)\u001b[0m\u001b[0;34m;\u001b[0m \u001b[0msuper\u001b[0m\u001b[0;34m(\u001b[0m\u001b[0;34m)\u001b[0m\u001b[0;34m.\u001b[0m\u001b[0mappend\u001b[0m\u001b[0;34m(\u001b[0m\u001b[0mx\u001b[0m\u001b[0;34m)\u001b[0m         \u001b[0;34m;\u001b[0m \u001b[0mself\u001b[0m\u001b[0;34m.\u001b[0m\u001b[0m_callback\u001b[0m\u001b[0;34m(\u001b[0m\u001b[0mself\u001b[0m\u001b[0;34m.\u001b[0m\u001b[0m_obj\u001b[0m\u001b[0;34m,\u001b[0m \u001b[0mold\u001b[0m\u001b[0;34m)\u001b[0m\u001b[0;34m\u001b[0m\u001b[0;34m\u001b[0m\u001b[0m\n\u001b[0m\u001b[1;32m     78\u001b[0m   \u001b[0;32mdef\u001b[0m \u001b[0minsert\u001b[0m\u001b[0;34m(\u001b[0m\u001b[0mself\u001b[0m\u001b[0;34m,\u001b[0m \u001b[0mi\u001b[0m\u001b[0;34m,\u001b[0m \u001b[0mx\u001b[0m\u001b[0;34m)\u001b[0m\u001b[0;34m:\u001b[0m       \u001b[0mold\u001b[0m \u001b[0;34m=\u001b[0m \u001b[0mlist\u001b[0m\u001b[0;34m(\u001b[0m\u001b[0mself\u001b[0m\u001b[0;34m)\u001b[0m\u001b[0;34m;\u001b[0m \u001b[0msuper\u001b[0m\u001b[0;34m(\u001b[0m\u001b[0;34m)\u001b[0m\u001b[0;34m.\u001b[0m\u001b[0minsert\u001b[0m\u001b[0;34m(\u001b[0m\u001b[0mi\u001b[0m\u001b[0;34m,\u001b[0m \u001b[0mx\u001b[0m\u001b[0;34m)\u001b[0m      \u001b[0;34m;\u001b[0m \u001b[0mself\u001b[0m\u001b[0;34m.\u001b[0m\u001b[0m_callback\u001b[0m\u001b[0;34m(\u001b[0m\u001b[0mself\u001b[0m\u001b[0;34m.\u001b[0m\u001b[0m_obj\u001b[0m\u001b[0;34m,\u001b[0m \u001b[0mold\u001b[0m\u001b[0;34m)\u001b[0m\u001b[0;34m\u001b[0m\u001b[0;34m\u001b[0m\u001b[0m\n\u001b[1;32m     79\u001b[0m   \u001b[0;32mdef\u001b[0m \u001b[0mextend\u001b[0m\u001b[0;34m(\u001b[0m\u001b[0mself\u001b[0m\u001b[0;34m,\u001b[0m \u001b[0ml\u001b[0m\u001b[0;34m)\u001b[0m\u001b[0;34m:\u001b[0m          \u001b[0mold\u001b[0m \u001b[0;34m=\u001b[0m \u001b[0mlist\u001b[0m\u001b[0;34m(\u001b[0m\u001b[0mself\u001b[0m\u001b[0;34m)\u001b[0m\u001b[0;34m;\u001b[0m \u001b[0msuper\u001b[0m\u001b[0;34m(\u001b[0m\u001b[0;34m)\u001b[0m\u001b[0;34m.\u001b[0m\u001b[0mextend\u001b[0m\u001b[0;34m(\u001b[0m\u001b[0ml\u001b[0m\u001b[0;34m)\u001b[0m         \u001b[0;34m;\u001b[0m \u001b[0mself\u001b[0m\u001b[0;34m.\u001b[0m\u001b[0m_callback\u001b[0m\u001b[0;34m(\u001b[0m\u001b[0mself\u001b[0m\u001b[0;34m.\u001b[0m\u001b[0m_obj\u001b[0m\u001b[0;34m,\u001b[0m \u001b[0mold\u001b[0m\u001b[0;34m)\u001b[0m\u001b[0;34m\u001b[0m\u001b[0;34m\u001b[0m\u001b[0m\n",
      "\u001b[0;32m~/anaconda3/envs/tesis/lib/python3.7/site-packages/owlready2/prop.py\u001b[0m in \u001b[0;36m_callback\u001b[0;34m(self, obj, old)\u001b[0m\n\u001b[1;32m   1043\u001b[0m \u001b[0;34m\u001b[0m\u001b[0m\n\u001b[1;32m   1044\u001b[0m       \u001b[0;32mfor\u001b[0m \u001b[0madded\u001b[0m \u001b[0;32min\u001b[0m \u001b[0mnew\u001b[0m \u001b[0;34m-\u001b[0m \u001b[0mold\u001b[0m\u001b[0;34m:\u001b[0m\u001b[0;34m\u001b[0m\u001b[0;34m\u001b[0m\u001b[0m\n\u001b[0;32m-> 1045\u001b[0;31m         \u001b[0mobj\u001b[0m\u001b[0;34m.\u001b[0m\u001b[0mnamespace\u001b[0m\u001b[0;34m.\u001b[0m\u001b[0montology\u001b[0m\u001b[0;34m.\u001b[0m\u001b[0m_add_obj_triple_spo\u001b[0m\u001b[0;34m(\u001b[0m\u001b[0mobj\u001b[0m\u001b[0;34m.\u001b[0m\u001b[0mstorid\u001b[0m\u001b[0;34m,\u001b[0m \u001b[0mself\u001b[0m\u001b[0;34m.\u001b[0m\u001b[0m_Prop\u001b[0m\u001b[0;34m.\u001b[0m\u001b[0mstorid\u001b[0m\u001b[0;34m,\u001b[0m \u001b[0madded\u001b[0m\u001b[0;34m.\u001b[0m\u001b[0mstorid\u001b[0m\u001b[0;34m)\u001b[0m\u001b[0;34m\u001b[0m\u001b[0;34m\u001b[0m\u001b[0m\n\u001b[0m\u001b[1;32m   1046\u001b[0m         \u001b[0madded\u001b[0m\u001b[0;34m.\u001b[0m\u001b[0m__dict__\u001b[0m\u001b[0;34m.\u001b[0m\u001b[0mpop\u001b[0m\u001b[0;34m(\u001b[0m\u001b[0minverse_python_name\u001b[0m\u001b[0;34m,\u001b[0m \u001b[0;32mNone\u001b[0m\u001b[0;34m)\u001b[0m \u001b[0;31m# Remove => force reloading; XXX optimizable\u001b[0m\u001b[0;34m\u001b[0m\u001b[0;34m\u001b[0m\u001b[0m\n\u001b[1;32m   1047\u001b[0m \u001b[0;34m\u001b[0m\u001b[0m\n",
      "\u001b[0;31mAttributeError\u001b[0m: 'str' object has no attribute 'storid'"
     ]
    }
   ],
   "source": [
    "proyectos_investigacion = list(ontologia.Proyecto_investigacion.instances())\n",
    "vocabulario = resumenes_docentes.loc[1]['vocabulario']\n",
    "for palabra in vocabulario:\n",
    "        instanciar_palabra(palabra, proyectos_investigacion[0])"
   ]
  },
  {
   "cell_type": "code",
   "execution_count": 14,
   "metadata": {},
   "outputs": [
    {
     "output_type": "error",
     "ename": "KeyboardInterrupt",
     "evalue": "",
     "traceback": [
      "\u001b[0;31m---------------------------------------------------------------------------\u001b[0m",
      "\u001b[0;31mKeyboardInterrupt\u001b[0m                         Traceback (most recent call last)",
      "\u001b[0;32m<ipython-input-14-3045b2594dd2>\u001b[0m in \u001b[0;36m<module>\u001b[0;34m\u001b[0m\n\u001b[1;32m      3\u001b[0m     \u001b[0mproyectos_investigacion\u001b[0m \u001b[0;34m=\u001b[0m \u001b[0mlist\u001b[0m\u001b[0;34m(\u001b[0m\u001b[0montologia\u001b[0m\u001b[0;34m.\u001b[0m\u001b[0mProyecto_investigacion\u001b[0m\u001b[0;34m.\u001b[0m\u001b[0minstances\u001b[0m\u001b[0;34m(\u001b[0m\u001b[0;34m)\u001b[0m\u001b[0;34m)\u001b[0m\u001b[0;34m\u001b[0m\u001b[0;34m\u001b[0m\u001b[0m\n\u001b[1;32m      4\u001b[0m     \u001b[0;32mfor\u001b[0m \u001b[0mpalabra\u001b[0m \u001b[0;32min\u001b[0m \u001b[0mvocabulario\u001b[0m\u001b[0;34m:\u001b[0m\u001b[0;34m\u001b[0m\u001b[0;34m\u001b[0m\u001b[0m\n\u001b[0;32m----> 5\u001b[0;31m         \u001b[0minstanciar_palabra\u001b[0m\u001b[0;34m(\u001b[0m\u001b[0mpalabra\u001b[0m\u001b[0;34m,\u001b[0m \u001b[0mproyectos_investigacion\u001b[0m\u001b[0;34m[\u001b[0m\u001b[0mint\u001b[0m\u001b[0;34m(\u001b[0m\u001b[0mindex\u001b[0m\u001b[0;34m)\u001b[0m\u001b[0;34m]\u001b[0m\u001b[0;34m)\u001b[0m\u001b[0;34m\u001b[0m\u001b[0;34m\u001b[0m\u001b[0m\n\u001b[0m",
      "\u001b[0;32m<ipython-input-8-e9c593492323>\u001b[0m in \u001b[0;36minstanciar_palabra\u001b[0;34m(nombre, proyecto_investigacion)\u001b[0m\n\u001b[1;32m      3\u001b[0m     \u001b[0;31m#palabra.set_id_palabra(id_palabra)\u001b[0m\u001b[0;34m\u001b[0m\u001b[0;34m\u001b[0m\u001b[0;34m\u001b[0m\u001b[0m\n\u001b[1;32m      4\u001b[0m     \u001b[0mpalabra\u001b[0m\u001b[0;34m.\u001b[0m\u001b[0mset_descripcion_palabra\u001b[0m\u001b[0;34m(\u001b[0m\u001b[0mnombre\u001b[0m\u001b[0;34m)\u001b[0m\u001b[0;34m\u001b[0m\u001b[0;34m\u001b[0m\u001b[0m\n\u001b[0;32m----> 5\u001b[0;31m     \u001b[0mpalabra\u001b[0m\u001b[0;34m.\u001b[0m\u001b[0mrelation_palabra_describe_pi\u001b[0m\u001b[0;34m(\u001b[0m\u001b[0mproyecto_investigacion\u001b[0m\u001b[0;34m)\u001b[0m\u001b[0;34m\u001b[0m\u001b[0;34m\u001b[0m\u001b[0m\n\u001b[0m\u001b[1;32m      6\u001b[0m     \u001b[0mproyecto_investigacion\u001b[0m\u001b[0;34m.\u001b[0m\u001b[0mrelation_pi_tiene_palabra\u001b[0m\u001b[0;34m(\u001b[0m\u001b[0mpalabra\u001b[0m\u001b[0;34m)\u001b[0m\u001b[0;34m\u001b[0m\u001b[0;34m\u001b[0m\u001b[0m\n\u001b[1;32m      7\u001b[0m \u001b[0;34m\u001b[0m\u001b[0m\n",
      "\u001b[0;32m~/RepositoriosTG/Ontologia/Scripts/ontologia.py\u001b[0m in \u001b[0;36mrelation_palabra_describe_pi\u001b[0;34m(self, pi)\u001b[0m\n\u001b[1;32m    167\u001b[0m         \u001b[0;31m# Metodo Palabra\u001b[0m\u001b[0;34m\u001b[0m\u001b[0;34m\u001b[0m\u001b[0;34m\u001b[0m\u001b[0m\n\u001b[1;32m    168\u001b[0m         \u001b[0;32mdef\u001b[0m \u001b[0mrelation_palabra_describe_pi\u001b[0m\u001b[0;34m(\u001b[0m\u001b[0mself\u001b[0m\u001b[0;34m,\u001b[0m \u001b[0mpi\u001b[0m\u001b[0;34m)\u001b[0m\u001b[0;34m:\u001b[0m\u001b[0;34m\u001b[0m\u001b[0;34m\u001b[0m\u001b[0m\n\u001b[0;32m--> 169\u001b[0;31m             \u001b[0mself\u001b[0m\u001b[0;34m.\u001b[0m\u001b[0mpalabra_describe_pi\u001b[0m\u001b[0;34m.\u001b[0m\u001b[0mappend\u001b[0m\u001b[0;34m(\u001b[0m\u001b[0mpi\u001b[0m\u001b[0;34m)\u001b[0m\u001b[0;34m\u001b[0m\u001b[0;34m\u001b[0m\u001b[0m\n\u001b[0m\u001b[1;32m    170\u001b[0m \u001b[0;34m\u001b[0m\u001b[0m\n\u001b[1;32m    171\u001b[0m     \u001b[0;31m# CLASE PROYECTO DE INVESTIGACION\u001b[0m\u001b[0;34m\u001b[0m\u001b[0;34m\u001b[0m\u001b[0;34m\u001b[0m\u001b[0m\n",
      "\u001b[0;32m~/anaconda3/envs/tesis/lib/python3.7/site-packages/owlready2/util.py\u001b[0m in \u001b[0;36mappend\u001b[0;34m(self, x)\u001b[0m\n\u001b[1;32m     75\u001b[0m   \u001b[0;32mdef\u001b[0m \u001b[0m_replace\u001b[0m\u001b[0;34m(\u001b[0m\u001b[0mself\u001b[0m\u001b[0;34m,\u001b[0m \u001b[0mold\u001b[0m\u001b[0;34m,\u001b[0m \u001b[0mnew\u001b[0m\u001b[0;34m)\u001b[0m\u001b[0;34m:\u001b[0m \u001b[0msuper\u001b[0m\u001b[0;34m(\u001b[0m\u001b[0;34m)\u001b[0m\u001b[0;34m.\u001b[0m\u001b[0m__setitem__\u001b[0m\u001b[0;34m(\u001b[0m\u001b[0mself\u001b[0m\u001b[0;34m.\u001b[0m\u001b[0mindex\u001b[0m\u001b[0;34m(\u001b[0m\u001b[0mold\u001b[0m\u001b[0;34m)\u001b[0m\u001b[0;34m,\u001b[0m \u001b[0mnew\u001b[0m\u001b[0;34m)\u001b[0m\u001b[0;34m\u001b[0m\u001b[0;34m\u001b[0m\u001b[0m\n\u001b[1;32m     76\u001b[0m   \u001b[0;32mdef\u001b[0m \u001b[0mreinit\u001b[0m\u001b[0;34m(\u001b[0m\u001b[0mself\u001b[0m\u001b[0;34m,\u001b[0m \u001b[0ml\u001b[0m\u001b[0;34m)\u001b[0m\u001b[0;34m:\u001b[0m          \u001b[0mold\u001b[0m \u001b[0;34m=\u001b[0m \u001b[0mlist\u001b[0m\u001b[0;34m(\u001b[0m\u001b[0mself\u001b[0m\u001b[0;34m)\u001b[0m\u001b[0;34m;\u001b[0m \u001b[0msuper\u001b[0m\u001b[0;34m(\u001b[0m\u001b[0;34m)\u001b[0m\u001b[0;34m.\u001b[0m\u001b[0m__init__\u001b[0m\u001b[0;34m(\u001b[0m\u001b[0ml\u001b[0m\u001b[0;34m)\u001b[0m       \u001b[0;34m;\u001b[0m \u001b[0mself\u001b[0m\u001b[0;34m.\u001b[0m\u001b[0m_callback\u001b[0m\u001b[0;34m(\u001b[0m\u001b[0mself\u001b[0m\u001b[0;34m.\u001b[0m\u001b[0m_obj\u001b[0m\u001b[0;34m,\u001b[0m \u001b[0mold\u001b[0m\u001b[0;34m)\u001b[0m\u001b[0;34m\u001b[0m\u001b[0;34m\u001b[0m\u001b[0m\n\u001b[0;32m---> 77\u001b[0;31m   \u001b[0;32mdef\u001b[0m \u001b[0mappend\u001b[0m\u001b[0;34m(\u001b[0m\u001b[0mself\u001b[0m\u001b[0;34m,\u001b[0m \u001b[0mx\u001b[0m\u001b[0;34m)\u001b[0m\u001b[0;34m:\u001b[0m          \u001b[0mold\u001b[0m \u001b[0;34m=\u001b[0m \u001b[0mlist\u001b[0m\u001b[0;34m(\u001b[0m\u001b[0mself\u001b[0m\u001b[0;34m)\u001b[0m\u001b[0;34m;\u001b[0m \u001b[0msuper\u001b[0m\u001b[0;34m(\u001b[0m\u001b[0;34m)\u001b[0m\u001b[0;34m.\u001b[0m\u001b[0mappend\u001b[0m\u001b[0;34m(\u001b[0m\u001b[0mx\u001b[0m\u001b[0;34m)\u001b[0m         \u001b[0;34m;\u001b[0m \u001b[0mself\u001b[0m\u001b[0;34m.\u001b[0m\u001b[0m_callback\u001b[0m\u001b[0;34m(\u001b[0m\u001b[0mself\u001b[0m\u001b[0;34m.\u001b[0m\u001b[0m_obj\u001b[0m\u001b[0;34m,\u001b[0m \u001b[0mold\u001b[0m\u001b[0;34m)\u001b[0m\u001b[0;34m\u001b[0m\u001b[0;34m\u001b[0m\u001b[0m\n\u001b[0m\u001b[1;32m     78\u001b[0m   \u001b[0;32mdef\u001b[0m \u001b[0minsert\u001b[0m\u001b[0;34m(\u001b[0m\u001b[0mself\u001b[0m\u001b[0;34m,\u001b[0m \u001b[0mi\u001b[0m\u001b[0;34m,\u001b[0m \u001b[0mx\u001b[0m\u001b[0;34m)\u001b[0m\u001b[0;34m:\u001b[0m       \u001b[0mold\u001b[0m \u001b[0;34m=\u001b[0m \u001b[0mlist\u001b[0m\u001b[0;34m(\u001b[0m\u001b[0mself\u001b[0m\u001b[0;34m)\u001b[0m\u001b[0;34m;\u001b[0m \u001b[0msuper\u001b[0m\u001b[0;34m(\u001b[0m\u001b[0;34m)\u001b[0m\u001b[0;34m.\u001b[0m\u001b[0minsert\u001b[0m\u001b[0;34m(\u001b[0m\u001b[0mi\u001b[0m\u001b[0;34m,\u001b[0m \u001b[0mx\u001b[0m\u001b[0;34m)\u001b[0m      \u001b[0;34m;\u001b[0m \u001b[0mself\u001b[0m\u001b[0;34m.\u001b[0m\u001b[0m_callback\u001b[0m\u001b[0;34m(\u001b[0m\u001b[0mself\u001b[0m\u001b[0;34m.\u001b[0m\u001b[0m_obj\u001b[0m\u001b[0;34m,\u001b[0m \u001b[0mold\u001b[0m\u001b[0;34m)\u001b[0m\u001b[0;34m\u001b[0m\u001b[0;34m\u001b[0m\u001b[0m\n\u001b[1;32m     79\u001b[0m   \u001b[0;32mdef\u001b[0m \u001b[0mextend\u001b[0m\u001b[0;34m(\u001b[0m\u001b[0mself\u001b[0m\u001b[0;34m,\u001b[0m \u001b[0ml\u001b[0m\u001b[0;34m)\u001b[0m\u001b[0;34m:\u001b[0m          \u001b[0mold\u001b[0m \u001b[0;34m=\u001b[0m \u001b[0mlist\u001b[0m\u001b[0;34m(\u001b[0m\u001b[0mself\u001b[0m\u001b[0;34m)\u001b[0m\u001b[0;34m;\u001b[0m \u001b[0msuper\u001b[0m\u001b[0;34m(\u001b[0m\u001b[0;34m)\u001b[0m\u001b[0;34m.\u001b[0m\u001b[0mextend\u001b[0m\u001b[0;34m(\u001b[0m\u001b[0ml\u001b[0m\u001b[0;34m)\u001b[0m         \u001b[0;34m;\u001b[0m \u001b[0mself\u001b[0m\u001b[0;34m.\u001b[0m\u001b[0m_callback\u001b[0m\u001b[0;34m(\u001b[0m\u001b[0mself\u001b[0m\u001b[0;34m.\u001b[0m\u001b[0m_obj\u001b[0m\u001b[0;34m,\u001b[0m \u001b[0mold\u001b[0m\u001b[0;34m)\u001b[0m\u001b[0;34m\u001b[0m\u001b[0;34m\u001b[0m\u001b[0m\n",
      "\u001b[0;32m~/anaconda3/envs/tesis/lib/python3.7/site-packages/owlready2/prop.py\u001b[0m in \u001b[0;36m_callback\u001b[0;34m(self, obj, old)\u001b[0m\n\u001b[1;32m   1027\u001b[0m   \u001b[0;32mdef\u001b[0m \u001b[0m_callback\u001b[0m\u001b[0;34m(\u001b[0m\u001b[0mself\u001b[0m\u001b[0;34m,\u001b[0m \u001b[0mobj\u001b[0m\u001b[0;34m,\u001b[0m \u001b[0mold\u001b[0m\u001b[0;34m)\u001b[0m\u001b[0;34m:\u001b[0m\u001b[0;34m\u001b[0m\u001b[0;34m\u001b[0m\u001b[0m\n\u001b[1;32m   1028\u001b[0m     \u001b[0mold\u001b[0m \u001b[0;34m=\u001b[0m \u001b[0mset\u001b[0m\u001b[0;34m(\u001b[0m\u001b[0mold\u001b[0m\u001b[0;34m)\u001b[0m\u001b[0;34m\u001b[0m\u001b[0;34m\u001b[0m\u001b[0m\n\u001b[0;32m-> 1029\u001b[0;31m     \u001b[0mnew\u001b[0m \u001b[0;34m=\u001b[0m \u001b[0mset\u001b[0m\u001b[0;34m(\u001b[0m\u001b[0mself\u001b[0m\u001b[0;34m)\u001b[0m\u001b[0;34m\u001b[0m\u001b[0;34m\u001b[0m\u001b[0m\n\u001b[0m\u001b[1;32m   1030\u001b[0m \u001b[0;34m\u001b[0m\u001b[0m\n\u001b[1;32m   1031\u001b[0m     \u001b[0;32mif\u001b[0m   \u001b[0mself\u001b[0m\u001b[0;34m.\u001b[0m\u001b[0m_Prop\u001b[0m\u001b[0;34m.\u001b[0m\u001b[0m_owl_type\u001b[0m \u001b[0;34m==\u001b[0m \u001b[0mowl_object_property\u001b[0m\u001b[0;34m:\u001b[0m\u001b[0;34m\u001b[0m\u001b[0;34m\u001b[0m\u001b[0m\n",
      "\u001b[0;31mKeyboardInterrupt\u001b[0m: "
     ]
    }
   ],
   "source": [
    "proyectos_investigacion = list(ontologia.Proyecto_investigacion.instances())\n",
    "\n",
    "for index, row in resumenes_docentes.iterrows():\n",
    "    vocabulario = row['vocabulario']\n",
    "    for palabra in vocabulario:\n",
    "        instanciar_palabra(palabra, proyectos_investigacion[int(index)])"
   ]
  },
  {
   "cell_type": "code",
   "execution_count": 14,
   "metadata": {},
   "outputs": [],
   "source": [
    "ontologia.save()"
   ]
  },
  {
   "cell_type": "markdown",
   "metadata": {},
   "source": [
    "## Funcion Eliminar Individuals"
   ]
  },
  {
   "cell_type": "code",
   "execution_count": 2,
   "metadata": {},
   "outputs": [],
   "source": [
    "# Funcion destruir Individual\n",
    "def destruir_individual(individual):\n",
    "    destroy_entity(individual)"
   ]
  },
  {
   "cell_type": "code",
   "execution_count": 19,
   "metadata": {},
   "outputs": [],
   "source": [
    "# Eliminar TODOS los inviduals\n",
    "for individual in list(ontologia.individuals()):\n",
    "    destruir_individual(individual)"
   ]
  },
  {
   "cell_type": "code",
   "execution_count": 8,
   "metadata": {},
   "outputs": [],
   "source": [
    "# Eliminar Individuals Proyecto de Investigacion\n",
    "for individual in list(ontologia.Proyecto_investigacion.instances()):\n",
    "    destruir_individual(individual)"
   ]
  },
  {
   "cell_type": "code",
   "execution_count": 9,
   "metadata": {},
   "outputs": [
    {
     "data": {
      "text/plain": [
       "[]"
      ]
     },
     "execution_count": 9,
     "metadata": {},
     "output_type": "execute_result"
    }
   ],
   "source": [
    "#Revisar Todos Individuals\n",
    "list(ontologia.individuals())"
   ]
  },
  {
   "cell_type": "code",
   "execution_count": 17,
   "metadata": {},
   "outputs": [
    {
     "output_type": "execute_result",
     "data": {
      "text/plain": "ogiaInvestigacionPrueba.proyecto_investigacion101,\n OntologiaInvestigacionPrueba.proyecto_investigacion102,\n OntologiaInvestigacionPrueba.proyecto_investigacion103,\n OntologiaInvestigacionPrueba.proyecto_investigacion104,\n OntologiaInvestigacionPrueba.proyecto_investigacion105,\n OntologiaInvestigacionPrueba.proyecto_investigacion106,\n OntologiaInvestigacionPrueba.proyecto_investigacion107,\n OntologiaInvestigacionPrueba.proyecto_investigacion108,\n OntologiaInvestigacionPrueba.proyecto_investigacion109,\n OntologiaInvestigacionPrueba.proyecto_investigacion110,\n OntologiaInvestigacionPrueba.proyecto_investigacion111,\n OntologiaInvestigacionPrueba.proyecto_investigacion112,\n OntologiaInvestigacionPrueba.proyecto_investigacion113,\n OntologiaInvestigacionPrueba.proyecto_investigacion114,\n OntologiaInvestigacionPrueba.proyecto_investigacion115,\n OntologiaInvestigacionPrueba.proyecto_investigacion116,\n OntologiaInvestigacionPrueba.proyecto_investigacion117,\n OntologiaInvestigacionPrueba.proyecto_investigacion118,\n OntologiaInvestigacionPrueba.proyecto_investigacion119,\n OntologiaInvestigacionPrueba.proyecto_investigacion120,\n OntologiaInvestigacionPrueba.proyecto_investigacion121,\n OntologiaInvestigacionPrueba.proyecto_investigacion122,\n OntologiaInvestigacionPrueba.proyecto_investigacion123,\n OntologiaInvestigacionPrueba.proyecto_investigacion124,\n OntologiaInvestigacionPrueba.proyecto_investigacion125,\n OntologiaInvestigacionPrueba.proyecto_investigacion126,\n OntologiaInvestigacionPrueba.proyecto_investigacion127,\n OntologiaInvestigacionPrueba.proyecto_investigacion128,\n OntologiaInvestigacionPrueba.proyecto_investigacion129,\n OntologiaInvestigacionPrueba.proyecto_investigacion130,\n OntologiaInvestigacionPrueba.proyecto_investigacion131,\n OntologiaInvestigacionPrueba.proyecto_investigacion132,\n OntologiaInvestigacionPrueba.proyecto_investigacion133,\n OntologiaInvestigacionPrueba.proyecto_investigacion134,\n OntologiaInvestigacionPrueba.proyecto_investigacion135,\n OntologiaInvestigacionPrueba.proyecto_investigacion136,\n OntologiaInvestigacionPrueba.proyecto_investigacion137,\n OntologiaInvestigacionPrueba.proyecto_investigacion138,\n OntologiaInvestigacionPrueba.proyecto_investigacion139,\n OntologiaInvestigacionPrueba.proyecto_investigacion140,\n OntologiaInvestigacionPrueba.proyecto_investigacion141,\n OntologiaInvestigacionPrueba.proyecto_investigacion142,\n OntologiaInvestigacionPrueba.proyecto_investigacion143,\n OntologiaInvestigacionPrueba.proyecto_investigacion144,\n OntologiaInvestigacionPrueba.proyecto_investigacion145,\n OntologiaInvestigacionPrueba.proyecto_investigacion146,\n OntologiaInvestigacionPrueba.proyecto_investigacion147,\n OntologiaInvestigacionPrueba.proyecto_investigacion148,\n OntologiaInvestigacionPrueba.proyecto_investigacion149,\n OntologiaInvestigacionPrueba.proyecto_investigacion150,\n OntologiaInvestigacionPrueba.proyecto_investigacion151,\n OntologiaInvestigacionPrueba.proyecto_investigacion152,\n OntologiaInvestigacionPrueba.proyecto_investigacion153,\n OntologiaInvestigacionPrueba.proyecto_investigacion154,\n OntologiaInvestigacionPrueba.proyecto_investigacion155,\n OntologiaInvestigacionPrueba.proyecto_investigacion156,\n OntologiaInvestigacionPrueba.proyecto_investigacion157,\n OntologiaInvestigacionPrueba.proyecto_investigacion158,\n OntologiaInvestigacionPrueba.proyecto_investigacion159,\n OntologiaInvestigacionPrueba.proyecto_investigacion160,\n OntologiaInvestigacionPrueba.proyecto_investigacion161,\n OntologiaInvestigacionPrueba.proyecto_investigacion162,\n OntologiaInvestigacionPrueba.proyecto_investigacion163,\n OntologiaInvestigacionPrueba.proyecto_investigacion164,\n OntologiaInvestigacionPrueba.proyecto_investigacion165,\n OntologiaInvestigacionPrueba.proyecto_investigacion166,\n OntologiaInvestigacionPrueba.proyecto_investigacion167,\n OntologiaInvestigacionPrueba.proyecto_investigacion168,\n OntologiaInvestigacionPrueba.proyecto_investigacion169,\n OntologiaInvestigacionPrueba.proyecto_investigacion170,\n OntologiaInvestigacionPrueba.proyecto_investigacion171,\n OntologiaInvestigacionPrueba.proyecto_investigacion172,\n OntologiaInvestigacionPrueba.proyecto_investigacion173,\n OntologiaInvestigacionPrueba.proyecto_investigacion174,\n OntologiaInvestigacionPrueba.proyecto_investigacion175,\n OntologiaInvestigacionPrueba.proyecto_investigacion176,\n OntologiaInvestigacionPrueba.proyecto_investigacion177,\n OntologiaInvestigacionPrueba.proyecto_investigacion178,\n OntologiaInvestigacionPrueba.proyecto_investigacion179,\n OntologiaInvestigacionPrueba.proyecto_investigacion180,\n OntologiaInvestigacionPrueba.proyecto_investigacion181,\n OntologiaInvestigacionPrueba.proyecto_investigacion182,\n OntologiaInvestigacionPrueba.proyecto_investigacion183,\n OntologiaInvestigacionPrueba.proyecto_investigacion184,\n OntologiaInvestigacionPrueba.proyecto_investigacion185,\n OntologiaInvestigacionPrueba.proyecto_investigacion186,\n OntologiaInvestigacionPrueba.proyecto_investigacion187,\n OntologiaInvestigacionPrueba.proyecto_investigacion188,\n OntologiaInvestigacionPrueba.proyecto_investigacion189,\n OntologiaInvestigacionPrueba.proyecto_investigacion190,\n OntologiaInvestigacionPrueba.proyecto_investigacion191,\n OntologiaInvestigacionPrueba.proyecto_investigacion192,\n OntologiaInvestigacionPrueba.proyecto_investigacion193,\n OntologiaInvestigacionPrueba.proyecto_investigacion194,\n OntologiaInvestigacionPrueba.proyecto_investigacion195,\n OntologiaInvestigacionPrueba.proyecto_investigacion196,\n OntologiaInvestigacionPrueba.proyecto_investigacion197,\n OntologiaInvestigacionPrueba.proyecto_investigacion198,\n OntologiaInvestigacionPrueba.proyecto_investigacion199,\n OntologiaInvestigacionPrueba.proyecto_investigacion200,\n OntologiaInvestigacionPrueba.proyecto_investigacion201,\n OntologiaInvestigacionPrueba.proyecto_investigacion202,\n OntologiaInvestigacionPrueba.proyecto_investigacion203,\n OntologiaInvestigacionPrueba.proyecto_investigacion204,\n OntologiaInvestigacionPrueba.proyecto_investigacion205,\n OntologiaInvestigacionPrueba.proyecto_investigacion206,\n OntologiaInvestigacionPrueba.proyecto_investigacion207,\n OntologiaInvestigacionPrueba.proyecto_investigacion208,\n OntologiaInvestigacionPrueba.proyecto_investigacion209,\n OntologiaInvestigacionPrueba.proyecto_investigacion210,\n OntologiaInvestigacionPrueba.proyecto_investigacion211,\n OntologiaInvestigacionPrueba.proyecto_investigacion212,\n OntologiaInvestigacionPrueba.proyecto_investigacion213,\n OntologiaInvestigacionPrueba.proyecto_investigacion214,\n OntologiaInvestigacionPrueba.proyecto_investigacion215,\n OntologiaInvestigacionPrueba.proyecto_investigacion216,\n OntologiaInvestigacionPrueba.proyecto_investigacion217,\n OntologiaInvestigacionPrueba.proyecto_investigacion218,\n OntologiaInvestigacionPrueba.proyecto_investigacion219,\n OntologiaInvestigacionPrueba.proyecto_investigacion220,\n OntologiaInvestigacionPrueba.proyecto_investigacion221,\n OntologiaInvestigacionPrueba.proyecto_investigacion222,\n OntologiaInvestigacionPrueba.proyecto_investigacion223,\n OntologiaInvestigacionPrueba.proyecto_investigacion224,\n OntologiaInvestigacionPrueba.proyecto_investigacion225,\n OntologiaInvestigacionPrueba.proyecto_investigacion226,\n OntologiaInvestigacionPrueba.proyecto_investigacion227,\n OntologiaInvestigacionPrueba.proyecto_investigacion228,\n OntologiaInvestigacionPrueba.proyecto_investigacion229,\n OntologiaInvestigacionPrueba.proyecto_investigacion230,\n OntologiaInvestigacionPrueba.proyecto_investigacion231,\n OntologiaInvestigacionPrueba.proyecto_investigacion232,\n OntologiaInvestigacionPrueba.proyecto_investigacion233,\n OntologiaInvestigacionPrueba.proyecto_investigacion234,\n OntologiaInvestigacionPrueba.proyecto_investigacion235,\n OntologiaInvestigacionPrueba.proyecto_investigacion236,\n OntologiaInvestigacionPrueba.proyecto_investigacion237,\n OntologiaInvestigacionPrueba.proyecto_investigacion238,\n OntologiaInvestigacionPrueba.proyecto_investigacion239,\n OntologiaInvestigacionPrueba.proyecto_investigacion240,\n OntologiaInvestigacionPrueba.proyecto_investigacion241,\n OntologiaInvestigacionPrueba.proyecto_investigacion242,\n OntologiaInvestigacionPrueba.proyecto_investigacion243,\n OntologiaInvestigacionPrueba.proyecto_investigacion244,\n OntologiaInvestigacionPrueba.proyecto_investigacion245,\n OntologiaInvestigacionPrueba.proyecto_investigacion246,\n OntologiaInvestigacionPrueba.proyecto_investigacion247,\n OntologiaInvestigacionPrueba.proyecto_investigacion248,\n OntologiaInvestigacionPrueba.proyecto_investigacion249,\n OntologiaInvestigacionPrueba.proyecto_investigacion250,\n OntologiaInvestigacionPrueba.proyecto_investigacion251,\n OntologiaInvestigacionPrueba.proyecto_investigacion252,\n OntologiaInvestigacionPrueba.proyecto_investigacion253,\n OntologiaInvestigacionPrueba.proyecto_investigacion254,\n OntologiaInvestigacionPrueba.proyecto_investigacion255,\n OntologiaInvestigacionPrueba.proyecto_investigacion256,\n OntologiaInvestigacionPrueba.proyecto_investigacion257,\n OntologiaInvestigacionPrueba.proyecto_investigacion258,\n OntologiaInvestigacionPrueba.proyecto_investigacion259,\n OntologiaInvestigacionPrueba.proyecto_investigacion260,\n OntologiaInvestigacionPrueba.proyecto_investigacion261,\n OntologiaInvestigacionPrueba.proyecto_investigacion262,\n OntologiaInvestigacionPrueba.proyecto_investigacion263,\n OntologiaInvestigacionPrueba.proyecto_investigacion264,\n OntologiaInvestigacionPrueba.proyecto_investigacion265,\n OntologiaInvestigacionPrueba.proyecto_investigacion266,\n OntologiaInvestigacionPrueba.proyecto_investigacion269,\n OntologiaInvestigacionPrueba.proyecto_investigacion271,\n OntologiaInvestigacionPrueba.proyecto_investigacion272,\n OntologiaInvestigacionPrueba.proyecto_investigacion273,\n OntologiaInvestigacionPrueba.proyecto_investigacion274,\n OntologiaInvestigacionPrueba.proyecto_investigacion275,\n OntologiaInvestigacionPrueba.proyecto_investigacion276,\n OntologiaInvestigacionPrueba.proyecto_investigacion277,\n OntologiaInvestigacionPrueba.proyecto_investigacion278,\n OntologiaInvestigacionPrueba.proyecto_investigacion279,\n OntologiaInvestigacionPrueba.proyecto_investigacion280,\n OntologiaInvestigacionPrueba.proyecto_investigacion281,\n OntologiaInvestigacionPrueba.proyecto_investigacion282,\n OntologiaInvestigacionPrueba.proyecto_investigacion283,\n OntologiaInvestigacionPrueba.proyecto_investigacion284,\n OntologiaInvestigacionPrueba.proyecto_investigacion285,\n OntologiaInvestigacionPrueba.proyecto_investigacion286,\n OntologiaInvestigacionPrueba.proyecto_investigacion287,\n OntologiaInvestigacionPrueba.proyecto_investigacion288,\n OntologiaInvestigacionPrueba.proyecto_investigacion290,\n OntologiaInvestigacionPrueba.proyecto_investigacion291,\n OntologiaInvestigacionPrueba.proyecto_investigacion292,\n OntologiaInvestigacionPrueba.proyecto_investigacion293,\n OntologiaInvestigacionPrueba.proyecto_investigacion294,\n OntologiaInvestigacionPrueba.proyecto_investigacion295,\n OntologiaInvestigacionPrueba.proyecto_investigacion296,\n OntologiaInvestigacionPrueba.proyecto_investigacion297,\n OntologiaInvestigacionPrueba.proyecto_investigacion298,\n OntologiaInvestigacionPrueba.proyecto_investigacion299,\n OntologiaInvestigacionPrueba.proyecto_investigacion300,\n OntologiaInvestigacionPrueba.proyecto_investigacion301,\n OntologiaInvestigacionPrueba.proyecto_investigacion302,\n OntologiaInvestigacionPrueba.proyecto_investigacion303,\n OntologiaInvestigacionPrueba.proyecto_investigacion304,\n OntologiaInvestigacionPrueba.proyecto_investigacion305,\n OntologiaInvestigacionPrueba.proyecto_investigacion306,\n OntologiaInvestigacionPrueba.proyecto_investigacion307,\n OntologiaInvestigacionPrueba.proyecto_investigacion308,\n OntologiaInvestigacionPrueba.proyecto_investigacion309,\n OntologiaInvestigacionPrueba.proyecto_investigacion310,\n OntologiaInvestigacionPrueba.proyecto_investigacion311,\n OntologiaInvestigacionPrueba.proyecto_investigacion312,\n OntologiaInvestigacionPrueba.proyecto_investigacion313,\n OntologiaInvestigacionPrueba.proyecto_investigacion314,\n OntologiaInvestigacionPrueba.proyecto_investigacion315,\n OntologiaInvestigacionPrueba.proyecto_investigacion316,\n OntologiaInvestigacionPrueba.proyecto_investigacion317,\n OntologiaInvestigacionPrueba.proyecto_investigacion318,\n OntologiaInvestigacionPrueba.proyecto_investigacion319,\n OntologiaInvestigacionPrueba.proyecto_investigacion320,\n OntologiaInvestigacionPrueba.proyecto_investigacion321,\n OntologiaInvestigacionPrueba.proyecto_investigacion322,\n OntologiaInvestigacionPrueba.proyecto_investigacion323,\n OntologiaInvestigacionPrueba.proyecto_investigacion324,\n OntologiaInvestigacionPrueba.proyecto_investigacion325,\n OntologiaInvestigacionPrueba.proyecto_investigacion326,\n OntologiaInvestigacionPrueba.proyecto_investigacion327,\n OntologiaInvestigacionPrueba.proyecto_investigacion328,\n OntologiaInvestigacionPrueba.proyecto_investigacion329,\n OntologiaInvestigacionPrueba.proyecto_investigacion330,\n OntologiaInvestigacionPrueba.proyecto_investigacion331,\n OntologiaInvestigacionPrueba.proyecto_investigacion332,\n OntologiaInvestigacionPrueba.proyecto_investigacion333,\n OntologiaInvestigacionPrueba.proyecto_investigacion334,\n OntologiaInvestigacionPrueba.proyecto_investigacion335,\n OntologiaInvestigacionPrueba.proyecto_investigacion336,\n OntologiaInvestigacionPrueba.proyecto_investigacion337,\n OntologiaInvestigacionPrueba.proyecto_investigacion338,\n OntologiaInvestigacionPrueba.proyecto_investigacion339,\n OntologiaInvestigacionPrueba.proyecto_investigacion340,\n OntologiaInvestigacionPrueba.proyecto_investigacion341,\n OntologiaInvestigacionPrueba.proyecto_investigacion342,\n OntologiaInvestigacionPrueba.proyecto_investigacion343,\n OntologiaInvestigacionPrueba.proyecto_investigacion344,\n OntologiaInvestigacionPrueba.proyecto_investigacion345,\n OntologiaInvestigacionPrueba.proyecto_investigacion346,\n OntologiaInvestigacionPrueba.proyecto_investigacion347,\n OntologiaInvestigacionPrueba.proyecto_investigacion348,\n OntologiaInvestigacionPrueba.proyecto_investigacion349,\n OntologiaInvestigacionPrueba.proyecto_investigacion350,\n OntologiaInvestigacionPrueba.proyecto_investigacion351,\n OntologiaInvestigacionPrueba.proyecto_investigacion352,\n OntologiaInvestigacionPrueba.proyecto_investigacion353,\n OntologiaInvestigacionPrueba.proyecto_investigacion354,\n OntologiaInvestigacionPrueba.proyecto_investigacion355,\n OntologiaInvestigacionPrueba.proyecto_investigacion356,\n OntologiaInvestigacionPrueba.proyecto_investigacion357,\n OntologiaInvestigacionPrueba.proyecto_investigacion358,\n OntologiaInvestigacionPrueba.proyecto_investigacion359,\n OntologiaInvestigacionPrueba.proyecto_investigacion360,\n OntologiaInvestigacionPrueba.proyecto_investigacion361,\n OntologiaInvestigacionPrueba.proyecto_investigacion362,\n OntologiaInvestigacionPrueba.proyecto_investigacion363,\n OntologiaInvestigacionPrueba.proyecto_investigacion364,\n OntologiaInvestigacionPrueba.proyecto_investigacion365,\n OntologiaInvestigacionPrueba.proyecto_investigacion366,\n OntologiaInvestigacionPrueba.proyecto_investigacion367,\n OntologiaInvestigacionPrueba.proyecto_investigacion368,\n OntologiaInvestigacionPrueba.proyecto_investigacion369,\n OntologiaInvestigacionPrueba.proyecto_investigacion370,\n OntologiaInvestigacionPrueba.proyecto_investigacion371,\n OntologiaInvestigacionPrueba.proyecto_investigacion372,\n OntologiaInvestigacionPrueba.proyecto_investigacion373,\n OntologiaInvestigacionPrueba.proyecto_investigacion374,\n OntologiaInvestigacionPrueba.proyecto_investigacion375,\n OntologiaInvestigacionPrueba.proyecto_investigacion376,\n OntologiaInvestigacionPrueba.proyecto_investigacion377,\n OntologiaInvestigacionPrueba.proyecto_investigacion378,\n OntologiaInvestigacionPrueba.proyecto_investigacion379,\n OntologiaInvestigacionPrueba.proyecto_investigacion380,\n OntologiaInvestigacionPrueba.proyecto_investigacion381,\n OntologiaInvestigacionPrueba.proyecto_investigacion382,\n OntologiaInvestigacionPrueba.proyecto_investigacion383,\n OntologiaInvestigacionPrueba.proyecto_investigacion384,\n OntologiaInvestigacionPrueba.proyecto_investigacion385,\n OntologiaInvestigacionPrueba.proyecto_investigacion386,\n OntologiaInvestigacionPrueba.proyecto_investigacion387,\n OntologiaInvestigacionPrueba.proyecto_investigacion388,\n OntologiaInvestigacionPrueba.proyecto_investigacion389,\n OntologiaInvestigacionPrueba.proyecto_investigacion390,\n OntologiaInvestigacionPrueba.proyecto_investigacion391,\n OntologiaInvestigacionPrueba.proyecto_investigacion392,\n OntologiaInvestigacionPrueba.proyecto_investigacion393,\n OntologiaInvestigacionPrueba.proyecto_investigacion394,\n OntologiaInvestigacionPrueba.proyecto_investigacion396,\n OntologiaInvestigacionPrueba.proyecto_investigacion397,\n OntologiaInvestigacionPrueba.proyecto_investigacion398,\n OntologiaInvestigacionPrueba.proyecto_investigacion399,\n OntologiaInvestigacionPrueba.proyecto_investigacion400,\n OntologiaInvestigacionPrueba.proyecto_investigacion401,\n OntologiaInvestigacionPrueba.proyecto_investigacion402,\n OntologiaInvestigacionPrueba.proyecto_investigacion403,\n OntologiaInvestigacionPrueba.proyecto_investigacion404,\n OntologiaInvestigacionPrueba.proyecto_investigacion405,\n OntologiaInvestigacionPrueba.proyecto_investigacion406,\n OntologiaInvestigacionPrueba.proyecto_investigacion407,\n OntologiaInvestigacionPrueba.proyecto_investigacion408,\n OntologiaInvestigacionPrueba.proyecto_investigacion409,\n OntologiaInvestigacionPrueba.proyecto_investigacion410,\n OntologiaInvestigacionPrueba.proyecto_investigacion411,\n OntologiaInvestigacionPrueba.proyecto_investigacion412,\n OntologiaInvestigacionPrueba.proyecto_investigacion413,\n OntologiaInvestigacionPrueba.proyecto_investigacion414,\n OntologiaInvestigacionPrueba.proyecto_investigacion415,\n OntologiaInvestigacionPrueba.proyecto_investigacion416,\n OntologiaInvestigacionPrueba.proyecto_investigacion417,\n OntologiaInvestigacionPrueba.proyecto_investigacion418,\n OntologiaInvestigacionPrueba.proyecto_investigacion419,\n OntologiaInvestigacionPrueba.proyecto_investigacion420,\n OntologiaInvestigacionPrueba.proyecto_investigacion421,\n OntologiaInvestigacionPrueba.proyecto_investigacion422,\n OntologiaInvestigacionPrueba.proyecto_investigacion423,\n OntologiaInvestigacionPrueba.proyecto_investigacion424,\n OntologiaInvestigacionPrueba.proyecto_investigacion425,\n OntologiaInvestigacionPrueba.proyecto_investigacion426,\n OntologiaInvestigacionPrueba.proyecto_investigacion427,\n OntologiaInvestigacionPrueba.proyecto_investigacion428,\n OntologiaInvestigacionPrueba.proyecto_investigacion429,\n OntologiaInvestigacionPrueba.proyecto_investigacion430,\n OntologiaInvestigacionPrueba.proyecto_investigacion431,\n OntologiaInvestigacionPrueba.proyecto_investigacion432,\n OntologiaInvestigacionPrueba.proyecto_investigacion433,\n OntologiaInvestigacionPrueba.proyecto_investigacion434,\n OntologiaInvestigacionPrueba.proyecto_investigacion435,\n OntologiaInvestigacionPrueba.proyecto_investigacion436,\n OntologiaInvestigacionPrueba.proyecto_investigacion437,\n OntologiaInvestigacionPrueba.proyecto_investigacion438,\n OntologiaInvestigacionPrueba.proyecto_investigacion439,\n OntologiaInvestigacionPrueba.proyecto_investigacion440,\n OntologiaInvestigacionPrueba.proyecto_investigacion441,\n OntologiaInvestigacionPrueba.proyecto_investigacion442,\n OntologiaInvestigacionPrueba.proyecto_investigacion443,\n OntologiaInvestigacionPrueba.proyecto_investigacion444,\n OntologiaInvestigacionPrueba.proyecto_investigacion445,\n OntologiaInvestigacionPrueba.proyecto_investigacion446,\n OntologiaInvestigacionPrueba.proyecto_investigacion447,\n OntologiaInvestigacionPrueba.proyecto_investigacion448,\n OntologiaInvestigacionPrueba.proyecto_investigacion449,\n OntologiaInvestigacionPrueba.proyecto_investigacion450,\n OntologiaInvestigacionPrueba.proyecto_investigacion451,\n OntologiaInvestigacionPrueba.proyecto_investigacion452,\n OntologiaInvestigacionPrueba.proyecto_investigacion453,\n OntologiaInvestigacionPrueba.proyecto_investigacion454,\n OntologiaInvestigacionPrueba.proyecto_investigacion455,\n OntologiaInvestigacionPrueba.proyecto_investigacion456]"
     },
     "metadata": {},
     "execution_count": 17
    }
   ],
   "source": [
    "#Revisar Individuals Proyectos Investigacion\n",
    "list(ontologia.Proyecto_investigacion.instances())"
   ]
  },
  {
   "cell_type": "code",
   "execution_count": 6,
   "metadata": {},
   "outputs": [],
   "source": [
    "ontologia.save()"
   ]
  }
 ],
 "metadata": {
  "kernelspec": {
   "display_name": "Python 3.7.7 64-bit ('tesis': conda)",
   "language": "python",
   "name": "python_defaultSpec_1599661385225"
  },
  "language_info": {
   "codemirror_mode": {
    "name": "ipython",
    "version": 3
   },
   "file_extension": ".py",
   "mimetype": "text/x-python",
   "name": "python",
   "nbconvert_exporter": "python",
   "pygments_lexer": "ipython3",
   "version": "3.7.7-final"
  }
 },
 "nbformat": 4,
 "nbformat_minor": 4
}