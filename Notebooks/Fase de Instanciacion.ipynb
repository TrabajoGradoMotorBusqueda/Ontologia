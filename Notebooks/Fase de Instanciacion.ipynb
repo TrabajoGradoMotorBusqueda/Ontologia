{
 "cells": [
  {
   "cell_type": "markdown",
   "metadata": {},
   "source": [
    "# CARGA DE ARCHIVOS"
   ]
  },
  {
   "cell_type": "code",
   "execution_count": 1,
   "metadata": {},
   "outputs": [],
   "source": [
    "import sys\n",
    "\n",
    "sys.path.insert(0,'ruta')\n",
    "\n",
    "from ClasesOPDP import *"
   ]
  },
  {
   "cell_type": "markdown",
   "metadata": {},
   "source": [
    "# CARGA DE BIBLIOTECAS"
   ]
  },
  {
   "cell_type": "code",
   "execution_count": 2,
   "metadata": {},
   "outputs": [],
   "source": [
    "# # insert at 1, 0 is the script path (or '' in REPL)\n",
    "import pandas as pd \n",
    "import ast"
   ]
  },
  {
   "cell_type": "markdown",
   "metadata": {},
   "source": [
    "# Ejecucion de Resumenes sin limpieza de Textos"
   ]
  },
  {
   "cell_type": "code",
   "execution_count": null,
   "metadata": {},
   "outputs": [],
   "source": [
    "# resumenes_docentes = pd.read_excel(\"./Data/Resumenes.xlsx\", index_col=0 ,sheet_name = \"Proyectos Docentes\", dtype=\"str\")\n",
    "# resumenes_estudiantes = pd.read_excel(\"./Data/Resumenes.xlsx\", index_col=0,sheet_name=\"studiantiles y Trabajos de G\", dtype=\"str\")\n",
    "\n",
    "# #Asignamos Columnas\n",
    "# resumenes_docentes.columns = [\"codigo\", \"titulo\", \"resumen\", \"estado\", \"id_autor\", \"nombre_autor\", \n",
    "#                      \"programa\", \"facultad\", \"convocatoria\", \"grupo_investigacion\", \"linea_investigacion\", \"palabras_clave\"]\n",
    "\n",
    "# resumenes_estudiantes.columns = ['codigo', 'titulo', 'resumen', 'estado', 'id_autor', 'nombre_autor',\n",
    "#        'programa', 'departamento', 'facultad', 'nombre_asesor', 'convocatoria', 'grupo_investigacion', 'linea_investigacion', 'palabras_clave']\n",
    "\n",
    "# #Eliminamos NAN\n",
    "# resumenes_docentes.dropna(inplace=True)\n",
    "# resumenes_estudiantes.dropna(inplace=True)"
   ]
  },
  {
   "cell_type": "code",
   "execution_count": null,
   "metadata": {},
   "outputs": [],
   "source": [
    "# resumenes_docentes.head(5)"
   ]
  },
  {
   "cell_type": "markdown",
   "metadata": {},
   "source": [
    "# Carga de Resumenes con vocabulario y Lemas Añadidos\n",
    "\n",
    "- Ejecutar a partir de aqui ya que son datasets limpios y de prueba"
   ]
  },
  {
   "cell_type": "code",
   "execution_count": 3,
   "metadata": {},
   "outputs": [],
   "source": [
    "#Carga de datos\n",
    "resumenes_docentes = pd.read_csv(\"ruta\", index_col=0)\n",
    "resumenes_estudiantes = pd.read_csv(\"ruta\", index_col=0)"
   ]
  },
  {
   "cell_type": "code",
   "execution_count": 4,
   "metadata": {
    "scrolled": true
   },
   "outputs": [
    {
     "data": {
      "text/html": [
       "<div>\n",
       "<style scoped>\n",
       "    .dataframe tbody tr th:only-of-type {\n",
       "        vertical-align: middle;\n",
       "    }\n",
       "\n",
       "    .dataframe tbody tr th {\n",
       "        vertical-align: top;\n",
       "    }\n",
       "\n",
       "    .dataframe thead th {\n",
       "        text-align: right;\n",
       "    }\n",
       "</style>\n",
       "<table border=\"1\" class=\"dataframe\">\n",
       "  <thead>\n",
       "    <tr style=\"text-align: right;\">\n",
       "      <th></th>\n",
       "      <th>codigo</th>\n",
       "      <th>titulo</th>\n",
       "      <th>resumen</th>\n",
       "      <th>estado</th>\n",
       "      <th>id_autor</th>\n",
       "      <th>nombre_autor</th>\n",
       "      <th>programa</th>\n",
       "      <th>facultad</th>\n",
       "      <th>convocatoria</th>\n",
       "      <th>grupo_investigacion</th>\n",
       "      <th>linea_investigacion</th>\n",
       "      <th>palabras_clave</th>\n",
       "      <th>corpus</th>\n",
       "      <th>palabras_corpus</th>\n",
       "      <th>lemas_corpus</th>\n",
       "      <th>lemas_corpus_clean</th>\n",
       "      <th>vocabulario</th>\n",
       "    </tr>\n",
       "    <tr>\n",
       "      <th>index</th>\n",
       "      <th></th>\n",
       "      <th></th>\n",
       "      <th></th>\n",
       "      <th></th>\n",
       "      <th></th>\n",
       "      <th></th>\n",
       "      <th></th>\n",
       "      <th></th>\n",
       "      <th></th>\n",
       "      <th></th>\n",
       "      <th></th>\n",
       "      <th></th>\n",
       "      <th></th>\n",
       "      <th></th>\n",
       "      <th></th>\n",
       "      <th></th>\n",
       "      <th></th>\n",
       "    </tr>\n",
       "  </thead>\n",
       "  <tbody>\n",
       "    <tr>\n",
       "      <th>1</th>\n",
       "      <td>1464.0</td>\n",
       "      <td>\"Diagnóstico del impacto de las iniciativas em...</td>\n",
       "      <td>El emprendimiento es entre otras acepciones es...</td>\n",
       "      <td>Vencido</td>\n",
       "      <td>13515.0</td>\n",
       "      <td>Francisco Rafael Ayala</td>\n",
       "      <td>Diseño</td>\n",
       "      <td>Artes</td>\n",
       "      <td>Docente 2017</td>\n",
       "      <td>Currículo y Universidad</td>\n",
       "      <td>Curriculos pertinentes</td>\n",
       "      <td>Diagnóstico</td>\n",
       "      <td>\"Diagnóstico del impacto de las iniciativas em...</td>\n",
       "      <td>diagnóstico impacto iniciativas emprendedoras ...</td>\n",
       "      <td>diagnóstico impactar iniciativo emprendedor e...</td>\n",
       "      <td>diagnostico impactar iniciativo emprendedor e...</td>\n",
       "      <td>{'personar', 'mejoramiento', 'vital', 'extinci...</td>\n",
       "    </tr>\n",
       "    <tr>\n",
       "      <th>2</th>\n",
       "      <td>1367.0</td>\n",
       "      <td>Acoso Escolar (Bullying) en San Juan de Pasto....</td>\n",
       "      <td>A nivel mundial, uno de cada tres escolares ha...</td>\n",
       "      <td>Prorroga</td>\n",
       "      <td>11902.0</td>\n",
       "      <td>Harvey Mauricio Herrera Lopez</td>\n",
       "      <td>Psicología</td>\n",
       "      <td>Ciencias Humanas</td>\n",
       "      <td>Docente 2017</td>\n",
       "      <td>Psicología y Salud</td>\n",
       "      <td>Aspectos Psicosociales en Procesos de Salud</td>\n",
       "      <td>Acoso Escolar</td>\n",
       "      <td>Acoso Escolar (Bullying) en San Juan de Pasto....</td>\n",
       "      <td>acoso escolar bullying san juan pasto modelo e...</td>\n",
       "      <td>acosar escolar bullying santo juan pastar mod...</td>\n",
       "      <td>acosar escolar bullying santo juan pastar mod...</td>\n",
       "      <td>{'mental', 'sem', 'influenciar', 'mejoramiento...</td>\n",
       "    </tr>\n",
       "    <tr>\n",
       "      <th>3</th>\n",
       "      <td>1343.0</td>\n",
       "      <td>ACTIVIDAD ANTIBACTERIAL DE POLIFENOLES DEL AGU...</td>\n",
       "      <td>El cáncer gástrico (CG) es la principal causa ...</td>\n",
       "      <td>Vencido</td>\n",
       "      <td>10081.0</td>\n",
       "      <td>Nelson Humberto Hurtado Gutierrez</td>\n",
       "      <td>Química</td>\n",
       "      <td>Ciencias Exactas y Naturales</td>\n",
       "      <td>Docente 2016</td>\n",
       "      <td>GRUPO DE INVESTIGACIÓN EN PRODUCTOS DE IMPORTA...</td>\n",
       "      <td>Modelado molecular</td>\n",
       "      <td>cancer gastrico</td>\n",
       "      <td>ACTIVIDAD ANTIBACTERIAL DE POLIFENOLES DEL AGU...</td>\n",
       "      <td>actividad antibacterial polifenoles aguacate p...</td>\n",
       "      <td>actividad antibacterial polifenol aguacate pe...</td>\n",
       "      <td>actividad antibacterial polifenol aguacate pe...</td>\n",
       "      <td>{'preponderante', 'higienico', 'cg', 'fuerza',...</td>\n",
       "    </tr>\n",
       "  </tbody>\n",
       "</table>\n",
       "</div>"
      ],
      "text/plain": [
       "       codigo                                             titulo  \\\n",
       "index                                                              \n",
       "1      1464.0  \"Diagnóstico del impacto de las iniciativas em...   \n",
       "2      1367.0  Acoso Escolar (Bullying) en San Juan de Pasto....   \n",
       "3      1343.0  ACTIVIDAD ANTIBACTERIAL DE POLIFENOLES DEL AGU...   \n",
       "\n",
       "                                                 resumen    estado  id_autor  \\\n",
       "index                                                                          \n",
       "1      El emprendimiento es entre otras acepciones es...   Vencido   13515.0   \n",
       "2      A nivel mundial, uno de cada tres escolares ha...  Prorroga   11902.0   \n",
       "3      El cáncer gástrico (CG) es la principal causa ...   Vencido   10081.0   \n",
       "\n",
       "                            nombre_autor    programa  \\\n",
       "index                                                  \n",
       "1                 Francisco Rafael Ayala      Diseño   \n",
       "2          Harvey Mauricio Herrera Lopez  Psicología   \n",
       "3      Nelson Humberto Hurtado Gutierrez     Química   \n",
       "\n",
       "                           facultad  convocatoria  \\\n",
       "index                                               \n",
       "1                             Artes  Docente 2017   \n",
       "2                  Ciencias Humanas  Docente 2017   \n",
       "3      Ciencias Exactas y Naturales  Docente 2016   \n",
       "\n",
       "                                     grupo_investigacion  \\\n",
       "index                                                      \n",
       "1                                Currículo y Universidad   \n",
       "2                                     Psicología y Salud   \n",
       "3      GRUPO DE INVESTIGACIÓN EN PRODUCTOS DE IMPORTA...   \n",
       "\n",
       "                               linea_investigacion   palabras_clave  \\\n",
       "index                                                                 \n",
       "1                           Curriculos pertinentes      Diagnóstico   \n",
       "2      Aspectos Psicosociales en Procesos de Salud    Acoso Escolar   \n",
       "3                               Modelado molecular  cancer gastrico   \n",
       "\n",
       "                                                  corpus  \\\n",
       "index                                                      \n",
       "1      \"Diagnóstico del impacto de las iniciativas em...   \n",
       "2      Acoso Escolar (Bullying) en San Juan de Pasto....   \n",
       "3      ACTIVIDAD ANTIBACTERIAL DE POLIFENOLES DEL AGU...   \n",
       "\n",
       "                                         palabras_corpus  \\\n",
       "index                                                      \n",
       "1      diagnóstico impacto iniciativas emprendedoras ...   \n",
       "2      acoso escolar bullying san juan pasto modelo e...   \n",
       "3      actividad antibacterial polifenoles aguacate p...   \n",
       "\n",
       "                                            lemas_corpus  \\\n",
       "index                                                      \n",
       "1       diagnóstico impactar iniciativo emprendedor e...   \n",
       "2       acosar escolar bullying santo juan pastar mod...   \n",
       "3       actividad antibacterial polifenol aguacate pe...   \n",
       "\n",
       "                                      lemas_corpus_clean  \\\n",
       "index                                                      \n",
       "1       diagnostico impactar iniciativo emprendedor e...   \n",
       "2       acosar escolar bullying santo juan pastar mod...   \n",
       "3       actividad antibacterial polifenol aguacate pe...   \n",
       "\n",
       "                                             vocabulario  \n",
       "index                                                     \n",
       "1      {'personar', 'mejoramiento', 'vital', 'extinci...  \n",
       "2      {'mental', 'sem', 'influenciar', 'mejoramiento...  \n",
       "3      {'preponderante', 'higienico', 'cg', 'fuerza',...  "
      ]
     },
     "execution_count": 4,
     "metadata": {},
     "output_type": "execute_result"
    }
   ],
   "source": [
    "#Revision rapida de los datos\n",
    "resumenes_docentes.head(3)"
   ]
  },
  {
   "cell_type": "code",
   "execution_count": null,
   "metadata": {
    "scrolled": false
   },
   "outputs": [],
   "source": [
    "resumenes_docentes.columns"
   ]
  },
  {
   "cell_type": "code",
   "execution_count": null,
   "metadata": {
    "scrolled": false
   },
   "outputs": [],
   "source": [
    "resumenes_docentes.iloc[0]['corpus']"
   ]
  },
  {
   "cell_type": "code",
   "execution_count": null,
   "metadata": {},
   "outputs": [],
   "source": [
    "resumenes_docentes.iloc[0]['palabras']"
   ]
  },
  {
   "cell_type": "code",
   "execution_count": null,
   "metadata": {},
   "outputs": [],
   "source": [
    "resumenes_docentes.iloc[0]['vocabulario']"
   ]
  },
  {
   "cell_type": "code",
   "execution_count": null,
   "metadata": {
    "scrolled": true
   },
   "outputs": [],
   "source": [
    "resumenes_docentes.iloc[0]['lemas']"
   ]
  },
  {
   "cell_type": "markdown",
   "metadata": {},
   "source": [
    "## Funcion Instanciar Proyectos"
   ]
  },
  {
   "cell_type": "code",
   "execution_count": 5,
   "metadata": {},
   "outputs": [],
   "source": [
    "def instanciar_proyectos(nombre, id_investigacion, titulo, resumen, estado, tipo):\n",
    "    proyecto_investigacion = Proyecto_investigacion(nombre)\n",
    "    proyecto_investigacion.set_id_proyecto_investigacion(id_investigacion)\n",
    "    proyecto_investigacion.set_titulo_proyecto_investigacion(titulo)\n",
    "    proyecto_investigacion.set_resumen_proyecto_investigacion(resumen)\n",
    "    proyecto_investigacion.set_estado_proyecto_investigacion(estado)\n",
    "    proyecto_investigacion.set_tipo_proyecto_investigacion(tipo)\n",
    "\n",
    "#instanciar_proyectos(\"proyecto_investigacion\"+\"1\", \"1\", resumenes_docentes.loc[1]['titulo'], resumenes_docentes.loc[1]['resumen'], resumenes_docentes.loc[1]['estado'], resumenes_docentes.loc[1]['convocatoria'])"
   ]
  },
  {
   "cell_type": "markdown",
   "metadata": {},
   "source": [
    "- **Proyectos Docentes**"
   ]
  },
  {
   "cell_type": "code",
   "execution_count": 8,
   "metadata": {},
   "outputs": [],
   "source": [
    "# Instanciar Proyectos Docentes\n",
    "for index, row in resumenes_docentes.iterrows():\n",
    "    instanciar_proyectos(\"pi\"+str(int(index)) , str(int(index)), row['titulo'], row['resumen'], row['estado'], row['convocatoria'])"
   ]
  },
  {
   "cell_type": "markdown",
   "metadata": {},
   "source": [
    "- **Proyectos - Estudiantes**"
   ]
  },
  {
   "cell_type": "code",
   "execution_count": 9,
   "metadata": {},
   "outputs": [],
   "source": [
    "#Instanciar proyectos Estudiantes desde el ultimo index de proyecto docente.\n",
    "for index, row in resumenes_estudiantes.iterrows():\n",
    "    instanciar_proyectos(\"pi\"+str(int(index+312)) , str(int(index+312)), row['titulo'], row['resumen'], row['estado'], row['convocatoria'])\n"
   ]
  },
  {
   "cell_type": "code",
   "execution_count": null,
   "metadata": {},
   "outputs": [],
   "source": [
    "# Revisamos Cuantos proyectos se han instanciado\n",
    "len(list(ontologia.Proyecto_investigacion.instances()))"
   ]
  },
  {
   "cell_type": "markdown",
   "metadata": {},
   "source": [
    "## Funcion instanciar palabras y relacionar"
   ]
  },
  {
   "cell_type": "code",
   "execution_count": 6,
   "metadata": {},
   "outputs": [],
   "source": [
    "def instanciar_palabra(nombre_palabra, proyecto_investigacion):\n",
    "    palabra = Palabra(nombre_palabra)\n",
    "    #palabra.set_id_palabra(id_palabra)\n",
    "    palabra.set_descripcion_palabra(nombre_palabra)\n",
    "    proyecto_investigacion.relation_pi_tiene_palabra(palabra)    \n",
    "    #palabra.relation_palabra_describe_pi(proyecto_investigacion)"
   ]
  },
  {
   "cell_type": "markdown",
   "metadata": {},
   "source": [
    "## Traer Proyectos, instanciar sus palabras y relacionar"
   ]
  },
  {
   "cell_type": "markdown",
   "metadata": {},
   "source": [
    "- **Lemas Docentes**"
   ]
  },
  {
   "cell_type": "code",
   "execution_count": 10,
   "metadata": {},
   "outputs": [],
   "source": [
    "#lemas = ast.literal_eval(resumenes_docentes.loc[1]['lemas'])\n",
    "#for palabra in lemas:\n",
    "        #instanciar_palabra(palabra, proyecto1)\n",
    "##################################################\n",
    "proyectos_investigacion = list(ontologia.Proyecto_investigacion.instances())\n",
    "i = 0\n",
    "for index, row in resumenes_docentes.iterrows():\n",
    "    lemas = ast.literal_eval(row['lemas'])\n",
    "    for palabra in lemas:\n",
    "        instanciar_palabra(palabra, proyectos_investigacion[i])\n",
    "    i+=1"
   ]
  },
  {
   "cell_type": "markdown",
   "metadata": {},
   "source": [
    "- **Lemas Estudiantes**"
   ]
  },
  {
   "cell_type": "markdown",
   "metadata": {},
   "source": [
    "## Palabras a instanciar"
   ]
  },
  {
   "cell_type": "code",
   "execution_count": 17,
   "metadata": {},
   "outputs": [],
   "source": [
    "dataframe = pd.read_csv('../../Data/mydata/corpus_completo.txt')"
   ]
  },
  {
   "cell_type": "code",
   "execution_count": 18,
   "metadata": {},
   "outputs": [],
   "source": [
    "# text_file = open(\"../../../Data/mydata/corpus_completo.txt\", \"w\")\n",
    "# dataframe = pd.read_csv('../../../Data/mydata/corpus_completo.txt')\n",
    "i = 0\n",
    "for index, row in dataframe.iterrows():\n",
    "    lemas = ast.literal_eval(row['lemas'])\n",
    "    for palabra in lista_lemas:\n",
    "        instanciar_palabra(palabra, proyectos_investigacion[i])\n",
    "    i+=1"
   ]
  },
  {
   "cell_type": "code",
   "execution_count": 19,
   "metadata": {},
   "outputs": [],
   "source": [
    "ontologia.save()"
   ]
  },
  {
   "cell_type": "markdown",
   "metadata": {},
   "source": [
    "# TEST RELACIONAR OBJECT PROPERTY INSTANCES"
   ]
  },
  {
   "cell_type": "code",
   "execution_count": null,
   "metadata": {},
   "outputs": [],
   "source": [
    "list(ontologia.individuals())"
   ]
  },
  {
   "cell_type": "code",
   "execution_count": null,
   "metadata": {},
   "outputs": [],
   "source": [
    "palabra = Palabra(\"Perro\")\n",
    "palabra2 = Palabra(\"Gato\")"
   ]
  },
  {
   "cell_type": "code",
   "execution_count": null,
   "metadata": {},
   "outputs": [],
   "source": [
    "#proyecto = ontologia.Proyecto_investigacion.instances()\n",
    "proyecto1 = proyectos_investigacion[370]\n",
    "proyecto1.get_tipo_proyecto_investigacion()"
   ]
  },
  {
   "cell_type": "code",
   "execution_count": null,
   "metadata": {},
   "outputs": [],
   "source": []
  },
  {
   "cell_type": "code",
   "execution_count": null,
   "metadata": {},
   "outputs": [],
   "source": [
    "palabras = ontologia.Palabra.instances()\n",
    "palabra = palabras[1]\n",
    "palabra"
   ]
  },
  {
   "cell_type": "code",
   "execution_count": null,
   "metadata": {
    "tags": []
   },
   "outputs": [],
   "source": [
    "#proyecto1.relation_pi_tiene_palabra(palabra)\n",
    "print(proyecto1.pi_tiene_palabra)\n",
    "#print(palabra.palabra_describe_pi)\n"
   ]
  },
  {
   "cell_type": "code",
   "execution_count": null,
   "metadata": {},
   "outputs": [],
   "source": [
    "proyecto1.pi_tiene_palabra = [palabra]\n",
    "\n",
    "#palabra.palabra_describe_pi = [proyecto1]\n"
   ]
  },
  {
   "cell_type": "code",
   "execution_count": null,
   "metadata": {
    "tags": []
   },
   "outputs": [],
   "source": [
    "print(proyecto1.is_a)\n",
    "print(proyecto1.storid)\n",
    "print(proyecto1.get_properties())\n",
    "print(list(proyecto1.get_inverse_properties()))\n",
    "print(proyecto1.pi_tiene_palabra)\n"
   ]
  },
  {
   "cell_type": "code",
   "execution_count": null,
   "metadata": {
    "tags": []
   },
   "outputs": [],
   "source": [
    "print(palabra.is_a)\n",
    "print(palabra.storid)\n",
    "print(palabra.get_properties())\n",
    "print(list(palabra.get_inverse_properties()))\n",
    "print(palabra.palabra_describe_pi)"
   ]
  },
  {
   "cell_type": "code",
   "execution_count": null,
   "metadata": {
    "tags": []
   },
   "outputs": [],
   "source": [
    "print(ontologia.palabra_describe_pi.inverse)\n",
    "print(ontologia.palabra_describe_pi.domain)\n",
    "print(ontologia.palabra_describe_pi.range)\n",
    "print(\"###################################\")\n",
    "print(ontologia.pi_tiene_palabra.inverse)\n",
    "print(ontologia.pi_tiene_palabra.domain)\n",
    "print(ontologia.pi_tiene_palabra.range)\n"
   ]
  },
  {
   "cell_type": "code",
   "execution_count": null,
   "metadata": {},
   "outputs": [],
   "source": [
    "foo = list(ontologia.pi_tiene_palabra.get_relations())\n",
    "foo"
   ]
  },
  {
   "cell_type": "code",
   "execution_count": null,
   "metadata": {},
   "outputs": [],
   "source": [
    "list(ontologia.palabra_describe_pi.get_relations())"
   ]
  },
  {
   "cell_type": "markdown",
   "metadata": {},
   "source": [
    "## Funcion Eliminar Individuals"
   ]
  },
  {
   "cell_type": "code",
   "execution_count": null,
   "metadata": {},
   "outputs": [],
   "source": [
    "# Funcion destruir Individual\n",
    "def destruir_individual(individual):\n",
    "    destroy_entity(individual)"
   ]
  },
  {
   "cell_type": "code",
   "execution_count": null,
   "metadata": {},
   "outputs": [],
   "source": [
    "# Eliminar TODOS los inviduals\n",
    "for individual in list(ontologia.individuals()):\n",
    "    destruir_individual(individual)"
   ]
  },
  {
   "cell_type": "code",
   "execution_count": null,
   "metadata": {},
   "outputs": [],
   "source": [
    "# Eliminar Individuals Proyecto de Investigacion\n",
    "for individual in list(ontologia.Proyecto_investigacion.instances()):\n",
    "    destruir_individual(individual)"
   ]
  },
  {
   "cell_type": "code",
   "execution_count": null,
   "metadata": {},
   "outputs": [],
   "source": [
    "#Eliminar Individuals Palabras\n",
    "for individual in list(ontologia.Palabra.instances()):\n",
    "    destruir_individual(individual)"
   ]
  },
  {
   "cell_type": "code",
   "execution_count": null,
   "metadata": {},
   "outputs": [],
   "source": [
    "list(ontologia.Proyecto_investigacion.instances())"
   ]
  },
  {
   "cell_type": "code",
   "execution_count": null,
   "metadata": {},
   "outputs": [],
   "source": [
    "#Revisar Todos Individuals\n",
    "list(ontologia.individuals())"
   ]
  },
  {
   "cell_type": "code",
   "execution_count": null,
   "metadata": {},
   "outputs": [],
   "source": [
    "#Revisar Individuals Proyectos Investigacion\n",
    "list(ontologia.Proyecto_investigacion.instances())"
   ]
  },
  {
   "cell_type": "code",
   "execution_count": null,
   "metadata": {},
   "outputs": [],
   "source": [
    "ontologia.save()"
   ]
  },
  {
   "cell_type": "markdown",
   "metadata": {},
   "source": [
    "## Funcion instanciar Proyectos"
   ]
  },
  {
   "cell_type": "code",
   "execution_count": null,
   "metadata": {},
   "outputs": [],
   "source": [
    "def instanciar_proyectos(nombre, id_investigacion, titulo, resumen, estado, tipo):\n",
    "    proyecto_investigacion = Proyecto_investigacion(nombre)\n",
    "    proyecto_investigacion.set_id_proyecto_investigacion(id_investigacion)\n",
    "    proyecto_investigacion.set_titulo_proyecto_investigacion(titulo)\n",
    "    proyecto_investigacion.set_resumen_proyecto_investigacion(resumen)\n",
    "    proyecto_investigacion.set_estado_proyecto_investigacion(estado)\n",
    "    proyecto_investigacion.set_tipo_proyecto_investigacion(tipo)"
   ]
  }
 ],
 "metadata": {
  "kernelspec": {
   "display_name": "Python 3",
   "language": "python",
   "name": "python3"
  },
  "language_info": {
   "codemirror_mode": {
    "name": "ipython",
    "version": 3
   },
   "file_extension": ".py",
   "mimetype": "text/x-python",
   "name": "python",
   "nbconvert_exporter": "python",
   "pygments_lexer": "ipython3",
   "version": "3.8.3"
  }
 },
 "nbformat": 4,
 "nbformat_minor": 4
}
