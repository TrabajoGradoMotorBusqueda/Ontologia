{
 "cells": [
  {
   "cell_type": "markdown",
   "metadata": {},
   "source": [
    "# INSTANCIAS RELACIONES COMPLETO"
   ]
  },
  {
   "cell_type": "code",
   "execution_count": 1,
   "metadata": {},
   "outputs": [],
   "source": [
    "import sys\n",
    "\n",
    "sys.path.insert(0,'rutaScripts')\n",
    "# insert at 1, 0 is the script path (or '' in REPL)\n",
    "\n",
    "\n",
    "from ClasesOPDP import *"
   ]
  },
  {
   "cell_type": "markdown",
   "metadata": {},
   "source": [
    "# CARGA DE BIBLIOTECAS"
   ]
  },
  {
   "cell_type": "code",
   "execution_count": 2,
   "metadata": {},
   "outputs": [],
   "source": [
    "import pandas as pd \n",
    "import ast"
   ]
  },
  {
   "cell_type": "markdown",
   "metadata": {},
   "source": [
    "## PARA DOCENTES"
   ]
  },
  {
   "cell_type": "code",
   "execution_count": 3,
   "metadata": {},
   "outputs": [],
   "source": [
    "resumenes_docentes = pd.read_excel(\"rutaresdoc.xlsx\")"
   ]
  },
  {
   "cell_type": "code",
   "execution_count": 4,
   "metadata": {
    "scrolled": true
   },
   "outputs": [],
   "source": [
    "# resumenes_docentes"
   ]
  },
  {
   "cell_type": "markdown",
   "metadata": {},
   "source": [
    "## PARA ESTUDIANTES"
   ]
  },
  {
   "cell_type": "code",
   "execution_count": 5,
   "metadata": {},
   "outputs": [],
   "source": [
    "#Carga de datos\n",
    "resumenes_estudiantes = pd.read_excel(\"rutaresest.xlsx\")"
   ]
  },
  {
   "cell_type": "code",
   "execution_count": 6,
   "metadata": {
    "scrolled": true
   },
   "outputs": [],
   "source": [
    "# resumenes_estudiantes"
   ]
  },
  {
   "cell_type": "markdown",
   "metadata": {},
   "source": [
    "## FUNCIONES"
   ]
  },
  {
   "cell_type": "markdown",
   "metadata": {},
   "source": [
    "### Funcion para reemplazar espacios por guion bajo"
   ]
  },
  {
   "cell_type": "code",
   "execution_count": 7,
   "metadata": {},
   "outputs": [],
   "source": [
    "def replace_blanks(strblanks):\n",
    "    strunderscore = strblanks.replace(' ','_')\n",
    "    return strunderscore"
   ]
  },
  {
   "cell_type": "markdown",
   "metadata": {},
   "source": [
    "## Funcion Instanciar Estudiante"
   ]
  },
  {
   "cell_type": "code",
   "execution_count": 8,
   "metadata": {},
   "outputs": [],
   "source": [
    "def instanciar_estudiante(id_estudiante,nombre_estudiante):\n",
    "    \n",
    "    #Ojo recibe de parametro Investigador\n",
    "    estudiante = Estudiante(replace_blanks(nombre_estudiante))\n",
    "    estudiante.set_id_estudiante(id_estudiante)\n",
    "    estudiante.set_nombres_investigador(nombre_estudiante)\n",
    "#     estudiante.set_id_investigador()\n",
    "\n",
    "#     estudiante.set_apellidos_investigador()\n",
    "#     falta realizar la separacion de nombres y apellidos por espacios, aunque hay algunos que tienen mas de dos nombres o uno solo\n",
    "\n",
    "#     estudiante.set_codigo_investigador\n",
    "#     estudiante.set_cedula_investigador()\n",
    "#     estudiante.set_correo_investigador()\n",
    "    return estudiante"
   ]
  },
  {
   "cell_type": "markdown",
   "metadata": {},
   "source": [
    "## Funcion Instanciar Programa"
   ]
  },
  {
   "cell_type": "code",
   "execution_count": 9,
   "metadata": {},
   "outputs": [],
   "source": [
    "def instanciar_programa(id_programa, nombre_programa):\n",
    "    \n",
    "    #Ojo recibe de parametro Departamento\n",
    "    programa = Programa(replace_blanks(nombre_programa))\n",
    "    programa.set_id_programa(id_programa)\n",
    "    programa.set_nombre_programa(nombre_programa)\n",
    "    return programa"
   ]
  },
  {
   "cell_type": "markdown",
   "metadata": {},
   "source": [
    "## Funcion Instanciar Departamento"
   ]
  },
  {
   "cell_type": "code",
   "execution_count": 10,
   "metadata": {},
   "outputs": [],
   "source": [
    "def instanciar_departamento(id_departamento, nombre_departamento): # resumenes decentes no tiene el Depto\n",
    "    \n",
    "    # Ojo recibe de parametro facultad\n",
    "    departamento = Departamento(replace_blanks(nombre_departamento))\n",
    "    departamento.set_id_departamento(id_departamento)\n",
    "    departamento.set_nombre_departamento(nombre_departamento)\n",
    "    return departamento"
   ]
  },
  {
   "cell_type": "markdown",
   "metadata": {},
   "source": [
    "## Funcion Instanciar Facultad"
   ]
  },
  {
   "cell_type": "code",
   "execution_count": 11,
   "metadata": {},
   "outputs": [],
   "source": [
    "def instanciar_facultad(id_facultad, nombre_facultad):\n",
    "    \n",
    "    # Ojo recibe de parametro universidad\n",
    "    facultad = Facultad(replace_blanks(nombre_facultad))\n",
    "    facultad.set_id_facultad(id_facultad)\n",
    "    facultad.set_nombre_facultad(nombre_facultad)\n",
    "    return facultad"
   ]
  },
  {
   "cell_type": "markdown",
   "metadata": {},
   "source": [
    "## Funcion Instanciar Docente Asesor - Autor"
   ]
  },
  {
   "cell_type": "code",
   "execution_count": 12,
   "metadata": {},
   "outputs": [],
   "source": [
    "def instanciar_docente(id_docente, nombre_docente):\n",
    "    \n",
    "    #Ojo recibe de parametro Investigador    \n",
    "    docente = Docente(replace_blanks(nombre_docente))\n",
    "    docente.set_id_docente(id_docente)\n",
    "    docente.set_nombres_investigador(nombre_docente)\n",
    "    \n",
    "#     docente.set_id_investigador()\n",
    "\n",
    "#     falta realizar la separacion de nombres y apellidos por espacios (PARA AUTORES porque asesores no tiene(por ahora)), aunque hay algunos que tienen mas de dos nombres o uno solo.\n",
    "#     docente.set_apellidos_investigador()\n",
    "\n",
    "\n",
    "#     docente.set_codigo_investigador\n",
    "#     docente.set_cedula_investigador()\n",
    "#     docente.set_correo_investigador()\n",
    "    return docente"
   ]
  },
  {
   "cell_type": "markdown",
   "metadata": {},
   "source": [
    "## Funcion Instanciar Grupo investigacion"
   ]
  },
  {
   "cell_type": "code",
   "execution_count": 13,
   "metadata": {},
   "outputs": [],
   "source": [
    "def instanciar_gi(id_grupo_investigacion, nombre_grupo_investigacion):\n",
    "    \n",
    "    #Ojo recibe de parametro Thing\n",
    "    gi = Grupo_investigacion(replace_blanks(nombre_grupo_investigacion))\n",
    "    gi.set_id_grupo_investigacion(id_grupo_investigacion)\n",
    "    gi.set_nombre_grupo_investigacion(nombre_grupo_investigacion)\n",
    "#     gi.set_clasificacion_grupo_investigacion(clasificacion_grupo_investigacion)\n",
    "#     gi.set_area_grupo_investigacion(area_grupo_investigacion)\n",
    "#     gi.set_correo_grupo_investigacion(correo_grupo_investigacion)\n",
    "    \n",
    "    return gi"
   ]
  },
  {
   "cell_type": "markdown",
   "metadata": {},
   "source": [
    "## Funcion Instanciar Linea investigacion"
   ]
  },
  {
   "cell_type": "code",
   "execution_count": 14,
   "metadata": {},
   "outputs": [],
   "source": [
    "def instanciar_li(id_linea_investigacion,nombre_linea_investigacion):\n",
    "    \n",
    "    #Ojo recibe de parametro Grupo-_investigacion\n",
    "    li = Linea_investigacion(replace_blanks(nombre_linea_investigacion))\n",
    "    li.set_id_linea_investigacion(id_linea_investigacion)\n",
    "    li.set_nombre_linea_investigacion(nombre_linea_investigacion)\n",
    "    \n",
    "    return li\n",
    "    "
   ]
  },
  {
   "cell_type": "markdown",
   "metadata": {},
   "source": [
    "## Funcion Instanciar Convocatoria"
   ]
  },
  {
   "cell_type": "code",
   "execution_count": 15,
   "metadata": {},
   "outputs": [],
   "source": [
    "def instanciar_convocatoria(id_convocatoria, nombre_convocatoria):\n",
    "    \n",
    "    #Ojo recibe de parametro VIIS\n",
    "    convocatoria = Convocatoria(replace_blanks(nombre_convocatoria))\n",
    "    convocatoria.set_id_convocatoria(id_convocatoria)\n",
    "    convocatoria.set_nombre_convocatoria(nombre_convocatoria)\n",
    "#     convocatoria.set_tipo_convocatoria(tipo_convocatoria)  \n",
    "#     convocatoria.set_anio_convocatoria(anio_convocatoria)\n",
    "    return convocatoria\n",
    "\n",
    "## FALTA COMPLETAR el tipo convocatoria y el anio, arreglandolo"
   ]
  },
  {
   "cell_type": "markdown",
   "metadata": {},
   "source": [
    "## Funcion Instanciar VIIS"
   ]
  },
  {
   "cell_type": "code",
   "execution_count": 16,
   "metadata": {},
   "outputs": [],
   "source": [
    "def instanciar_viis(id_viis, nombre_viis):\n",
    "    \n",
    "    #Ojo recibe de parametro Thing\n",
    "    viis = VIIS(replace_blanks(nombre_viis))\n",
    "    viis.set_id_VIIS(id_viis)\n",
    "    viis.set_nombre_VIIS(nombre_viis)\n",
    "\n",
    "    return viis"
   ]
  },
  {
   "cell_type": "markdown",
   "metadata": {},
   "source": [
    "## Funcion Instanciar Universidad"
   ]
  },
  {
   "cell_type": "code",
   "execution_count": 17,
   "metadata": {},
   "outputs": [],
   "source": [
    "def instanciar_universidad(id_universidad, nombre_universidad):\n",
    "    \n",
    "    #Ojo recibe de parametro Thing\n",
    "    universidad = Universidad(replace_blanks(nombre_universidad))\n",
    "    universidad.set_id_universidad(id_universidad)\n",
    "    universidad.set_nombre_universidad(nombre_universidad)\n",
    "\n",
    "    return universidad"
   ]
  },
  {
   "cell_type": "markdown",
   "metadata": {},
   "source": [
    "## Funcion Instanciar Investigador_Externo"
   ]
  },
  {
   "cell_type": "code",
   "execution_count": 18,
   "metadata": {},
   "outputs": [],
   "source": [
    "def instanciar_ie(id_investigador_externo, nombre_investigador_externo):\n",
    "    \n",
    "    #Ojo recibe de parametro Investigador    \n",
    "    ie = Investigador_externo(replace_blanks(nombre_investigador_externo))\n",
    "    ie.set_id_investigador_externo(id_investigador_externo)\n",
    "    ie.set_nombres_investigador(nombre_investigador_externo)\n",
    "    \n",
    "#     ie.set_id_investigador()\n",
    "\n",
    "#     falta realizar la separacion de nombres y apellidos por espacios (PARA AUTORES porque asesores no tiene(por ahora)), aunque hay algunos que tienen mas de dos nombres o uno solo.\n",
    "#     ie.set_apellidos_investigador()\n",
    "\n",
    "\n",
    "#     ie.set_codigo_investigador\n",
    "#     ie.set_cedula_investigador()\n",
    "#     ie.set_correo_investigador()\n",
    "\n",
    "    return ie"
   ]
  },
  {
   "cell_type": "markdown",
   "metadata": {},
   "source": [
    "# RECORRIDO"
   ]
  },
  {
   "cell_type": "markdown",
   "metadata": {},
   "source": [
    "## Para estudiantes"
   ]
  },
  {
   "cell_type": "code",
   "execution_count": 19,
   "metadata": {
    "scrolled": true
   },
   "outputs": [],
   "source": [
    "# index todos van con el mismo del data frame\n",
    "\n",
    "for index, row in resumenes_estudiantes.iterrows():\n",
    "    \n",
    "    \n",
    "    # CREACION DE CADA INSTANCIA (CELDA)\n",
    "    \n",
    "    instancia_estudiante = instanciar_estudiante(index,row['nombre_autor'])\n",
    "    instancia_programa = instanciar_programa(index,row['programa'])\n",
    "    instancia_departamento = instanciar_departamento(index,row['departamento'])\n",
    "    instancia_facultad = instanciar_facultad(index,row['facultad'])\n",
    "    instancia_docente = instanciar_docente(index,row['nombre_asesor'])\n",
    "    instancia_gi = instanciar_gi(index,row['grupo_investigacion'])\n",
    "    instancia_li = instanciar_li(index,row['linea_investigacion'])\n",
    "    instancia_convocatoria = instanciar_convocatoria(index,row['convocatoria'])\n",
    "    \n",
    "     # RELACION DE CADA INSTANCIA (CELDA) CON SU HOMONIMA\n",
    "    \n",
    "#     instancia_estudiante.relation_estudiante_es_autor_pi()\n",
    "    \n",
    "    instancia_programa.relation_programa_tiene_estudiante(instancia_estudiante)\n",
    "    instancia_programa.relation_programa_tiene_docente(instancia_docente)\n",
    "    \n",
    "    instancia_departamento.relation_departamento_tiene_programa(instancia_programa)\n",
    "    instancia_departamento.relation_departamento_tiene_gi(instancia_gi)\n",
    "    \n",
    "    instancia_facultad.relation_facultad_tiene_departamento(instancia_departamento)\n",
    "    \n",
    "#     instancia_docente.relation_docente_asesora_pi()\n",
    "\n",
    "    instancia_gi.relation_gi_tiene_li(instancia_li)\n",
    "    instancia_gi.relation_gi_tiene_docente(instancia_docente)\n",
    "    instancia_gi.relation_gi_tiene_estudiante(instancia_estudiante)\n",
    "    \n",
    "#     instancia_li.relation_li_tiene_pi()\n",
    "\n",
    "\n",
    "#     instancia_convocatoria.relation_convocatoria_tiene_pi()\n",
    "#     instancia_convocatoria.relation_convocatoria_dirigida_investigador()#FALTA, no se sabe si poner investigador de instancia, o enviar parametro estudiante\n",
    "#     instancia_convocatoria.relation_convocatoria_dirigida_investigador()#FALTA, no se sabe si poner investigador de instancia, o enviar parametro docente\n",
    "    \n",
    "    \n",
    "#FALTAN LAS DEMAS RELACIONES, PERO ESTAS SE HARAN AL MOMENTO DE INSTANCIAR, POR EJ: UNIVERSIDAD CON VIIS, etc.    "
   ]
  },
  {
   "cell_type": "markdown",
   "metadata": {},
   "source": [
    "## Para docentes"
   ]
  },
  {
   "cell_type": "code",
   "execution_count": 20,
   "metadata": {},
   "outputs": [],
   "source": [
    "# index todos van con el mismo del data frame\n",
    "\n",
    "for index, row in resumenes_docentes.iterrows():\n",
    "\n",
    "    # CREACION DE CADA INSTANCIA (CELDA)\n",
    "    \n",
    "    instancia_docente = instanciar_docente(index,row['nombre_autor'])\n",
    "    instancia_programa = instanciar_programa(index,row['programa'])\n",
    "    instancia_facultad = instanciar_facultad(index,row['facultad'])\n",
    "    instancia_gi = instanciar_gi(index,row['grupo_investigacion'])\n",
    "    instancia_li = instanciar_li(index,row['linea_investigacion'])\n",
    "    instancia_convocatoria = instanciar_convocatoria(index,row['convocatoria'])\n",
    "    \n",
    "    \n",
    "    # RELACION DE CADA INSTANCIA (CELDA) CON SU HOMONIMA\n",
    "    \n",
    "#     instancia_docente.relation_docente_es_autor_pi()\n",
    "    \n",
    "    instancia_programa.relation_programa_tiene_docente(instancia_docente)\n",
    "    \n",
    "    instancia_departamento.relation_departamento_tiene_programa(instancia_programa)\n",
    "    instancia_departamento.relation_departamento_tiene_gi(instancia_gi)\n",
    "    \n",
    "    instancia_facultad.relation_facultad_tiene_departamento(instancia_departamento)\n",
    "    \n",
    "    instancia_gi.relation_gi_tiene_li(instancia_li)\n",
    "    instancia_gi.relation_gi_tiene_docente(instancia_docente)\n",
    "    \n",
    "#     instancia_li.relation_li_tiene_pi()\n",
    "\n",
    "\n",
    "#     instancia_convocatoria.relation_convocatoria_tiene_pi()\n",
    "#     instancia_convocatoria.relation_convocatoria_dirigida_investigador()#FALTA, no se sabe si poner investigador de instancia, o enviar parametro docente\n",
    "    "
   ]
  },
  {
   "cell_type": "markdown",
   "metadata": {},
   "source": [
    "## Almacenar los cambios en la ontologia"
   ]
  },
  {
   "cell_type": "code",
   "execution_count": 21,
   "metadata": {},
   "outputs": [],
   "source": [
    "ontologia.save()"
   ]
  }
 ],
 "metadata": {
  "kernelspec": {
   "display_name": "Python 3",
   "language": "python",
   "name": "python3"
  },
  "language_info": {
   "codemirror_mode": {
    "name": "ipython",
    "version": 3
   },
   "file_extension": ".py",
   "mimetype": "text/x-python",
   "name": "python",
   "nbconvert_exporter": "python",
   "pygments_lexer": "ipython3",
   "version": "3.8.3"
  }
 },
 "nbformat": 4,
 "nbformat_minor": 4
}
