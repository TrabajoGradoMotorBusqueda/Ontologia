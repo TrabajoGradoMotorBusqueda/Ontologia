{
 "cells": [
  {
   "cell_type": "markdown",
   "metadata": {},
   "source": [
    "<H3> IMPORTE MODULO Y CARGA DE ONTOLOGIA <H2>"
   ]
  },
  {
   "cell_type": "code",
   "execution_count": 1,
   "metadata": {},
   "outputs": [],
   "source": [
    "from owlready2 import *"
   ]
  },
  {
   "cell_type": "code",
   "execution_count": 2,
   "metadata": {
    "scrolled": true
   },
   "outputs": [
    {
     "data": {
      "text/plain": [
       "get_ontology(\"http://www.semanticweb.org/ontologiaPrueba#\")"
      ]
     },
     "execution_count": 2,
     "metadata": {},
     "output_type": "execute_result"
    }
   ],
   "source": [
    "# agregar la carpeta que contiene la ontologia, para busqueda local, sino en internet\n",
    "onto_path.append(\"../Data\") \n",
    "\n",
    "# carga de ontologia por IRI o por ruta directa al archivo owl\n",
    "ontologia = get_ontology(\"http://www.semanticweb.org/ontologiaPrueba\")\n",
    "ontologia.load()"
   ]
  },
  {
   "cell_type": "markdown",
   "metadata": {},
   "source": [
    "<H3> VISUALIZACIÓN DE ALGUNOS DATOS DE LA ONTOLOGIA <H3>"
   ]
  },
  {
   "cell_type": "code",
   "execution_count": 3,
   "metadata": {},
   "outputs": [],
   "source": [
    "clases_ontologia = ontologia.classes()"
   ]
  },
  {
   "cell_type": "code",
   "execution_count": 4,
   "metadata": {
    "scrolled": true
   },
   "outputs": [
    {
     "data": {
      "text/plain": [
       "[ontologiaPrueba.Investigador,\n",
       " ontologiaPrueba.Convocatoria,\n",
       " ontologiaPrueba.VIIS,\n",
       " ontologiaPrueba.Proyecto_investigacion,\n",
       " ontologiaPrueba.Departamento,\n",
       " ontologiaPrueba.Facultad,\n",
       " ontologiaPrueba.Grupo_investigacion,\n",
       " ontologiaPrueba.Programa,\n",
       " ontologiaPrueba.Diccionario,\n",
       " ontologiaPrueba.Palabra,\n",
       " ontologiaPrueba.Docente,\n",
       " ontologiaPrueba.Estudiante,\n",
       " ontologiaPrueba.Universidad,\n",
       " ontologiaPrueba.Linea_investigacion,\n",
       " ontologiaPrueba.Investigador_externo]"
      ]
     },
     "execution_count": 4,
     "metadata": {},
     "output_type": "execute_result"
    }
   ],
   "source": [
    "list(clases_ontologia)"
   ]
  },
  {
   "cell_type": "code",
   "execution_count": 5,
   "metadata": {},
   "outputs": [],
   "source": [
    "atributos_ontologia = ontologia.data_properties()"
   ]
  },
  {
   "cell_type": "code",
   "execution_count": 6,
   "metadata": {
    "scrolled": true
   },
   "outputs": [
    {
     "data": {
      "text/plain": [
       "[ontologiaPrueba.anio_convocatoria,\n",
       " ontologiaPrueba.apellidos_docente,\n",
       " ontologiaPrueba.apellidos_estudiante,\n",
       " ontologiaPrueba.apellidos_investigador_externo,\n",
       " ontologiaPrueba.cedula_docente,\n",
       " ontologiaPrueba.cedula_estudiante,\n",
       " ontologiaPrueba.cedula_investigador_externo,\n",
       " ontologiaPrueba.codigo_docente,\n",
       " ontologiaPrueba.codigo_estudiante,\n",
       " ontologiaPrueba.concepto_palabra,\n",
       " ontologiaPrueba.correo_docente,\n",
       " ontologiaPrueba.correo_estudiante,\n",
       " ontologiaPrueba.correo_investigador_externo,\n",
       " ontologiaPrueba.descripcion_palabra,\n",
       " ontologiaPrueba.detalle_palabra,\n",
       " ontologiaPrueba.estado_proyecto_investigacion,\n",
       " ontologiaPrueba.id_convocatoria,\n",
       " ontologiaPrueba.id_departamento,\n",
       " ontologiaPrueba.id_diccionario,\n",
       " ontologiaPrueba.id_docente,\n",
       " ontologiaPrueba.id_estudiante,\n",
       " ontologiaPrueba.id_facultad,\n",
       " ontologiaPrueba.id_grupo_investigacion,\n",
       " ontologiaPrueba.id_investigador,\n",
       " ontologiaPrueba.id_investigador_externo,\n",
       " ontologiaPrueba.id_linea_investigacion,\n",
       " ontologiaPrueba.id_palabra,\n",
       " ontologiaPrueba.id_programa,\n",
       " ontologiaPrueba.id_proyecto_investigacion,\n",
       " ontologiaPrueba.id_universidad,\n",
       " ontologiaPrueba.id_viis,\n",
       " ontologiaPrueba.lema_palabra,\n",
       " ontologiaPrueba.nombre_VIIS,\n",
       " ontologiaPrueba.nombre_convocatoria,\n",
       " ontologiaPrueba.nombre_departamento,\n",
       " ontologiaPrueba.nombre_diccionario,\n",
       " ontologiaPrueba.nombre_facultad,\n",
       " ontologiaPrueba.nombre_grupo_investigacion,\n",
       " ontologiaPrueba.nombre_investigador,\n",
       " ontologiaPrueba.nombre_linea_investigacion,\n",
       " ontologiaPrueba.nombre_programa,\n",
       " ontologiaPrueba.nombre_universidad,\n",
       " ontologiaPrueba.nombres_docente,\n",
       " ontologiaPrueba.nombres_estudiante,\n",
       " ontologiaPrueba.nombres_investigador_externo,\n",
       " ontologiaPrueba.palabra_clave1,\n",
       " ontologiaPrueba.palabra_clave2,\n",
       " ontologiaPrueba.palabra_clave3,\n",
       " ontologiaPrueba.palabra_clave4,\n",
       " ontologiaPrueba.palabra_clave5,\n",
       " ontologiaPrueba.resumen_proyecto_investigacion,\n",
       " ontologiaPrueba.significado_palabra,\n",
       " ontologiaPrueba.tipo_convocatoria,\n",
       " ontologiaPrueba.tipo_palabra,\n",
       " ontologiaPrueba.tipo_proyecto_investigacion,\n",
       " ontologiaPrueba.titulo_proyecto_investigacion]"
      ]
     },
     "execution_count": 6,
     "metadata": {},
     "output_type": "execute_result"
    }
   ],
   "source": [
    "list(atributos_ontologia)"
   ]
  },
  {
   "cell_type": "code",
   "execution_count": 7,
   "metadata": {},
   "outputs": [],
   "source": [
    "object_properties = ontologia.object_properties()"
   ]
  },
  {
   "cell_type": "code",
   "execution_count": 8,
   "metadata": {
    "scrolled": true
   },
   "outputs": [
    {
     "data": {
      "text/plain": [
       "[ontologiaPrueba.convocatoria_dirigida_investigador,\n",
       " ontologiaPrueba.investigador_se_encuentra_convocatoria,\n",
       " ontologiaPrueba.convocatoria_pertenece_viis,\n",
       " ontologiaPrueba.viis_tiene_convocatoria,\n",
       " ontologiaPrueba.convocatoria_tiene_pi,\n",
       " ontologiaPrueba.pi_pertenece_convocatoria,\n",
       " ontologiaPrueba.departamento_pertenece_facultad,\n",
       " ontologiaPrueba.facultad_tiene_departamento,\n",
       " ontologiaPrueba.departamento_tiene_gi,\n",
       " ontologiaPrueba.gi_pertenece_departamento,\n",
       " ontologiaPrueba.departamento_tiene_programa,\n",
       " ontologiaPrueba.programa_pertenece_departamento,\n",
       " ontologiaPrueba.diccionario_tiene_palabra,\n",
       " ontologiaPrueba.palabra_pertenece_diccionario,\n",
       " ontologiaPrueba.docente_es_investigador,\n",
       " ontologiaPrueba.investigador_puede_ser_docente,\n",
       " ontologiaPrueba.docente_pertenece_gi,\n",
       " ontologiaPrueba.gi_tiene_docente,\n",
       " ontologiaPrueba.docente_pertenece_programa,\n",
       " ontologiaPrueba.programa_tiene_docente,\n",
       " ontologiaPrueba.docente_puede_asesorar_pi,\n",
       " ontologiaPrueba.pi_puede_ser_asesorado_docente,\n",
       " ontologiaPrueba.docente_puede_realizar_pi,\n",
       " ontologiaPrueba.pi_puede_ser_realizado_docente,\n",
       " ontologiaPrueba.estudiante_es_investigador,\n",
       " ontologiaPrueba.investigador_puede_ser_estudiante,\n",
       " ontologiaPrueba.estudiante_pertenece_gi,\n",
       " ontologiaPrueba.gi_tiene_estudiante,\n",
       " ontologiaPrueba.estudiante_pertenece_programa,\n",
       " ontologiaPrueba.programa_tiene_estudiante,\n",
       " ontologiaPrueba.estudiante_realiza_pi,\n",
       " ontologiaPrueba.pi_puede_ser_realizado_estudiante,\n",
       " ontologiaPrueba.facultad_pertenece_universidad,\n",
       " ontologiaPrueba.universidad_tiene_facultad,\n",
       " ontologiaPrueba.gi_esta_adscrito_viis,\n",
       " ontologiaPrueba.viis_adscribe_gi,\n",
       " ontologiaPrueba.gi_tiene_investigador,\n",
       " ontologiaPrueba.investigador_pertenece_gi,\n",
       " ontologiaPrueba.gi_tiene_li,\n",
       " ontologiaPrueba.li_pertenece_gi,\n",
       " ontologiaPrueba.ie_es_investigador,\n",
       " ontologiaPrueba.investigador_puede_ser_ie,\n",
       " ontologiaPrueba.investigador_pertenece_viis,\n",
       " ontologiaPrueba.viis_tiene_investigador,\n",
       " ontologiaPrueba.li_tiene_pi,\n",
       " ontologiaPrueba.pi_pertenece_li,\n",
       " ontologiaPrueba.palabra_conecta_palabra,\n",
       " ontologiaPrueba.palabra_describe_pi,\n",
       " ontologiaPrueba.pi_tiene_palabra,\n",
       " ontologiaPrueba.palabra_sinonimo_palabra,\n",
       " ontologiaPrueba.pi_pertenece_viis,\n",
       " ontologiaPrueba.viis_tiene_pi,\n",
       " ontologiaPrueba.universidad_tiene_viis,\n",
       " ontologiaPrueba.viis_pertenece_universidad]"
      ]
     },
     "execution_count": 8,
     "metadata": {},
     "output_type": "execute_result"
    }
   ],
   "source": [
    "list(object_properties)"
   ]
  },
  {
   "cell_type": "code",
   "execution_count": 9,
   "metadata": {},
   "outputs": [
    {
     "name": "stdout",
     "output_type": "stream",
     "text": [
      "ontologiaPrueba.Estudiante\n",
      "ontologiaPrueba.programa_tiene_estudiante\n",
      "ontologiaPrueba.id_estudiante\n"
     ]
    }
   ],
   "source": [
    "#Para ver como lo almacena la ontología\n",
    "\n",
    "#imprimir una clase conocida\n",
    "print(ontologia.Estudiante)\n",
    "\n",
    "#imprimir un object_property conocido\n",
    "print(ontologia.programa_tiene_estudiante)\n",
    "\n",
    "#imprimir un data_property conocido\n",
    "print(ontologia.id_estudiante)"
   ]
  },
  {
   "cell_type": "code",
   "execution_count": 10,
   "metadata": {},
   "outputs": [
    {
     "name": "stdout",
     "output_type": "stream",
     "text": [
      "http://www.semanticweb.org/ontologiaPrueba#Estudiante\n"
     ]
    }
   ],
   "source": [
    "print(ontologia.Estudiante.iri)"
   ]
  },
  {
   "cell_type": "code",
   "execution_count": 11,
   "metadata": {},
   "outputs": [
    {
     "name": "stdout",
     "output_type": "stream",
     "text": [
      "[ontologiaPrueba.Diccionario]\n",
      "[ontologiaPrueba.Programa]\n"
     ]
    }
   ],
   "source": [
    "#superclase inmediata de la clase dada\n",
    "print(ontologia.Palabra.is_a)\n",
    "\n",
    "print(ontologia.Estudiante.is_a)"
   ]
  },
  {
   "cell_type": "code",
   "execution_count": 12,
   "metadata": {},
   "outputs": [
    {
     "name": "stdout",
     "output_type": "stream",
     "text": [
      "[ontologiaPrueba.Palabra]\n",
      "[ontologiaPrueba.VIIS, ontologiaPrueba.Facultad]\n"
     ]
    }
   ],
   "source": [
    "#subclases inmediatas de la clase dada\n",
    "\n",
    "print(list(ontologia.Diccionario.subclasses()))\n",
    "\n",
    "print(list(ontologia.Universidad.subclasses()))"
   ]
  },
  {
   "cell_type": "code",
   "execution_count": 13,
   "metadata": {
    "scrolled": true
   },
   "outputs": [
    {
     "name": "stdout",
     "output_type": "stream",
     "text": [
      "ancestros: [ontologiaPrueba.Facultad, ontologiaPrueba.Universidad, ontologiaPrueba.Departamento, owl.Thing]\n",
      "\n",
      "descendientes: [ontologiaPrueba.Programa, ontologiaPrueba.Docente, ontologiaPrueba.Estudiante, ontologiaPrueba.Departamento]\n"
     ]
    }
   ],
   "source": [
    "#ancestros\n",
    "print(\"ancestros: {}\".format(list(ontologia.Departamento.ancestors())) +\"\\n\")\n",
    "\n",
    "#descendientes\n",
    "print(\"descendientes: {}\".format(list(ontologia.Departamento.descendants())))\n"
   ]
  },
  {
   "cell_type": "markdown",
   "metadata": {},
   "source": [
    "<H3> CREACION DE INSTANCIAS <H3>"
   ]
  },
  {
   "cell_type": "code",
   "execution_count": 14,
   "metadata": {},
   "outputs": [],
   "source": [
    "instancia_diccionario1 = ontologia.Diccionario (\"diccionario1\")\n",
    "\n",
    "instancia_diccionario2 = ontologia.Diccionario (\"diccionario2\")\n",
    "\n",
    "instancia_diccionario3 = ontologia.Diccionario (\"diccionario3\")"
   ]
  },
  {
   "cell_type": "code",
   "execution_count": 15,
   "metadata": {},
   "outputs": [
    {
     "name": "stdout",
     "output_type": "stream",
     "text": [
      "diccionario1\n",
      "diccionario1\n"
     ]
    }
   ],
   "source": [
    "print(instancia_diccionario1.name)\n",
    "print(instancia_diccionario1.get_name())"
   ]
  },
  {
   "cell_type": "code",
   "execution_count": 16,
   "metadata": {},
   "outputs": [
    {
     "name": "stdout",
     "output_type": "stream",
     "text": [
      "http://www.semanticweb.org/ontologiaPrueba#diccionario1\n"
     ]
    }
   ],
   "source": [
    "print(instancia_diccionario1.iri)"
   ]
  },
  {
   "cell_type": "code",
   "execution_count": 17,
   "metadata": {},
   "outputs": [
    {
     "data": {
      "text/plain": [
       "[ontologiaPrueba.diccionario1,\n",
       " ontologiaPrueba.diccionario2,\n",
       " ontologiaPrueba.diccionario3,\n",
       " ontologiaPrueba.estudiante1,\n",
       " ontologiaPrueba.estudiante2,\n",
       " ontologiaPrueba.programa1]"
      ]
     },
     "execution_count": 17,
     "metadata": {},
     "output_type": "execute_result"
    }
   ],
   "source": [
    "#para saber si se ha creado dicha instancia, se visualizan las instancias de la ontologia\n",
    "\n",
    "list(ontologia.individuals())"
   ]
  },
  {
   "cell_type": "code",
   "execution_count": 18,
   "metadata": {},
   "outputs": [
    {
     "name": "stdout",
     "output_type": "stream",
     "text": [
      "ontologiaPrueba.diccionario1\n",
      "ontologiaPrueba.diccionario2\n",
      "ontologiaPrueba.diccionario3\n"
     ]
    }
   ],
   "source": [
    "#las instancias de diccionario\n",
    "\n",
    "for i in ontologia.Diccionario.instances(): print(i)"
   ]
  },
  {
   "cell_type": "code",
   "execution_count": 19,
   "metadata": {
    "scrolled": true
   },
   "outputs": [
    {
     "data": {
      "text/plain": [
       "ontologiaPrueba.Diccionario"
      ]
     },
     "execution_count": 19,
     "metadata": {},
     "output_type": "execute_result"
    }
   ],
   "source": [
    "#conocer la clase de la instancia\n",
    "\n",
    "instancia_diccionario1.__class__"
   ]
  },
  {
   "cell_type": "markdown",
   "metadata": {},
   "source": [
    "<H3>BUSQUEDA</H3>"
   ]
  },
  {
   "cell_type": "code",
   "execution_count": 20,
   "metadata": {
    "scrolled": true
   },
   "outputs": [
    {
     "data": {
      "text/plain": [
       "[ontologiaPrueba.Diccionario, ontologiaPrueba.diccionario1, ontologiaPrueba.diccionario2, ontologiaPrueba.diccionario3, ontologiaPrueba.Palabra]"
      ]
     },
     "execution_count": 20,
     "metadata": {},
     "output_type": "execute_result"
    }
   ],
   "source": [
    "# search para algunas consultas, pero mejor sparql con WORLDS,\n",
    "\n",
    "# is_a busca las instancias y subclases de la clase diccionario\n",
    "ontologia.search(is_a = ontologia.Diccionario)\n",
    "\n",
    "# se pueden hacer consultas anidadas"
   ]
  },
  {
   "cell_type": "markdown",
   "metadata": {},
   "source": [
    "<H3> RELACION ENTRE INSTANCIAS (OBJECT PROPERTIES)     </H3>"
   ]
  },
  {
   "cell_type": "code",
   "execution_count": 21,
   "metadata": {},
   "outputs": [],
   "source": [
    "instancia_programa1 = ontologia.Programa(\"programa1\")\n",
    "instancia_estudiante1 = ontologia.Estudiante(\"estudiante1\")\n",
    "\n",
    "instancia_programa1.programa_tiene_estudiante = [instancia_estudiante1]"
   ]
  },
  {
   "cell_type": "code",
   "execution_count": 22,
   "metadata": {},
   "outputs": [
    {
     "name": "stdout",
     "output_type": "stream",
     "text": [
      "[ontologiaPrueba.estudiante1]\n"
     ]
    }
   ],
   "source": [
    "#imprime el nombre de la instancia que se relaciona con dicha triple (instancia rango)\n",
    "\n",
    "print(instancia_programa1.programa_tiene_estudiante)"
   ]
  },
  {
   "cell_type": "code",
   "execution_count": 23,
   "metadata": {},
   "outputs": [],
   "source": [
    "# validar si existe y luego appendear las otras instancias con dicha triple\n",
    "\n",
    "instancia_estudiante2 = ontologia.Estudiante(\"estudiante2\")\n",
    "instancia_programa1.programa_tiene_estudiante.append(instancia_estudiante2)\n",
    "#ya no fue necesario los corchetes [] sino solo append porque\n",
    "#ya hay instancias \"rango\", en este caso dos estudiantes"
   ]
  },
  {
   "cell_type": "code",
   "execution_count": 24,
   "metadata": {
    "scrolled": true
   },
   "outputs": [
    {
     "name": "stdout",
     "output_type": "stream",
     "text": [
      "[ontologiaPrueba.estudiante1, ontologiaPrueba.estudiante2]\n"
     ]
    }
   ],
   "source": [
    "print(instancia_programa1.programa_tiene_estudiante)"
   ]
  },
  {
   "cell_type": "markdown",
   "metadata": {},
   "source": [
    "<font color = \"00FF00\"> <H6>cuando se definan clases con Python, se podrá definir object properties, con su inversa,\n",
    "para que cuando se instancie una object propertie, automaticamente por debajo se instancie la inversa </H6>"
   ]
  },
  {
   "cell_type": "markdown",
   "metadata": {},
   "source": [
    "<H3>ATRIBUTOS DE INSTANCIAS (DATA PROPERTIES)</H3>"
   ]
  },
  {
   "cell_type": "code",
   "execution_count": 27,
   "metadata": {},
   "outputs": [],
   "source": [
    "instancia_estudiante1.id_estudiante = [\"1\"]\n",
    "instancia_estudiante1.nombres_estudiante = [\"Sara\"]\n",
    "instancia_estudiante1.apellidos_estudiante = [\"Tailor\"]\n",
    "instancia_estudiante1.codigo_estudiante = [\"100\"]\n",
    "instancia_estudiante1.cedula_estudiante = [\"100\"]\n",
    "instancia_estudiante1.correo_estudiante = [\"correo@dominio.com\"]"
   ]
  },
  {
   "cell_type": "markdown",
   "metadata": {},
   "source": [
    "<H3> ALMACENAR LOS CAMBIOS REALIZADOS EN OWL <H3>"
   ]
  },
  {
   "cell_type": "code",
   "execution_count": 4,
   "metadata": {},
   "outputs": [],
   "source": [
    "ontologia.save()"
   ]
  }
 ],
 "metadata": {
  "kernelspec": {
   "display_name": "Python 3",
   "language": "python",
   "name": "python3"
  },
  "language_info": {
   "codemirror_mode": {
    "name": "ipython",
    "version": 3
   },
   "file_extension": ".py",
   "mimetype": "text/x-python",
   "name": "python",
   "nbconvert_exporter": "python",
   "pygments_lexer": "ipython3",
   "version": "3.8.3"
  }
 },
 "nbformat": 4,
 "nbformat_minor": 4
}
