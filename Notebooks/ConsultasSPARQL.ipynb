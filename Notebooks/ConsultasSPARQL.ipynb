{
 "cells": [
  {
   "cell_type": "code",
   "execution_count": 1,
   "metadata": {},
   "outputs": [],
   "source": [
    "import sys\n",
    "# insert at 1, 0 is the script path (or '' in REPL)\n",
    "sys.path.insert(1, '../Scripts')\n",
    "from ontologia import *"
   ]
  },
  {
   "cell_type": "code",
   "execution_count": 5,
   "metadata": {
    "tags": []
   },
   "outputs": [
    {
     "name": "stderr",
     "output_type": "stream",
     "text": [
      "* Owlready2 * Running HermiT...\n",
      "    java -Xmx2000M -cp /home/sangeeky/anaconda3/envs/tesis/lib/python3.7/site-packages/owlready2/hermit:/home/sangeeky/anaconda3/envs/tesis/lib/python3.7/site-packages/owlready2/hermit/HermiT.jar org.semanticweb.HermiT.cli.CommandLine -c -O -D -I file:////tmp/tmppnd28u60\n",
      "* Owlready2 * HermiT took 5.868350982666016 seconds\n",
      "* Owlready * (NB: only changes on entities loaded in Python are shown, other changes are done but not listed)\n"
     ]
    }
   ],
   "source": [
    "sync_reasoner()"
   ]
  },
  {
   "cell_type": "code",
   "execution_count": 3,
   "metadata": {},
   "outputs": [
    {
     "data": {
      "text/plain": [
       "['Docente 2017']"
      ]
     },
     "execution_count": 3,
     "metadata": {},
     "output_type": "execute_result"
    }
   ],
   "source": [
    "perro = (ontologia.Palabra.instances())[0]\n",
    "trabajo = (perro.palabra_describe_pi)[0]\n",
    "trabajo.get_tipo_proyecto_investigacion()"
   ]
  },
  {
   "cell_type": "code",
   "execution_count": 20,
   "metadata": {
    "tags": []
   },
   "outputs": [
    {
     "name": "stdout",
     "output_type": "stream",
     "text": [
      "[OntologiaInvestigacionPrueba.Proyecto_investigacion]\n",
      "[OntologiaInvestigacionPrueba.Universidad]\n",
      "[OntologiaInvestigacionPrueba.VIIS, OntologiaInvestigacionPrueba.Facultad]\n"
     ]
    }
   ],
   "source": [
    "print(trabajo.is_a)\n",
    "#print(ontologia.get_instances_of(parent))\n",
    "print(ontologia.get_parents_of(Facultad))\n",
    "print(ontologia.get_children_of(Universidad))s"
   ]
  },
  {
   "cell_type": "code",
   "execution_count": 3,
   "metadata": {},
   "outputs": [],
   "source": [
    "graph = default_world.as_rdflib_graph()"
   ]
  },
  {
   "cell_type": "code",
   "execution_count": 4,
   "metadata": {},
   "outputs": [
    {
     "data": {
      "text/plain": [
       "[OntologiaInvestigacionPrueba.Convocatoria, OntologiaInvestigacionPrueba.VIIS]"
      ]
     },
     "execution_count": 4,
     "metadata": {},
     "output_type": "execute_result"
    }
   ],
   "source": [
    "list(graph.query_owlready(\"\"\"\n",
    "PREFIX rdf: <http://www.w3.org/1999/02/22-rdf-syntax-ns#>\n",
    "PREFIX owl: <http://www.w3.org/2002/07/owl#>\n",
    "PREFIX rdfs: <http://www.w3.org/2000/01/rdf-schema#>\n",
    "PREFIX xsd: <http://www.w3.org/2001/XMLSchema#>\n",
    "SELECT ?subject ?object\n",
    "\tWHERE { ?subject rdfs:subClassOf ?object }\n",
    "\"\"\"))[0]"
   ]
  },
  {
   "cell_type": "code",
   "execution_count": 18,
   "metadata": {
    "tags": []
   },
   "outputs": [
    {
     "name": "stdout",
     "output_type": "stream",
     "text": [
      "['MOTOR DE BÚSQUEDA INTELIGENTE DE INFORMES DE INVESTIGACIÓN BASADO EN RECURSOS SEMÁNTICOS PARA EL SISTEMA DE INVESTIGACIONES DE LA UNIVERSIDAD DE NARIÑO']\n",
      "[OntologiaInvestigacionPrueba.pi427]\n"
     ]
    }
   ],
   "source": [
    "duro = list(graph.query_owlready(\"\"\"\n",
    "PREFIX rdf: <http://www.w3.org/1999/02/22-rdf-syntax-ns#>\n",
    "PREFIX owl: <http://www.w3.org/2002/07/owl#>\n",
    "PREFIX rdfs: <http://www.w3.org/2000/01/rdf-schema#>\n",
    "PREFIX xsd: <http://www.w3.org/2001/XMLSchema#>\n",
    "PREFIX po: <http://www.semanticweb.org/OntologiaInvestigacionPrueba#>\n",
    "SELECT ?Proyecto\n",
    "\tWHERE { ?Proyecto po:pi_tiene_palabra po:buscador.}\n",
    "\"\"\"))[0]\n",
    "print(duro[0].get_titulo_proyecto_investigacion())\n",
    "print(duro)"
   ]
  },
  {
   "cell_type": "code",
   "execution_count": 22,
   "metadata": {},
   "outputs": [
    {
     "data": {
      "text/plain": [
       "[[OntologiaInvestigacionPrueba.herramienta],\n",
       " [OntologiaInvestigacionPrueba.tecnología],\n",
       " [OntologiaInvestigacionPrueba.facultar],\n",
       " [OntologiaInvestigacionPrueba.semántico],\n",
       " [OntologiaInvestigacionPrueba.brindar],\n",
       " [OntologiaInvestigacionPrueba.disponible],\n",
       " [OntologiaInvestigacionPrueba.resultar],\n",
       " [OntologiaInvestigacionPrueba.documento],\n",
       " [OntologiaInvestigacionPrueba.reducir],\n",
       " [OntologiaInvestigacionPrueba.silvio],\n",
       " [OntologiaInvestigacionPrueba.base],\n",
       " [OntologiaInvestigacionPrueba.inteligente],\n",
       " [OntologiaInvestigacionPrueba.vertiginoso],\n",
       " [OntologiaInvestigacionPrueba.usuario],\n",
       " [OntologiaInvestigacionPrueba.cambiar],\n",
       " [OntologiaInvestigacionPrueba.enriquecer],\n",
       " [OntologiaInvestigacionPrueba.ofrecer],\n",
       " [OntologiaInvestigacionPrueba.investigador],\n",
       " [OntologiaInvestigacionPrueba.gestión],\n",
       " [OntologiaInvestigacionPrueba.informático],\n",
       " [OntologiaInvestigacionPrueba.información],\n",
       " [OntologiaInvestigacionPrueba.ingeniería],\n",
       " [OntologiaInvestigacionPrueba.manejar],\n",
       " [OntologiaInvestigacionPrueba.buscador],\n",
       " [OntologiaInvestigacionPrueba.gestor],\n",
       " [OntologiaInvestigacionPrueba.potente],\n",
       " [OntologiaInvestigacionPrueba.investigación],\n",
       " [OntologiaInvestigacionPrueba.función],\n",
       " [OntologiaInvestigacionPrueba.actualidad],\n",
       " [OntologiaInvestigacionPrueba.brecha],\n",
       " [OntologiaInvestigacionPrueba.consultar],\n",
       " [OntologiaInvestigacionPrueba.significativo],\n",
       " [OntologiaInvestigacionPrueba.crecimiento],\n",
       " [OntologiaInvestigacionPrueba.año],\n",
       " [OntologiaInvestigacionPrueba.digitalizar],\n",
       " [OntologiaInvestigacionPrueba.artificial],\n",
       " [OntologiaInvestigacionPrueba.respuesta],\n",
       " [OntologiaInvestigacionPrueba.universidad],\n",
       " [OntologiaInvestigacionPrueba.sesgar],\n",
       " [OntologiaInvestigacionPrueba.complejo],\n",
       " [OntologiaInvestigacionPrueba.ámbito],\n",
       " [OntologiaInvestigacionPrueba.orientar],\n",
       " [OntologiaInvestigacionPrueba.estudiante],\n",
       " [OntologiaInvestigacionPrueba.página],\n",
       " [OntologiaInvestigacionPrueba.importancia],\n",
       " [OntologiaInvestigacionPrueba.proyectar],\n",
       " [OntologiaInvestigacionPrueba.encontrar],\n",
       " [OntologiaInvestigacionPrueba.permitir],\n",
       " [OntologiaInvestigacionPrueba.correcto],\n",
       " [OntologiaInvestigacionPrueba.generar],\n",
       " [OntologiaInvestigacionPrueba.labor],\n",
       " [OntologiaInvestigacionPrueba.recurso],\n",
       " [OntologiaInvestigacionPrueba.obtener],\n",
       " [OntologiaInvestigacionPrueba.innovador],\n",
       " [OntologiaInvestigacionPrueba.tarea],\n",
       " [OntologiaInvestigacionPrueba.acercar],\n",
       " [OntologiaInvestigacionPrueba.presentar],\n",
       " [OntologiaInvestigacionPrueba.dato],\n",
       " [OntologiaInvestigacionPrueba.basar],\n",
       " [OntologiaInvestigacionPrueba.facilitar],\n",
       " [OntologiaInvestigacionPrueba.amplio],\n",
       " [OntologiaInvestigacionPrueba.digital],\n",
       " [OntologiaInvestigacionPrueba.motor],\n",
       " [OntologiaInvestigacionPrueba.motivar],\n",
       " [OntologiaInvestigacionPrueba.contener],\n",
       " [OntologiaInvestigacionPrueba.cujar],\n",
       " [OntologiaInvestigacionPrueba.informe],\n",
       " [OntologiaInvestigacionPrueba.coincidencia],\n",
       " [OntologiaInvestigacionPrueba.competitividad],\n",
       " [OntologiaInvestigacionPrueba.fundamentándose],\n",
       " [OntologiaInvestigacionPrueba.internet],\n",
       " [OntologiaInvestigacionPrueba.búsqueda],\n",
       " [OntologiaInvestigacionPrueba.incorporar],\n",
       " [OntologiaInvestigacionPrueba.filtrar],\n",
       " [OntologiaInvestigacionPrueba.conocimiento],\n",
       " [OntologiaInvestigacionPrueba.necesidad],\n",
       " [OntologiaInvestigacionPrueba.ontología],\n",
       " [OntologiaInvestigacionPrueba.rosero],\n",
       " [OntologiaInvestigacionPrueba.desarrollar],\n",
       " [OntologiaInvestigacionPrueba.raíz],\n",
       " [OntologiaInvestigacionPrueba.determinar],\n",
       " [OntologiaInvestigacionPrueba.plantear],\n",
       " [OntologiaInvestigacionPrueba.sparql],\n",
       " [OntologiaInvestigacionPrueba.recuperar],\n",
       " [OntologiaInvestigacionPrueba.programar],\n",
       " [OntologiaInvestigacionPrueba.personar],\n",
       " [OntologiaInvestigacionPrueba.realizar],\n",
       " [OntologiaInvestigacionPrueba.exacto],\n",
       " [OntologiaInvestigacionPrueba.ricardo],\n",
       " [OntologiaInvestigacionPrueba.sistema],\n",
       " [OntologiaInvestigacionPrueba.grias],\n",
       " [OntologiaInvestigacionPrueba.nariño],\n",
       " [OntologiaInvestigacionPrueba.grupo],\n",
       " [OntologiaInvestigacionPrueba.propender],\n",
       " [OntologiaInvestigacionPrueba.contexto],\n",
       " [OntologiaInvestigacionPrueba.vida],\n",
       " [OntologiaInvestigacionPrueba.fruto],\n",
       " [OntologiaInvestigacionPrueba.buscar],\n",
       " [OntologiaInvestigacionPrueba.observar],\n",
       " [OntologiaInvestigacionPrueba.cantidad]]"
      ]
     },
     "execution_count": 22,
     "metadata": {},
     "output_type": "execute_result"
    }
   ],
   "source": [
    "list(graph.query_owlready(\"\"\"\n",
    "PREFIX rdf: <http://www.w3.org/1999/02/22-rdf-syntax-ns#>\n",
    "PREFIX owl: <http://www.w3.org/2002/07/owl#>\n",
    "PREFIX rdfs: <http://www.w3.org/2000/01/rdf-schema#>\n",
    "PREFIX xsd: <http://www.w3.org/2001/XMLSchema#>\n",
    "PREFIX po: <http://www.semanticweb.org/OntologiaInvestigacionPrueba#>\n",
    "SELECT ?Proyecto\n",
    "WHERE { ?Proyecto po:palabra_describe_pi po:pi427. } \n",
    "LIMIT 100\n",
    "\"\"\"))"
   ]
  }
 ],
 "metadata": {
  "kernelspec": {
   "display_name": "Python 3",
   "language": "python",
   "name": "python3"
  },
  "language_info": {
   "codemirror_mode": {
    "name": "ipython",
    "version": 3
   },
   "file_extension": ".py",
   "mimetype": "text/x-python",
   "name": "python",
   "nbconvert_exporter": "python",
   "pygments_lexer": "ipython3",
   "version": "3.8.3"
  }
 },
 "nbformat": 4,
 "nbformat_minor": 2
}
