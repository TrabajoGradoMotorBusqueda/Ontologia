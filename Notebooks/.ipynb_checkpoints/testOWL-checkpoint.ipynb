{
 "cells": [
  {
   "cell_type": "code",
   "execution_count": 1,
   "metadata": {},
   "outputs": [],
   "source": [
    "from owlready2 import *"
   ]
  },
  {
   "cell_type": "markdown",
   "metadata": {},
   "source": [
    "### Cargaremos Nuestra Ontologia\n",
    "En este caso trabajmos con la ontologia de Test, el cual añadimos la carpeta y su IRI"
   ]
  },
  {
   "cell_type": "code",
   "execution_count": 9,
   "metadata": {},
   "outputs": [
    {
     "data": {
      "text/plain": [
       "get_ontology(\"http://www.semanticweb.org/OntologiaTest#\")"
      ]
     },
     "execution_count": 9,
     "metadata": {},
     "output_type": "execute_result"
    }
   ],
   "source": [
    "onto_path.append(\"../Data\")\n",
    "ontologia = get_ontology(\"http://www.semanticweb.org/OntologiaTest\")\n",
    "\n",
    "ontologia.load()"
   ]
  },
  {
   "cell_type": "markdown",
   "metadata": {},
   "source": [
    "### Revisamos parte de la estructura de la ontologia\n",
    "\n",
    "- clases\n",
    "- properties\n",
    "- relaciones"
   ]
  },
  {
   "cell_type": "code",
   "execution_count": 3,
   "metadata": {
    "collapsed": true
   },
   "outputs": [
    {
     "data": {
      "text/plain": [
       "[OntologiaInvestigacion.Convocatoria,\n",
       " OntologiaInvestigacion.Departamento,\n",
       " OntologiaInvestigacion.Diccionario,\n",
       " OntologiaInvestigacion.Docente,\n",
       " OntologiaInvestigacion.Estudiante,\n",
       " OntologiaInvestigacion.Facultad,\n",
       " OntologiaInvestigacion.Grupo_investigacion,\n",
       " OntologiaInvestigacion.Investigador,\n",
       " OntologiaInvestigacion.Investigador_externo,\n",
       " OntologiaInvestigacion.Linea_investigacion,\n",
       " OntologiaInvestigacion.Palabra,\n",
       " OntologiaInvestigacion.Programa,\n",
       " OntologiaInvestigacion.Proyecto_investigacion,\n",
       " OntologiaInvestigacion.Universidad,\n",
       " OntologiaInvestigacion.VIIS]"
      ]
     },
     "execution_count": 3,
     "metadata": {},
     "output_type": "execute_result"
    }
   ],
   "source": [
    "test_classes = ontologia.classes()\n",
    "list(test_classes)"
   ]
  },
  {
   "cell_type": "code",
   "execution_count": 59,
   "metadata": {
    "collapsed": true
   },
   "outputs": [
    {
     "data": {
      "text/plain": [
       "[OntologiaInvestigacion.anio_convocatoria,\n",
       " OntologiaInvestigacion.apellidos_docente,\n",
       " OntologiaInvestigacion.apellidos_estudiante,\n",
       " OntologiaInvestigacion.apellidos_investigador_externo,\n",
       " OntologiaInvestigacion.cedula_docente,\n",
       " OntologiaInvestigacion.cedula_estudiante,\n",
       " OntologiaInvestigacion.cedula_investigador_externo,\n",
       " OntologiaInvestigacion.codigo_docente,\n",
       " OntologiaInvestigacion.codigo_estudiante,\n",
       " OntologiaInvestigacion.correo_docente,\n",
       " OntologiaInvestigacion.correo_estudiante,\n",
       " OntologiaInvestigacion.correo_investigador_externo,\n",
       " OntologiaInvestigacion.descripcion_palabra,\n",
       " OntologiaInvestigacion.estado_proyecto_investigacion,\n",
       " OntologiaInvestigacion.id_convocatoria,\n",
       " OntologiaInvestigacion.id_departamento,\n",
       " OntologiaInvestigacion.id_diccionario,\n",
       " OntologiaInvestigacion.id_docente,\n",
       " OntologiaInvestigacion.id_estudiante,\n",
       " OntologiaInvestigacion.id_facultad,\n",
       " OntologiaInvestigacion.id_grupo_investigacion,\n",
       " OntologiaInvestigacion.id_investigador,\n",
       " OntologiaInvestigacion.id_investigador_externo,\n",
       " OntologiaInvestigacion.id_linea_investigacion,\n",
       " OntologiaInvestigacion.id_palabra,\n",
       " OntologiaInvestigacion.id_programa,\n",
       " OntologiaInvestigacion.id_proyecto_investigacion,\n",
       " OntologiaInvestigacion.id_universidad,\n",
       " OntologiaInvestigacion.id_viis,\n",
       " OntologiaInvestigacion.nombre_VIIS,\n",
       " OntologiaInvestigacion.nombre_convocatoria,\n",
       " OntologiaInvestigacion.nombre_departamento,\n",
       " OntologiaInvestigacion.nombre_diccionario,\n",
       " OntologiaInvestigacion.nombre_facultad,\n",
       " OntologiaInvestigacion.nombre_grupo_investigacion,\n",
       " OntologiaInvestigacion.nombre_investigador,\n",
       " OntologiaInvestigacion.nombre_linea_investigacion,\n",
       " OntologiaInvestigacion.nombre_programa,\n",
       " OntologiaInvestigacion.nombre_universidad,\n",
       " OntologiaInvestigacion.nombres_docente,\n",
       " OntologiaInvestigacion.nombres_estudiante,\n",
       " OntologiaInvestigacion.nombres_investigador_externo,\n",
       " OntologiaInvestigacion.palabra_clave1,\n",
       " OntologiaInvestigacion.palabra_clave2,\n",
       " OntologiaInvestigacion.palabra_clave3,\n",
       " OntologiaInvestigacion.palabra_clave4,\n",
       " OntologiaInvestigacion.palabra_clave5,\n",
       " OntologiaInvestigacion.resumen_proyecto_investigacion,\n",
       " OntologiaInvestigacion.significado_palabra,\n",
       " OntologiaInvestigacion.tipo_convocatoria,\n",
       " OntologiaInvestigacion.tipo_palabra,\n",
       " OntologiaInvestigacion.tipo_proyecto_investigacion,\n",
       " OntologiaInvestigacion.titulo_proyecto_investigacion]"
      ]
     },
     "execution_count": 59,
     "metadata": {},
     "output_type": "execute_result"
    }
   ],
   "source": [
    "test_properties = ontologia.data_properties()\n",
    "list(test_properties)"
   ]
  },
  {
   "cell_type": "markdown",
   "metadata": {},
   "source": [
    "### Test creacion de Instancias / Individuals"
   ]
  },
  {
   "cell_type": "markdown",
   "metadata": {},
   "source": [
    "Instancias de Proyecto de investigacion"
   ]
  },
  {
   "cell_type": "code",
   "execution_count": null,
   "metadata": {},
   "outputs": [],
   "source": [
    "test_pi = ontologia.Proyecto_investigacion(\"test_proyecto_investigacion1\")\n",
    "test_pi.get_name()"
   ]
  },
  {
   "cell_type": "code",
   "execution_count": 12,
   "metadata": {},
   "outputs": [
    {
     "data": {
      "text/plain": [
       "'test_proyecto_investigacion2'"
      ]
     },
     "execution_count": 12,
     "metadata": {},
     "output_type": "execute_result"
    }
   ],
   "source": [
    "test_pi2 = ontologia.Proyecto_investigacion(\"test_proyecto_investigacion2\")\n",
    "test_pi2.get_name()"
   ]
  },
  {
   "cell_type": "code",
   "execution_count": 13,
   "metadata": {
    "scrolled": true
   },
   "outputs": [],
   "source": [
    "ontologia.save()"
   ]
  },
  {
   "cell_type": "code",
   "execution_count": 14,
   "metadata": {},
   "outputs": [
    {
     "data": {
      "text/plain": [
       "[OntologiaTest.test_proyecto_investigacion1,\n",
       " OntologiaTest.test_proyecto_investigacion2]"
      ]
     },
     "execution_count": 14,
     "metadata": {},
     "output_type": "execute_result"
    }
   ],
   "source": [
    "list(ontologia.individuals())"
   ]
  },
  {
   "cell_type": "markdown",
   "metadata": {},
   "source": [
    "Instancias de Grupo de Investigacion\n"
   ]
  },
  {
   "cell_type": "code",
   "execution_count": 16,
   "metadata": {},
   "outputs": [
    {
     "data": {
      "text/plain": [
       "'test_grupo_investigacion1'"
      ]
     },
     "execution_count": 16,
     "metadata": {},
     "output_type": "execute_result"
    }
   ],
   "source": [
    "test_gi1 = ontologia.Grupo_investigacion(\"test_grupo_investigacion1\")\n",
    "test_gi1.get_name()"
   ]
  },
  {
   "cell_type": "code",
   "execution_count": 19,
   "metadata": {},
   "outputs": [
    {
     "data": {
      "text/plain": [
       "[OntologiaTest.Investigador, OntologiaTest.Linea_investigacion]"
      ]
     },
     "execution_count": 19,
     "metadata": {},
     "output_type": "execute_result"
    }
   ],
   "source": [
    "list(ontologia.Grupo_investigacion.subclasses())"
   ]
  },
  {
   "cell_type": "code",
   "execution_count": 28,
   "metadata": {},
   "outputs": [
    {
     "data": {
      "text/plain": [
       "'test_investigador1'"
      ]
     },
     "execution_count": 28,
     "metadata": {},
     "output_type": "execute_result"
    }
   ],
   "source": [
    "test_investigador1 = ontologia.Investigador(\"test_investigador1\")\n",
    "test_investigador1.get_name()"
   ]
  },
  {
   "cell_type": "code",
   "execution_count": 43,
   "metadata": {},
   "outputs": [],
   "source": [
    "ontologia.save()"
   ]
  },
  {
   "cell_type": "code",
   "execution_count": 25,
   "metadata": {},
   "outputs": [
    {
     "data": {
      "text/plain": [
       "{OntologiaTest.Grupo_investigacion,\n",
       " OntologiaTest.Investigador,\n",
       " OntologiaTest.Linea_investigacion}"
      ]
     },
     "execution_count": 25,
     "metadata": {},
     "output_type": "execute_result"
    }
   ],
   "source": [
    "ontologia.Grupo_investigacion.descendants()\n"
   ]
  },
  {
   "cell_type": "markdown",
   "metadata": {},
   "source": [
    "Ingresamos la propiedad de nombre de investigador al \"test_investigador1\""
   ]
  },
  {
   "cell_type": "code",
   "execution_count": 38,
   "metadata": {},
   "outputs": [],
   "source": [
    "test_investigador1.nombre_investigador.append(\"David Santiago\")"
   ]
  },
  {
   "cell_type": "code",
   "execution_count": 39,
   "metadata": {},
   "outputs": [
    {
     "data": {
      "text/plain": [
       "['David Santiago']"
      ]
     },
     "execution_count": 39,
     "metadata": {},
     "output_type": "execute_result"
    }
   ],
   "source": [
    "test_investigador1.nombre_investigador"
   ]
  },
  {
   "cell_type": "markdown",
   "metadata": {},
   "source": [
    "Ingresamos la relacion(object_property) \"investigador_pertenece_gi\" con el \"test_gi1\""
   ]
  },
  {
   "cell_type": "code",
   "execution_count": 41,
   "metadata": {},
   "outputs": [],
   "source": [
    "test_investigador1.investigador_pertenece_gi.append(test_gi1)"
   ]
  },
  {
   "cell_type": "code",
   "execution_count": 42,
   "metadata": {},
   "outputs": [
    {
     "data": {
      "text/plain": [
       "[OntologiaTest.test_grupo_investigacion1]"
      ]
     },
     "execution_count": 42,
     "metadata": {},
     "output_type": "execute_result"
    }
   ],
   "source": [
    "test_investigador1.investigador_pertenece_gi"
   ]
  },
  {
   "cell_type": "code",
   "execution_count": 44,
   "metadata": {},
   "outputs": [],
   "source": [
    "ontologia.save()"
   ]
  }
 ],
 "metadata": {
  "kernelspec": {
   "display_name": "Python 3",
   "language": "python",
   "name": "python3"
  },
  "language_info": {
   "codemirror_mode": {
    "name": "ipython",
    "version": 3
   },
   "file_extension": ".py",
   "mimetype": "text/x-python",
   "name": "python",
   "nbconvert_exporter": "python",
   "pygments_lexer": "ipython3",
   "version": "3.7.7"
  },
  "widgets": {
   "application/vnd.jupyter.widget-state+json": {
    "state": {},
    "version_major": 2,
    "version_minor": 0
   }
  }
 },
 "nbformat": 4,
 "nbformat_minor": 4
}
