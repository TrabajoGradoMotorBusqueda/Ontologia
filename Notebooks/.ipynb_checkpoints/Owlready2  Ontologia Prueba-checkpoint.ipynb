{
 "cells": [
  {
   "cell_type": "markdown",
   "metadata": {},
   "source": [
    "<H3> IMPORTE MODULO Y CARGA DE ONTOLOGIA <H2>"
   ]
  },
  {
   "cell_type": "code",
   "execution_count": 1,
   "metadata": {},
   "outputs": [],
   "source": [
    "from owlready2 import *"
   ]
  },
  {
   "cell_type": "code",
   "execution_count": 2,
   "metadata": {
    "scrolled": true
   },
   "outputs": [
    {
     "data": {
      "text/plain": [
       "get_ontology(\"http://www.semanticweb.org/OntologiaInvestigacionTest#\")"
      ]
     },
     "execution_count": 2,
     "metadata": {},
     "output_type": "execute_result"
    }
   ],
   "source": [
    "# agregar la carpeta que contiene la ontologia, para busqueda local, sino en internet\n",
    "onto_path.append(\"../Data\") \n",
    "\n",
    "# carga de ontologia por IRI o por ruta directa al archivo owl\n",
    "\n",
    "ontologia = get_ontology(\"http://www.semanticweb.org/OntologiaInvestigacionTest\")\n",
    "ontologia.load()"
   ]
  },
  {
   "cell_type": "markdown",
   "metadata": {},
   "source": [
    "<H3> VISUALIZACIÓN DE ALGUNOS DATOS DE LA ONTOLOGIA <H3>"
   ]
  },
  {
   "cell_type": "code",
   "execution_count": 4,
   "metadata": {
    "scrolled": true
   },
   "outputs": [
    {
     "data": {
      "text/plain": [
       "OntologiaInvestigacionTest.proyecto_investigacion1"
      ]
     },
     "execution_count": 4,
     "metadata": {},
     "output_type": "execute_result"
    }
   ],
   "source": [
    "test_pi = ontologia.Proyecto_investigacion()\n",
    "test_pi"
   ]
  },
  {
   "cell_type": "code",
   "execution_count": 11,
   "metadata": {},
   "outputs": [
    {
     "ename": "NameError",
     "evalue": "name 'Proyecto_investigacionto' is not defined",
     "output_type": "error",
     "traceback": [
      "\u001b[0;31m---------------------------------------------------------------------------\u001b[0m",
      "\u001b[0;31mNameError\u001b[0m                                 Traceback (most recent call last)",
      "\u001b[0;32m<ipython-input-11-7f0e9aebef74>\u001b[0m in \u001b[0;36m<module>\u001b[0;34m\u001b[0m\n\u001b[1;32m      1\u001b[0m \u001b[0;32mwith\u001b[0m \u001b[0montologia\u001b[0m\u001b[0;34m:\u001b[0m\u001b[0;34m\u001b[0m\u001b[0;34m\u001b[0m\u001b[0m\n\u001b[0;32m----> 2\u001b[0;31m     \u001b[0;32mclass\u001b[0m \u001b[0mProyecto_investigacion\u001b[0m\u001b[0;34m(\u001b[0m\u001b[0mThing\u001b[0m\u001b[0;34m)\u001b[0m\u001b[0;34m:\u001b[0m\u001b[0;34m\u001b[0m\u001b[0;34m\u001b[0m\u001b[0m\n\u001b[0m\u001b[1;32m      3\u001b[0m         \u001b[0mtitulo\u001b[0m \u001b[0;34m=\u001b[0m \u001b[0;34m\"\"\u001b[0m\u001b[0;34m\u001b[0m\u001b[0;34m\u001b[0m\u001b[0m\n\u001b[1;32m      4\u001b[0m         \u001b[0mProyecto_investigacionto\u001b[0m\u001b[0;34m.\u001b[0m\u001b[0mtitulo_proyecto_investigacion\u001b[0m\u001b[0;34m.\u001b[0m\u001b[0mappend\u001b[0m\u001b[0;34m(\u001b[0m\u001b[0;34m\"\"\u001b[0m\u001b[0;34m)\u001b[0m\u001b[0;34m\u001b[0m\u001b[0;34m\u001b[0m\u001b[0m\n\u001b[1;32m      5\u001b[0m \u001b[0;34m\u001b[0m\u001b[0m\n",
      "\u001b[0;32m<ipython-input-11-7f0e9aebef74>\u001b[0m in \u001b[0;36mProyecto_investigacion\u001b[0;34m()\u001b[0m\n\u001b[1;32m      2\u001b[0m     \u001b[0;32mclass\u001b[0m \u001b[0mProyecto_investigacion\u001b[0m\u001b[0;34m(\u001b[0m\u001b[0mThing\u001b[0m\u001b[0;34m)\u001b[0m\u001b[0;34m:\u001b[0m\u001b[0;34m\u001b[0m\u001b[0;34m\u001b[0m\u001b[0m\n\u001b[1;32m      3\u001b[0m         \u001b[0mtitulo\u001b[0m \u001b[0;34m=\u001b[0m \u001b[0;34m\"\"\u001b[0m\u001b[0;34m\u001b[0m\u001b[0;34m\u001b[0m\u001b[0m\n\u001b[0;32m----> 4\u001b[0;31m         \u001b[0mProyecto_investigacionto\u001b[0m\u001b[0;34m.\u001b[0m\u001b[0mtitulo_proyecto_investigacion\u001b[0m\u001b[0;34m.\u001b[0m\u001b[0mappend\u001b[0m\u001b[0;34m(\u001b[0m\u001b[0;34m\"\"\u001b[0m\u001b[0;34m)\u001b[0m\u001b[0;34m\u001b[0m\u001b[0;34m\u001b[0m\u001b[0m\n\u001b[0m\u001b[1;32m      5\u001b[0m \u001b[0;34m\u001b[0m\u001b[0m\n\u001b[1;32m      6\u001b[0m         \u001b[0;32mdef\u001b[0m \u001b[0mset_titulo\u001b[0m\u001b[0;34m(\u001b[0m\u001b[0mself\u001b[0m\u001b[0;34m,\u001b[0m \u001b[0mtitulo\u001b[0m\u001b[0;34m)\u001b[0m\u001b[0;34m:\u001b[0m\u001b[0;34m\u001b[0m\u001b[0;34m\u001b[0m\u001b[0m\n",
      "\u001b[0;31mNameError\u001b[0m: name 'Proyecto_investigacionto' is not defined"
     ]
    }
   ],
   "source": [
    "with ontologia:\n",
    "    class Proyecto_investigacion(Thing):\n",
    "        titulo = \"\"\n",
    "        \n",
    "        def set_titulo(self, titulo):\n",
    "            self.titulo = titulo\n",
    "            self.titulo_proyecto_investigacion.clear()\n",
    "            self.titulo_proyecto_investigacion.append(titulo)\n"
   ]
  },
  {
   "cell_type": "code",
   "execution_count": null,
   "metadata": {},
   "outputs": [],
   "source": [
    "def instanciar_PI(nombre, titulo, resumen):\n",
    "    proyecto = Proyecto_investigacion()\n",
    "    proyecto.set"
   ]
  },
  {
   "cell_type": "code",
   "execution_count": 7,
   "metadata": {},
   "outputs": [],
   "source": [
    "test_pi = Proyecto_investigacion(\"nombre3\")"
   ]
  },
  {
   "cell_type": "code",
   "execution_count": 11,
   "metadata": {},
   "outputs": [
    {
     "data": {
      "text/plain": [
       "OntologiaInvestigacionTest.nombre2"
      ]
     },
     "execution_count": 11,
     "metadata": {},
     "output_type": "execute_result"
    }
   ],
   "source": [
    "test_pi.set_name(\"nombre2\")\n",
    "test_pi\n"
   ]
  },
  {
   "cell_type": "code",
   "execution_count": 8,
   "metadata": {},
   "outputs": [
    {
     "data": {
      "text/plain": [
       "['Tituli 3']"
      ]
     },
     "execution_count": 8,
     "metadata": {},
     "output_type": "execute_result"
    }
   ],
   "source": [
    "test_pi.set_titulo(\"Tituli 3\")\n",
    "test_pi.titulo_proyecto_investigacion"
   ]
  },
  {
   "cell_type": "code",
   "execution_count": 9,
   "metadata": {},
   "outputs": [
    {
     "data": {
      "text/plain": [
       "'Tituli 3'"
      ]
     },
     "execution_count": 9,
     "metadata": {},
     "output_type": "execute_result"
    }
   ],
   "source": [
    "test_pi.titulo"
   ]
  },
  {
   "cell_type": "code",
   "execution_count": 10,
   "metadata": {},
   "outputs": [],
   "source": [
    "ontologia.save()"
   ]
  },
  {
   "cell_type": "code",
   "execution_count": 5,
   "metadata": {},
   "outputs": [
    {
     "data": {
      "text/plain": [
       "[OntologiaInvestigacionTest.otro_nombre, OntologiaInvestigacionTest.nombre2]"
      ]
     },
     "execution_count": 5,
     "metadata": {},
     "output_type": "execute_result"
    }
   ],
   "source": [
    "proyectos_investigacion = list(ontologia.individuals())\n",
    "proyectos_investigacion"
   ]
  },
  {
   "cell_type": "code",
   "execution_count": 6,
   "metadata": {},
   "outputs": [],
   "source": [
    "nombre2 = proyectos_investigacion[1]\n",
    "nombre2.set_titulo(\"Titulo  wertyukmnbvcfgh\")"
   ]
  },
  {
   "cell_type": "code",
   "execution_count": 11,
   "metadata": {},
   "outputs": [],
   "source": [
    "nombre2.titulo_proyecto_investigacion[0] = \"Alias\""
   ]
  },
  {
   "cell_type": "code",
   "execution_count": 10,
   "metadata": {
    "collapsed": true
   },
   "outputs": [
    {
     "name": "stdout",
     "output_type": "stream",
     "text": [
      "Help on class titulo_proyecto_investigacion in module owlready2.entity:\n",
      "\n",
      "class titulo_proyecto_investigacion(owlready2.prop.DatatypeProperty)\n",
      " |  Method resolution order:\n",
      " |      titulo_proyecto_investigacion\n",
      " |      owlready2.prop.DatatypeProperty\n",
      " |      owlready2.prop.Property\n",
      " |      builtins.object\n",
      " |  \n",
      " |  Data and other attributes defined here:\n",
      " |  \n",
      " |  is_a = [owl.DatatypeProperty]\n",
      " |  \n",
      " |  namespace = get_ontology(\"http://www.semanticweb.org/OntologiaInvestig...\n",
      " |  \n",
      " |  storid = 422\n",
      " |  \n",
      " |  ----------------------------------------------------------------------\n",
      " |  Class methods inherited from owlready2.prop.Property:\n",
      " |  \n",
      " |  get_relations() from owlready2.prop.DataPropertyClass\n",
      " |  \n",
      " |  is_functional_for(Class, force_restriction=False) from owlready2.prop.DataPropertyClass\n",
      " |  \n",
      " |  ----------------------------------------------------------------------\n",
      " |  Data descriptors inherited from owlready2.prop.Property:\n",
      " |  \n",
      " |  __dict__\n",
      " |      dictionary for instance variables (if defined)\n",
      " |  \n",
      " |  __weakref__\n",
      " |      list of weak references to the object (if defined)\n",
      "\n"
     ]
    }
   ],
   "source": [
    "help(ontologia.titulo_proyecto_investigacion)"
   ]
  },
  {
   "cell_type": "code",
   "execution_count": 12,
   "metadata": {},
   "outputs": [],
   "source": [
    "ontologia.save()"
   ]
  },
  {
   "cell_type": "code",
   "execution_count": 3,
   "metadata": {},
   "outputs": [],
   "source": [
    "clases_ontologia = ontologia.classes()"
   ]
  },
  {
   "cell_type": "code",
   "execution_count": 4,
   "metadata": {
    "scrolled": true
   },
   "outputs": [
    {
     "data": {
      "text/plain": [
       "[OntologiaInvestigacionTest.Convocatoria,\n",
       " OntologiaInvestigacionTest.Departamento,\n",
       " OntologiaInvestigacionTest.Docente,\n",
       " OntologiaInvestigacionTest.Estudiante,\n",
       " OntologiaInvestigacionTest.Facultad,\n",
       " OntologiaInvestigacionTest.Grupo_investigacion,\n",
       " OntologiaInvestigacionTest.Investigador,\n",
       " OntologiaInvestigacionTest.Investigador_externo,\n",
       " OntologiaInvestigacionTest.Linea_investigacion,\n",
       " OntologiaInvestigacionTest.Palabra,\n",
       " OntologiaInvestigacionTest.Programa,\n",
       " OntologiaInvestigacionTest.Proyecto_investigacion,\n",
       " OntologiaInvestigacionTest.Universidad,\n",
       " OntologiaInvestigacionTest.VIIS]"
      ]
     },
     "execution_count": 4,
     "metadata": {},
     "output_type": "execute_result"
    }
   ],
   "source": [
    "list(clases_ontologia)"
   ]
  },
  {
   "cell_type": "code",
   "execution_count": 5,
   "metadata": {},
   "outputs": [],
   "source": [
    "atributos_ontologia = ontologia.data_properties()"
   ]
  },
  {
   "cell_type": "code",
   "execution_count": 6,
   "metadata": {
    "scrolled": true
   },
   "outputs": [
    {
     "data": {
      "text/plain": [
       "[OntologiaInvestigacionTest.anio_convocatoria,\n",
       " OntologiaInvestigacionTest.apellidos_docente,\n",
       " OntologiaInvestigacionTest.apellidos_estudiante,\n",
       " OntologiaInvestigacionTest.apellidos_investigador_externo,\n",
       " OntologiaInvestigacionTest.cedula_docente,\n",
       " OntologiaInvestigacionTest.cedula_estudiante,\n",
       " OntologiaInvestigacionTest.cedula_investigador_externo,\n",
       " OntologiaInvestigacionTest.codigo_docente,\n",
       " OntologiaInvestigacionTest.codigo_estudiante,\n",
       " OntologiaInvestigacionTest.concepto_palabra,\n",
       " OntologiaInvestigacionTest.correo_docente,\n",
       " OntologiaInvestigacionTest.correo_estudiante,\n",
       " OntologiaInvestigacionTest.correo_investigador_externo,\n",
       " OntologiaInvestigacionTest.descripcion_palabra,\n",
       " OntologiaInvestigacionTest.estado_proyecto_investigacion,\n",
       " OntologiaInvestigacionTest.id_convocatoria,\n",
       " OntologiaInvestigacionTest.id_departamento,\n",
       " OntologiaInvestigacionTest.id_diccionario,\n",
       " OntologiaInvestigacionTest.id_docente,\n",
       " OntologiaInvestigacionTest.id_estudiante,\n",
       " OntologiaInvestigacionTest.id_facultad,\n",
       " OntologiaInvestigacionTest.id_grupo_investigacion,\n",
       " OntologiaInvestigacionTest.id_investigador,\n",
       " OntologiaInvestigacionTest.id_investigador_externo,\n",
       " OntologiaInvestigacionTest.id_linea_investigacion,\n",
       " OntologiaInvestigacionTest.id_palabra,\n",
       " OntologiaInvestigacionTest.id_programa,\n",
       " OntologiaInvestigacionTest.id_proyecto_investigacion,\n",
       " OntologiaInvestigacionTest.id_universidad,\n",
       " OntologiaInvestigacionTest.id_viis,\n",
       " OntologiaInvestigacionTest.lema_palabra,\n",
       " OntologiaInvestigacionTest.nombre_VIIS,\n",
       " OntologiaInvestigacionTest.nombre_convocatoria,\n",
       " OntologiaInvestigacionTest.nombre_departamento,\n",
       " OntologiaInvestigacionTest.nombre_diccionario,\n",
       " OntologiaInvestigacionTest.nombre_facultad,\n",
       " OntologiaInvestigacionTest.nombre_grupo_investigacion,\n",
       " OntologiaInvestigacionTest.nombre_investigador,\n",
       " OntologiaInvestigacionTest.nombre_linea_investigacion,\n",
       " OntologiaInvestigacionTest.nombre_programa,\n",
       " OntologiaInvestigacionTest.nombre_universidad,\n",
       " OntologiaInvestigacionTest.nombres_docente,\n",
       " OntologiaInvestigacionTest.nombres_estudiante,\n",
       " OntologiaInvestigacionTest.nombres_investigador_externo,\n",
       " OntologiaInvestigacionTest.palabra_clave1,\n",
       " OntologiaInvestigacionTest.palabra_clave2,\n",
       " OntologiaInvestigacionTest.palabra_clave3,\n",
       " OntologiaInvestigacionTest.palabra_clave4,\n",
       " OntologiaInvestigacionTest.palabra_clave5,\n",
       " OntologiaInvestigacionTest.resumen_proyecto_investigacion,\n",
       " OntologiaInvestigacionTest.significado_palabra,\n",
       " OntologiaInvestigacionTest.tipo_convocatoria,\n",
       " OntologiaInvestigacionTest.tipo_palabra,\n",
       " OntologiaInvestigacionTest.tipo_proyecto_investigacion,\n",
       " OntologiaInvestigacionTest.titulo_proyecto_investigacion]"
      ]
     },
     "execution_count": 6,
     "metadata": {},
     "output_type": "execute_result"
    }
   ],
   "source": [
    "list(atributos_ontologia)"
   ]
  },
  {
   "cell_type": "code",
   "execution_count": 7,
   "metadata": {},
   "outputs": [],
   "source": [
    "object_properties = ontologia.object_properties()"
   ]
  },
  {
   "cell_type": "code",
   "execution_count": 8,
   "metadata": {
    "collapsed": true
   },
   "outputs": [
    {
     "data": {
      "text/plain": [
       "[ontologiaPrueba.convocatoria_dirigida_investigador,\n",
       " ontologiaPrueba.investigador_se_encuentra_convocatoria,\n",
       " ontologiaPrueba.convocatoria_pertenece_viis,\n",
       " ontologiaPrueba.viis_tiene_convocatoria,\n",
       " ontologiaPrueba.convocatoria_tiene_pi,\n",
       " ontologiaPrueba.pi_pertenece_convocatoria,\n",
       " ontologiaPrueba.departamento_pertenece_facultad,\n",
       " ontologiaPrueba.facultad_tiene_departamento,\n",
       " ontologiaPrueba.departamento_tiene_gi,\n",
       " ontologiaPrueba.gi_pertenece_departamento,\n",
       " ontologiaPrueba.departamento_tiene_programa,\n",
       " ontologiaPrueba.programa_pertenece_departamento,\n",
       " ontologiaPrueba.diccionario_tiene_palabra,\n",
       " ontologiaPrueba.palabra_pertenece_diccionario,\n",
       " ontologiaPrueba.docente_es_investigador,\n",
       " ontologiaPrueba.investigador_puede_ser_docente,\n",
       " ontologiaPrueba.docente_pertenece_gi,\n",
       " ontologiaPrueba.gi_tiene_docente,\n",
       " ontologiaPrueba.docente_pertenece_programa,\n",
       " ontologiaPrueba.programa_tiene_docente,\n",
       " ontologiaPrueba.docente_puede_asesorar_pi,\n",
       " ontologiaPrueba.pi_puede_ser_asesorado_docente,\n",
       " ontologiaPrueba.docente_puede_realizar_pi,\n",
       " ontologiaPrueba.pi_puede_ser_realizado_docente,\n",
       " ontologiaPrueba.estudiante_es_investigador,\n",
       " ontologiaPrueba.investigador_puede_ser_estudiante,\n",
       " ontologiaPrueba.estudiante_pertenece_gi,\n",
       " ontologiaPrueba.gi_tiene_estudiante,\n",
       " ontologiaPrueba.estudiante_pertenece_programa,\n",
       " ontologiaPrueba.programa_tiene_estudiante,\n",
       " ontologiaPrueba.estudiante_realiza_pi,\n",
       " ontologiaPrueba.pi_puede_ser_realizado_estudiante,\n",
       " ontologiaPrueba.facultad_pertenece_universidad,\n",
       " ontologiaPrueba.universidad_tiene_facultad,\n",
       " ontologiaPrueba.gi_esta_adscrito_viis,\n",
       " ontologiaPrueba.viis_adscribe_gi,\n",
       " ontologiaPrueba.gi_tiene_investigador,\n",
       " ontologiaPrueba.investigador_pertenece_gi,\n",
       " ontologiaPrueba.gi_tiene_li,\n",
       " ontologiaPrueba.li_pertenece_gi,\n",
       " ontologiaPrueba.ie_es_investigador,\n",
       " ontologiaPrueba.investigador_puede_ser_ie,\n",
       " ontologiaPrueba.investigador_pertenece_viis,\n",
       " ontologiaPrueba.viis_tiene_investigador,\n",
       " ontologiaPrueba.li_tiene_pi,\n",
       " ontologiaPrueba.pi_pertenece_li,\n",
       " ontologiaPrueba.palabra_conecta_palabra,\n",
       " ontologiaPrueba.palabra_describe_pi,\n",
       " ontologiaPrueba.pi_tiene_palabra,\n",
       " ontologiaPrueba.palabra_sinonimo_palabra,\n",
       " ontologiaPrueba.pi_pertenece_viis,\n",
       " ontologiaPrueba.viis_tiene_pi,\n",
       " ontologiaPrueba.universidad_tiene_viis,\n",
       " ontologiaPrueba.viis_pertenece_universidad]"
      ]
     },
     "execution_count": 8,
     "metadata": {},
     "output_type": "execute_result"
    }
   ],
   "source": [
    "list(object_properties)"
   ]
  },
  {
   "cell_type": "code",
   "execution_count": 9,
   "metadata": {},
   "outputs": [
    {
     "name": "stdout",
     "output_type": "stream",
     "text": [
      "ontologiaPrueba.Estudiante\n",
      "ontologiaPrueba.programa_tiene_estudiante\n",
      "ontologiaPrueba.id_estudiante\n"
     ]
    }
   ],
   "source": [
    "#Para ver como lo almacena la ontología\n",
    "\n",
    "#imprimir una clase conocida\n",
    "print(ontologia.Estudiante)\n",
    "\n",
    "#imprimir un object_property conocido\n",
    "print(ontologia.programa_tiene_estudiante)\n",
    "\n",
    "#imprimir un data_property conocido\n",
    "print(ontologia.id_estudiante)"
   ]
  },
  {
   "cell_type": "code",
   "execution_count": 10,
   "metadata": {},
   "outputs": [
    {
     "name": "stdout",
     "output_type": "stream",
     "text": [
      "http://www.semanticweb.org/ontologiaPrueba#Estudiante\n"
     ]
    }
   ],
   "source": [
    "print(ontologia.Estudiante.iri)"
   ]
  },
  {
   "cell_type": "code",
   "execution_count": 11,
   "metadata": {},
   "outputs": [
    {
     "name": "stdout",
     "output_type": "stream",
     "text": [
      "[ontologiaPrueba.Diccionario]\n",
      "[ontologiaPrueba.Programa]\n"
     ]
    }
   ],
   "source": [
    "#superclase inmediata de la clase dada\n",
    "print(ontologia.Palabra.is_a)\n",
    "\n",
    "print(ontologia.Estudiante.is_a)"
   ]
  },
  {
   "cell_type": "code",
   "execution_count": 12,
   "metadata": {},
   "outputs": [
    {
     "name": "stdout",
     "output_type": "stream",
     "text": [
      "[ontologiaPrueba.Palabra]\n",
      "[ontologiaPrueba.VIIS, ontologiaPrueba.Facultad]\n"
     ]
    }
   ],
   "source": [
    "#subclases inmediatas de la clase dada\n",
    "\n",
    "print(list(ontologia.Diccionario.subclasses()))\n",
    "\n",
    "print(list(ontologia.Universidad.subclasses()))"
   ]
  },
  {
   "cell_type": "code",
   "execution_count": 13,
   "metadata": {
    "scrolled": true
   },
   "outputs": [
    {
     "name": "stdout",
     "output_type": "stream",
     "text": [
      "ancestros: [ontologiaPrueba.Departamento, ontologiaPrueba.Facultad, owl.Thing, ontologiaPrueba.Universidad]\n",
      "\n",
      "descendientes: [ontologiaPrueba.Estudiante, ontologiaPrueba.Departamento, ontologiaPrueba.Programa, ontologiaPrueba.Docente]\n"
     ]
    }
   ],
   "source": [
    "#ancestros\n",
    "print(\"ancestros: {}\".format(list(ontologia.Departamento.ancestors())) +\"\\n\")\n",
    "\n",
    "#descendientes\n",
    "print(\"descendientes: {}\".format(list(ontologia.Departamento.descendants())))\n"
   ]
  },
  {
   "cell_type": "markdown",
   "metadata": {},
   "source": [
    "<H3> CREACION DE INSTANCIAS <H3>"
   ]
  },
  {
   "cell_type": "code",
   "execution_count": 14,
   "metadata": {},
   "outputs": [],
   "source": [
    "instancia_diccionario1 = ontologia.Diccionario (\"diccionario1\")\n",
    "\n",
    "instancia_diccionario2 = ontologia.Diccionario (\"diccionario2\")\n",
    "\n",
    "instancia_diccionario3 = ontologia.Diccionario (\"diccionario3\")"
   ]
  },
  {
   "cell_type": "code",
   "execution_count": 15,
   "metadata": {},
   "outputs": [
    {
     "name": "stdout",
     "output_type": "stream",
     "text": [
      "diccionario1\n",
      "diccionario1\n"
     ]
    }
   ],
   "source": [
    "print(instancia_diccionario1.name)\n",
    "print(instancia_diccionario1.get_name())"
   ]
  },
  {
   "cell_type": "code",
   "execution_count": 16,
   "metadata": {},
   "outputs": [
    {
     "name": "stdout",
     "output_type": "stream",
     "text": [
      "http://www.semanticweb.org/ontologiaPrueba#diccionario1\n"
     ]
    }
   ],
   "source": [
    "print(instancia_diccionario1.iri)"
   ]
  },
  {
   "cell_type": "code",
   "execution_count": 17,
   "metadata": {},
   "outputs": [
    {
     "data": {
      "text/plain": [
       "[ontologiaPrueba.diccionario1,\n",
       " ontologiaPrueba.diccionario2,\n",
       " ontologiaPrueba.diccionario3,\n",
       " ontologiaPrueba.estudiante1,\n",
       " ontologiaPrueba.estudiante2,\n",
       " ontologiaPrueba.programa1]"
      ]
     },
     "execution_count": 17,
     "metadata": {},
     "output_type": "execute_result"
    }
   ],
   "source": [
    "#para saber si se ha creado dicha instancia, se visualizan las instancias de la ontologia\n",
    "\n",
    "list(ontologia.individuals())"
   ]
  },
  {
   "cell_type": "code",
   "execution_count": 18,
   "metadata": {},
   "outputs": [
    {
     "name": "stdout",
     "output_type": "stream",
     "text": [
      "ontologiaPrueba.diccionario1\n",
      "ontologiaPrueba.diccionario2\n",
      "ontologiaPrueba.diccionario3\n"
     ]
    }
   ],
   "source": [
    "#las instancias de diccionario\n",
    "\n",
    "for i in ontologia.Diccionario.instances(): print(i)"
   ]
  },
  {
   "cell_type": "code",
   "execution_count": 19,
   "metadata": {
    "scrolled": true
   },
   "outputs": [
    {
     "data": {
      "text/plain": [
       "ontologiaPrueba.Diccionario"
      ]
     },
     "execution_count": 19,
     "metadata": {},
     "output_type": "execute_result"
    }
   ],
   "source": [
    "#conocer la clase de la instancia\n",
    "\n",
    "instancia_diccionario1.__class__"
   ]
  },
  {
   "cell_type": "markdown",
   "metadata": {},
   "source": [
    "<H3>BUSQUEDA</H3>"
   ]
  },
  {
   "cell_type": "code",
   "execution_count": 20,
   "metadata": {
    "scrolled": true
   },
   "outputs": [
    {
     "data": {
      "text/plain": [
       "[ontologiaPrueba.Diccionario, ontologiaPrueba.diccionario1, ontologiaPrueba.diccionario2, ontologiaPrueba.diccionario3, ontologiaPrueba.Palabra]"
      ]
     },
     "execution_count": 20,
     "metadata": {},
     "output_type": "execute_result"
    }
   ],
   "source": [
    "# search para algunas consultas, pero mejor sparql con WORLDS,\n",
    "# is_a busca los individuals(instancias) y las subclases de la clase diccionario\n",
    "\n",
    "\n",
    "ontologia.search(is_a = ontologia.Diccionario)\n",
    "\n",
    "# se pueden hacer consultas anidadas"
   ]
  },
  {
   "cell_type": "markdown",
   "metadata": {},
   "source": [
    "<H3> RELACION ENTRE INSTANCIAS (OBJECT PROPERTIES)     </H3>"
   ]
  },
  {
   "cell_type": "code",
   "execution_count": 21,
   "metadata": {},
   "outputs": [],
   "source": [
    "instancia_programa1 = ontologia.Programa(\"programa1\")\n",
    "instancia_estudiante1 = ontologia.Estudiante(\"estudiante1\")\n",
    "\n",
    "instancia_programa1.programa_tiene_estudiante = [instancia_estudiante1]"
   ]
  },
  {
   "cell_type": "code",
   "execution_count": 22,
   "metadata": {},
   "outputs": [
    {
     "name": "stdout",
     "output_type": "stream",
     "text": [
      "[ontologiaPrueba.estudiante1]\n"
     ]
    }
   ],
   "source": [
    "#imprime el nombre de la instancia que se relaciona con dicha triple (instancia rango)\n",
    "\n",
    "print(instancia_programa1.programa_tiene_estudiante)"
   ]
  },
  {
   "cell_type": "code",
   "execution_count": 23,
   "metadata": {},
   "outputs": [],
   "source": [
    "# validar si existe y luego appendear las otras instancias con dicha triple\n",
    "\n",
    "instancia_estudiante2 = ontologia.Estudiante(\"estudiante2\")\n",
    "instancia_programa1.programa_tiene_estudiante.append(instancia_estudiante2)\n",
    "#ya no fue necesario los corchetes [] sino solo append porque\n",
    "#ya hay instancias \"rango\", en este caso dos estudiantes"
   ]
  },
  {
   "cell_type": "code",
   "execution_count": 24,
   "metadata": {
    "scrolled": true
   },
   "outputs": [
    {
     "name": "stdout",
     "output_type": "stream",
     "text": [
      "[ontologiaPrueba.estudiante1, ontologiaPrueba.estudiante2]\n"
     ]
    }
   ],
   "source": [
    "print(instancia_programa1.programa_tiene_estudiante)"
   ]
  },
  {
   "cell_type": "markdown",
   "metadata": {},
   "source": [
    "<font color = \"00FF00\"> <H6>cuando se definan clases con Python, se podrá definir object properties, con su inversa,\n",
    "para que cuando se instancie una object propertie, automaticamente por debajo se instancie la inversa </H6>"
   ]
  },
  {
   "cell_type": "markdown",
   "metadata": {},
   "source": [
    "<H3>ATRIBUTOS DE INSTANCIAS (DATA PROPERTIES)</H3>"
   ]
  },
  {
   "cell_type": "code",
   "execution_count": 25,
   "metadata": {},
   "outputs": [],
   "source": [
    "instancia_estudiante1.id_estudiante = [\"1\"]\n",
    "instancia_estudiante1.nombres_estudiante = [\"Sara\"]\n",
    "instancia_estudiante1.apellidos_estudiante = [\"Taylor\"]\n",
    "instancia_estudiante1.codigo_estudiante = [\"100\"]\n",
    "instancia_estudiante1.cedula_estudiante = [\"100\"]\n",
    "instancia_estudiante1.correo_estudiante = [\"correo@dominio.com\"]"
   ]
  },
  {
   "cell_type": "markdown",
   "metadata": {},
   "source": [
    "<H3> ALMACENAR LOS CAMBIOS REALIZADOS EN OWL <H3>"
   ]
  },
  {
   "cell_type": "code",
   "execution_count": 26,
   "metadata": {},
   "outputs": [],
   "source": [
    "ontologia.save()"
   ]
  },
  {
   "cell_type": "code",
   "execution_count": 12,
   "metadata": {},
   "outputs": [
    {
     "data": {
      "text/plain": [
       "[]"
      ]
     },
     "execution_count": 12,
     "metadata": {},
     "output_type": "execute_result"
    }
   ],
   "source": [
    "ontologia.Docente.equivalent_to"
   ]
  }
 ],
 "metadata": {
  "kernelspec": {
   "display_name": "Python 3",
   "language": "python",
   "name": "python3"
  },
  "language_info": {
   "codemirror_mode": {
    "name": "ipython",
    "version": 3
   },
   "file_extension": ".py",
   "mimetype": "text/x-python",
   "name": "python",
   "nbconvert_exporter": "python",
   "pygments_lexer": "ipython3",
   "version": "3.7.7"
  }
 },
 "nbformat": 4,
 "nbformat_minor": 4
}
